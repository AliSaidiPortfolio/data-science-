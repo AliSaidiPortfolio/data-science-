{
  "cells": [
    {
      "cell_type": "markdown",
      "source": [
        "\n",
        "#Ghassen Hammami\n",
        "#Nermine Othmane\n",
        "#Ali Saidi\n",
        "#Saif Eddine Missaoui\n",
        "#Youssef Ben Amara\n",
        "#Baha Ghrissi\n",
        "\n",
        "\n"
      ],
      "metadata": {
        "id": "SirD1hKaOhAC"
      }
    },
    {
      "cell_type": "markdown",
      "source": [
        "##Partie 1"
      ],
      "metadata": {
        "id": "EaZOoyf2OcNK"
      }
    },
    {
      "cell_type": "markdown",
      "source": [
        "1)on a σ(z) = 1/(1 + e−z) f(θ)\n",
        "= -log(Σ i=1 m P(yi| xi,θ))\n",
        "=-log (P(yi = 1 | xi, θ) + P(yi = 0 | x, θ)\n",
        "=-log(σ(⟨xi, x⟩ + b)^(yi)+  σ(−⟨xi, x⟩ − b)^(1-yi))\n",
        "avec θ=(x, b)=-log( (1/1+e^-<xi,x>+b)^yi + (1/1+e^-<xi,x>-b)^(1-yi)) \n",
        "=yi log((1+e^-<xi,x>+b) + (1-yi)* log(1+e^<xi,x>+b) =yi* log(1+e^-<xi,θ>) +(1-yi)* log(1+e^<xi,θ>)"
      ],
      "metadata": {
        "id": "c_vnWYN4KP_6"
      }
    },
    {
      "cell_type": "markdown",
      "source": [
        "2)\n",
        "Soit 𝜆∈ 0,1 et x , y ∈ ℜ log (1 + exp ( 𝜆 x + ((1 - 𝜆 ) y )) \n",
        "= log ( 1 + exp ( 𝜆 x + y - 𝜆 y ) ) et 𝜆 log (1 + exp ( x )) + (1 - 𝜆 ) log (1 + exp ( y )) \n",
        "= log ( (1 + exp ( x )) 𝜆 ) + log ( (1 + exp ( y )) ( 1 - 𝜆) ) \n",
        "= log ((1 + exp ( x )) 𝜆 ) (1 + exp ( y )) ( 1 - 𝜆) ) \n",
        "or (1 + exp ( x )) 𝜆 ≻ exp ( x ) 𝜆 + 1 et (1 + exp ( y )) ( 1 - 𝜆) ≻ exp ( y ) ( 1 - 𝜆) + 1 \n",
        "donc (1 + exp ( x )) 𝜆 (1 + exp ( y )) ( 1 - 𝜆) ≻ exp ( y ) ( 1 - 𝜆) exp ( x ) 𝜆 + 1 (1 + exp ( x )) 𝜆 (1 + exp ( y )) ( 1 - 𝜆) ≻ exp ( 𝜆x + y - 𝜆y ) ) + 1 et \n",
        "log est une fonction croissante  ainsi log ((1 + exp ( x )) 𝜆 (1 + exp ( y )) ( 1 - 𝜆) ) ≻ log (1 + exp ( 𝜆 x + ((1 - 𝜆 ) y )) donc 𝜆 log ((1 + exp ( x )) + (1 - 𝜆 ) log ((1 + exp ( y )) ≻ log (1 + exp ( 𝜆 x + ((1 - 𝜆 ) y )) Ainsi log ((1 + exp ( x )) est convexe."
      ],
      "metadata": {
        "id": "h89NrtKHKvoa"
      }
    },
    {
      "cell_type": "markdown",
      "source": [
        "3)\n",
        "On a ⨍ ( ϴ ) = m ∑ i=1 y i log (1 + exp -< ⏨ x i, ϴ> ) + 1-y i log (1 + exp < ⏨ x i, ϴ> ) \n",
        "Or log ((1 + exp ( x )) est convexe donc y i log ((1 + exp ( x )) est convexe et ( 1-y i ) log ((1 + exp ( x )) est convexe car y i ∈ 0,1 donc y i log ((1 + exp ( x )) + ( 1-y i ) log ((1 + exp ( x )) est conevexe Ainsi f est convexe."
      ],
      "metadata": {
        "id": "YkIHslRwMubB"
      }
    },
    {
      "cell_type": "markdown",
      "source": [
        "4)\n",
        "On a ⨍ ( ϴ ) = m ∑ i\n",
        "=1 y i log (1 + exp -< ⏨ x i, ϴ> ) + 1-y i log (1 + exp < ⏨ x i, ϴ> ) \n",
        "donc 𝜕⨍ 𝜕ϴ = m ∑ i\n",
        "=1 y i -< ⏨ x i, ϴ>′exp -< ⏨ x i, ϴ> 1 +exp -< ⏨ x i, ϴ> + 1-y i < ⏨ x i, ϴ>′exp < ⏨ x i, ϴ> 1 + exp < ⏨ x i, ϴ> \n",
        "ainsi \n",
        "∇ ⨍ = m ∑ i=1 y i -< ⏨ x i, ϴ>′exp -< ⏨ x i, ϴ> 1 +exp -< ⏨ x i, ϴ> + 1-y i < ⏨ x i, ϴ>′exp < ⏨ x i, ϴ> 1 + exp < ⏨ x i, ϴ>"
      ],
      "metadata": {
        "id": "Kq9zg1C1M4Q5"
      }
    },
    {
      "cell_type": "markdown",
      "source": [
        "5)\n",
        "On a ⨍ est continue ℜ calculons lim ϴ↬+∞ ⨍ lim ϴ↬+∞ ⨍= lim ϴ↬+∞ m ∑ i=1 y ilog 1 + exp -< ⏨ x i, ϴ> + 1-y i log ( 1 + exp < ⏨ x i, ϴ> )\n",
        "= Or lim ϴ↬+∞ log 1 + exp -< ⏨ x i, ϴ> =0 et lim ϴ↬+∞ log 1 + exp < ⏨ x i, ϴ> =+∞ \n",
        "car 1-y i > 0 Ainsi lim ϴ↬+∞ ⨍=+∞ Donc ⨍ admet au moins un minimum."
      ],
      "metadata": {
        "id": "BtoZcX3MNQ7R"
      }
    },
    {
      "cell_type": "markdown",
      "source": [],
      "metadata": {
        "id": "G_Jlqkl5Lg7k"
      }
    },
    {
      "cell_type": "markdown",
      "source": [
        "<h1>1-Library import:</h1>"
      ],
      "metadata": {
        "id": "c6TkIGTIGWTM"
      }
    },
    {
      "cell_type": "code",
      "execution_count": null,
      "metadata": {
        "id": "hp47w6S5_cgy"
      },
      "outputs": [],
      "source": [
        "import matplotlib.pyplot as plt\n",
        "import numpy as np\n",
        "import pandas as pd\n",
        "\n",
        "from sklearn import metrics, model_selection\n",
        "from scipy.io import loadmat\n",
        "\n",
        "import sys\n",
        "import numpy as np\n",
        "import pandas as pd\n",
        "import matplotlib.pyplot as plt\n",
        "import seaborn as sb\n",
        "%matplotlib inline\n",
        "\n",
        "from scipy.io import loadmat\n",
        "from sklearn.metrics import accuracy_score, confusion_matrix\n",
        "from sklearn.model_selection import train_test_split\n"
      ]
    },
    {
      "cell_type": "markdown",
      "source": [
        "<h1>2-Data loading :</h1>\n",
        "\n"
      ],
      "metadata": {
        "id": "eIb7u5zvHCDw"
      }
    },
    {
      "cell_type": "code",
      "source": [
        "mnist_df=loadmat(\"mnist_train_test.mat\")"
      ],
      "metadata": {
        "id": "pUHVKl_3wHfT"
      },
      "execution_count": null,
      "outputs": []
    },
    {
      "cell_type": "markdown",
      "source": [
        "<h1>3-split clean and normalized data into train and test :</h1>\n",
        "\n"
      ],
      "metadata": {
        "id": "uyKQ_sa0HNry"
      }
    },
    {
      "cell_type": "code",
      "execution_count": null,
      "metadata": {
        "id": "o016bE8U_cg3"
      },
      "outputs": [],
      "source": [
        "X_train = mnist_df[\"train\"][0][0][0]\n",
        "y_train = mnist_df[\"train\"][0][0][1]\n",
        "X_test = mnist_df[\"test\"][0][0][0]\n",
        "y_test = mnist_df['test'][0][0][1]"
      ]
    },
    {
      "cell_type": "code",
      "source": [
        "X_train =X_train.T"
      ],
      "metadata": {
        "id": "W0r-eN-UG5FP"
      },
      "execution_count": null,
      "outputs": []
    },
    {
      "cell_type": "code",
      "source": [
        "X_test = X_test.T"
      ],
      "metadata": {
        "id": "Wu3aVcenNzRF"
      },
      "execution_count": null,
      "outputs": []
    },
    {
      "cell_type": "code",
      "source": [
        "image_size_px = int(np.sqrt(X_train.shape[1]))\n",
        "print(\"The images size is (\",image_size_px,'x',image_size_px,')')"
      ],
      "metadata": {
        "colab": {
          "base_uri": "https://localhost:8080/"
        },
        "id": "lv-zyzp7jyUx",
        "outputId": "31cbb914-bee9-4b35-c8e1-6d41fc2bd5f6"
      },
      "execution_count": null,
      "outputs": [
        {
          "output_type": "stream",
          "name": "stdout",
          "text": [
            "The images size is ( 28 x 28 )\n"
          ]
        }
      ]
    },
    {
      "cell_type": "code",
      "source": [
        "def mnist_random_example():\n",
        "    idx = np.random.randint(12000)\n",
        " \n",
        "    exp = X_train[idx][1:].reshape(image_size_px,image_size_px)\n",
        "    print(\"The number in the image below is:\", X_train[idx])\n",
        "    plt.imshow(exp,cmap='gray')"
      ],
      "metadata": {
        "id": "Ab9ezW3ijyXi"
      },
      "execution_count": null,
      "outputs": []
    },
    {
      "cell_type": "code",
      "source": [
        "X_train[0][1:].shape##28*28=784 flatten"
      ],
      "metadata": {
        "colab": {
          "base_uri": "https://localhost:8080/"
        },
        "id": "gBFpTOryjyZU",
        "outputId": "2c8a0cf4-de82-4e0f-b2ca-10612c5838be"
      },
      "execution_count": null,
      "outputs": [
        {
          "output_type": "execute_result",
          "data": {
            "text/plain": [
              "(784,)"
            ]
          },
          "metadata": {},
          "execution_count": 143
        }
      ]
    },
    {
      "cell_type": "code",
      "source": [
        "mnist_random_example()"
      ],
      "metadata": {
        "colab": {
          "base_uri": "https://localhost:8080/",
          "height": 1000
        },
        "id": "_EcqNTtmjya7",
        "outputId": "2629a7ec-1abb-4b37-d155-b9c3baebba4b"
      },
      "execution_count": null,
      "outputs": [
        {
          "output_type": "stream",
          "name": "stdout",
          "text": [
            "The number in the image below is: [ 0.00000000e+00  0.00000000e+00  0.00000000e+00  0.00000000e+00\n",
            "  0.00000000e+00  0.00000000e+00  0.00000000e+00  0.00000000e+00\n",
            " -1.61132397e-04  0.00000000e+00  0.00000000e+00  0.00000000e+00\n",
            "  0.00000000e+00 -9.79915576e-05  0.00000000e+00  0.00000000e+00\n",
            "  0.00000000e+00  0.00000000e+00 -9.27944731e-06 -4.62042325e-05\n",
            "  0.00000000e+00 -9.79915576e-05 -9.49620473e-05  0.00000000e+00\n",
            "  0.00000000e+00  0.00000000e+00  0.00000000e+00  0.00000000e+00\n",
            "  0.00000000e+00  0.00000000e+00  0.00000000e+00  0.00000000e+00\n",
            "  0.00000000e+00  0.00000000e+00  0.00000000e+00  0.00000000e+00\n",
            "  0.00000000e+00 -2.43922160e-04 -3.93578257e-04 -2.87129254e-04\n",
            " -4.92674360e-05 -1.90881645e-04  0.00000000e+00  0.00000000e+00\n",
            " -1.19396098e-04 -3.78970664e-04 -7.38763243e-05 -4.01336513e-04\n",
            " -3.87918163e-04 -3.08563036e-05 -3.08563036e-05  0.00000000e+00\n",
            "  0.00000000e+00  0.00000000e+00  0.00000000e+00  0.00000000e+00\n",
            "  0.00000000e+00  0.00000000e+00  0.00000000e+00 -1.28172211e-04\n",
            " -4.24574491e-04 -2.89329631e-04 -5.84443219e-05 -2.17483039e-04\n",
            " -3.29698054e-04 -1.31704132e-04 -4.10513390e-04 -1.16309811e-04\n",
            " -2.24258447e-04 -5.35364979e-04 -3.39301516e-05 -2.87043593e-04\n",
            " -4.46842905e-04 -1.34183483e-04 -1.54549858e-05 -2.69603232e-04\n",
            " -3.00076439e-04 -3.42836838e-04 -2.26314036e-04  0.00000000e+00\n",
            "  0.00000000e+00  0.00000000e+00  0.00000000e+00  0.00000000e+00\n",
            "  0.00000000e+00  0.00000000e+00 -8.88967561e-05 -2.82725959e-04\n",
            " -5.82318688e-04 -1.46253385e-03 -9.46007928e-04 -5.87155286e-04\n",
            " -7.97967455e-04 -9.20051671e-04 -6.98824928e-04 -1.04439488e-03\n",
            " -1.39422285e-03 -1.97932363e-03 -1.53713805e-03 -1.65254825e-03\n",
            " -2.12058372e-03 -3.42697564e-03 -4.58472168e-03 -6.63697308e-03\n",
            " -5.65543592e-03 -5.75946994e-03 -3.17812378e-03 -2.15325646e-04\n",
            " -3.09530405e-06  0.00000000e+00  0.00000000e+00  0.00000000e+00\n",
            "  0.00000000e+00  0.00000000e+00 -3.08563036e-05 -3.71022930e-04\n",
            " -6.82202619e-04 -1.80120297e-03 -3.77237977e-03 -4.24444416e-03\n",
            " -4.59710613e-03 -6.84913951e-03 -1.13964454e-02 -2.08118647e-02\n",
            " -3.38276677e-02 -5.27457702e-02 -7.70889075e-02 -1.07325570e-01\n",
            " -1.33298488e-01 -1.56419924e-01 -1.65554327e-01 -1.57928421e-01\n",
            " -1.31899535e-01 -9.57394451e-02 -5.04273328e-02 -1.92857376e-02\n",
            " -4.80322666e-03  0.00000000e+00  0.00000000e+00  0.00000000e+00\n",
            "  0.00000000e+00  0.00000000e+00  0.00000000e+00 -1.08960126e-03\n",
            " -1.77532529e-03 -4.66838920e-03 -1.17374551e-02 -1.66777631e-02\n",
            " -2.27104853e-02 -3.83997178e-02 -6.88901722e-02 -1.07249095e-01\n",
            " -1.52192550e-01 -2.05535958e-01 -2.59331422e-01 -3.07899861e-01\n",
            " -3.46316475e-01 -3.68496985e-01 -3.66461029e-01 -3.44319800e-01\n",
            " -2.98842259e-01 -2.35514379e-01 -1.60024852e-01 -7.96576390e-02\n",
            " -1.97204340e-02 -2.46849888e-04  0.00000000e+00  0.00000000e+00\n",
            "  0.00000000e+00  0.00000000e+00 -2.55621181e-04 -9.38337347e-04\n",
            " -4.13922294e-03 -1.30295775e-02 -2.47685499e-02 -4.00124211e-02\n",
            " -6.88698481e-02 -1.11320365e-01 -1.65478780e-01 -2.24777140e-01\n",
            " -2.89893659e-01 -3.53802690e-01 -4.12994190e-01 -4.60535713e-01\n",
            " -4.92912673e-01 -5.08889643e-01 -5.08093299e-01 -4.91443387e-01\n",
            " -4.55064039e-01 -3.88238426e-01 -2.92404006e-01 -1.70386425e-01\n",
            " -4.82163997e-02 -7.66869105e-04  0.00000000e+00  0.00000000e+00\n",
            "  0.00000000e+00  0.00000000e+00 -5.83504718e-04 -1.12997196e-03\n",
            " -9.03057837e-03 -2.67451134e-02 -5.36352561e-02 -9.30489346e-02\n",
            " -1.46740303e-01 -2.13558586e-01 -2.82436931e-01 -3.55062592e-01\n",
            " -4.26037108e-01 -4.88572151e-01 -5.37591775e-01 -5.68296741e-01\n",
            " -5.84428930e-01 -5.90199243e-01 -5.94018329e-01 -5.96857095e-01\n",
            " -5.88734449e-01 -5.44405528e-01 -4.45451830e-01 -2.94626675e-01\n",
            " -9.24574209e-02 -2.23897011e-03  0.00000000e+00  0.00000000e+00\n",
            "  0.00000000e+00  0.00000000e+00 -1.34183483e-04 -1.99510781e-03\n",
            " -2.13704697e-02 -5.43467011e-02 -1.04756897e-01 -1.69473500e-01\n",
            " -2.44866552e-01 -3.23162217e-01 -4.02014877e-01 -4.74428996e-01\n",
            " -5.33472667e-01 -5.72086035e-01 -5.88431506e-01 -5.86783104e-01\n",
            " -5.72649641e-01 -5.65016480e-01 -5.82075149e-01 -6.28801136e-01\n",
            " -6.91706619e-01 -7.07669403e-01 -6.23451104e-01 -4.39641548e-01\n",
            " -1.47901398e-01 -6.58800855e-03  0.00000000e+00  0.00000000e+00\n",
            "  0.00000000e+00  0.00000000e+00  0.00000000e+00 -4.46692193e-03\n",
            " -4.52810236e-02 -1.04309502e-01 -1.79473102e-01 -2.67716131e-01\n",
            " -3.54235166e-01 -4.40506842e-01 -5.11346238e-01 -5.63064114e-01\n",
            " -5.86290296e-01 -5.79012017e-01 -5.47801858e-01 -5.04760372e-01\n",
            " -4.68679188e-01 -4.63951065e-01 -5.10971905e-01 -6.17262961e-01\n",
            " -7.62868639e-01 -8.65107180e-01 -8.07650909e-01 -5.90579735e-01\n",
            " -2.09793491e-01 -9.76064151e-03  0.00000000e+00  0.00000000e+00\n",
            "  0.00000000e+00  0.00000000e+00 -2.58540989e-04 -9.13322144e-03\n",
            " -8.26507319e-02 -1.77551704e-01 -2.78837435e-01 -3.78106832e-01\n",
            " -4.66712527e-01 -5.37403311e-01 -5.81085855e-01 -5.89729026e-01\n",
            " -5.60698790e-01 -5.04497000e-01 -4.36209281e-01 -3.78912378e-01\n",
            " -3.55137229e-01 -3.85567069e-01 -4.70718706e-01 -6.15392476e-01\n",
            " -8.15402074e-01 -9.93059513e-01 -9.76471493e-01 -7.22038737e-01\n",
            " -2.58783645e-01 -1.08652024e-02 -2.23372370e-04  0.00000000e+00\n",
            "  0.00000000e+00 -3.79413861e-04 -7.63155242e-04 -1.88037159e-02\n",
            " -1.43019484e-01 -2.81531837e-01 -4.03536538e-01 -5.03713009e-01\n",
            " -5.74005305e-01 -6.10207355e-01 -6.05123710e-01 -5.56141043e-01\n",
            " -4.79966990e-01 -3.96816631e-01 -3.29900173e-01 -3.17759459e-01\n",
            " -3.64335363e-01 -4.35308374e-01 -5.27517894e-01 -6.65493351e-01\n",
            " -8.75925944e-01 -1.08274234e+00 -1.08026572e+00 -8.05233248e-01\n",
            " -2.87201983e-01 -1.28448943e-02 -1.28172211e-04  0.00000000e+00\n",
            "  0.00000000e+00 -7.19916106e-04 -1.63987844e-03 -3.03860828e-02\n",
            " -2.34653447e-01 -4.18452280e-01 -5.57926937e-01 -6.54425061e-01\n",
            " -6.95967759e-01 -6.84814389e-01 -6.29789660e-01 -5.44538528e-01\n",
            " -4.63449472e-01 -4.19926795e-01 -4.40930550e-01 -1.84606283e-02\n",
            "  6.43998237e-03 -7.24048522e-02 -1.39102955e-01  3.51963169e-01\n",
            "  3.37462332e-01  7.46077301e-01  7.39149226e-01  5.79685166e-01\n",
            " -2.96999658e-01 -1.48954279e-02  0.00000000e+00  0.00000000e+00\n",
            "  0.00000000e+00 -3.10761729e-04 -4.22021277e-03 -4.69445126e-02\n",
            " -3.35141071e-01 -5.84976033e-01 -7.51038238e-01 -8.41255763e-01\n",
            " -8.55152026e-01 -8.16260337e-01 -7.45516330e-01 -4.08557294e-01\n",
            " -2.22941713e-01 -1.57108743e-01  6.03284621e-01  9.62415433e-01\n",
            "  9.57890390e-01  9.79509535e-01  1.01649957e+00  9.95388313e-01\n",
            "  8.83070167e-01  7.68856686e-01  7.81424763e-01  9.70181636e-01\n",
            " -2.93259126e-01 -1.84632301e-02  0.00000000e+00  0.00000000e+00\n",
            "  0.00000000e+00 -8.93393743e-04 -5.61156951e-03 -5.75166953e-02\n",
            " -4.18219239e-01 -7.39240215e-01 -9.46706207e-01 -7.64428759e-01\n",
            " -7.09310804e-01 -6.23522698e-01  2.69010899e-01  8.51519711e-01\n",
            "  8.71125567e-01  8.17853458e-01  8.05754573e-01  8.33318318e-01\n",
            "  9.16232194e-01  9.40395645e-01  7.81921625e-01  7.18636511e-01\n",
            "  5.82597974e-01  4.78461139e-01  5.28025364e-01 -1.55270040e-01\n",
            " -2.70145145e-01 -1.70578217e-02 -1.93845415e-04  0.00000000e+00\n",
            "  0.00000000e+00 -1.64001949e-03 -7.04700296e-03 -6.30255629e-02\n",
            " -4.69017163e-01 -6.24772606e-01  1.00919024e-01  6.87103407e-01\n",
            "  7.57575011e-01  8.17568892e-01  8.66300069e-01  8.85975454e-01\n",
            "  7.83776667e-01  7.45131195e-01  3.08468946e-01  3.26516947e-01\n",
            " -3.90769961e-02 -2.93290267e-01 -5.90660342e-01 -6.96841681e-01\n",
            " -8.29079802e-01 -9.04344357e-01 -8.15459924e-01 -5.73222857e-01\n",
            " -2.17454576e-01 -7.48275915e-03 -5.54503279e-04  0.00000000e+00\n",
            "  0.00000000e+00 -9.02581411e-04 -4.85654738e-03 -6.16277970e-02\n",
            "  9.73874489e-01  9.97576078e-01  7.84536760e-01  7.34252956e-01\n",
            "  7.95346139e-01  8.23614474e-01  9.38905312e-01  4.72199245e-01\n",
            " -3.92975904e-01 -4.98244103e-01 -3.97202217e-01 -3.22377202e-01\n",
            " -3.13663042e-01 -3.73910291e-01 -4.87358445e-01 -6.15790371e-01\n",
            " -7.20037503e-01 -7.38513165e-01 -6.20663332e-01 -4.17625086e-01\n",
            " -1.47552896e-01 -4.03853640e-03 -1.93845415e-04  0.00000000e+00\n",
            "  0.00000000e+00 -3.48085257e-04 -1.40676721e-03 -5.23313909e-02\n",
            "  9.31580541e-01  1.04223872e+00  7.95101297e-01  1.90438101e-01\n",
            " -3.15583213e-01 -6.41177892e-01 -6.04337374e-01 -4.65884775e-01\n",
            " -3.50948380e-01 -2.55940704e-01 -2.08710520e-01 -2.23869288e-01\n",
            " -2.87678434e-01 -3.87756052e-01 -4.95869174e-01 -5.91325466e-01\n",
            " -6.32214972e-01 -5.80727217e-01 -4.51043657e-01 -2.75528150e-01\n",
            " -8.66555286e-02 -1.51417172e-03  0.00000000e+00  0.00000000e+00\n",
            "  0.00000000e+00  0.00000000e+00 -7.53094907e-04 -4.26386557e-02\n",
            " -3.92107094e-01 -6.90906505e-01 -8.88291219e-01 -9.41517280e-01\n",
            " -8.50879756e-01 -6.90143961e-01 -5.25921525e-01 -3.94948804e-01\n",
            " -3.07313998e-01 -2.68607625e-01 -2.76811013e-01 -3.21680822e-01\n",
            " -3.92993100e-01 -4.73767114e-01 -5.46722397e-01 -5.81544931e-01\n",
            " -5.50013300e-01 -4.52933257e-01 -3.16885296e-01 -1.65424291e-01\n",
            " -4.25686006e-02 -1.49175620e-04  0.00000000e+00  0.00000000e+00\n",
            "  0.00000000e+00  0.00000000e+00 -1.09490567e-03 -3.51681932e-02\n",
            " -3.23759930e-01 -5.50315545e-01 -7.01393257e-01 -7.75041712e-01\n",
            " -7.44432071e-01 -6.50032954e-01 -5.39218014e-01 -4.53204707e-01\n",
            " -4.03603052e-01 -3.87761063e-01 -4.05380482e-01 -4.44309652e-01\n",
            " -4.95448793e-01 -5.42139793e-01 -5.60774326e-01 -5.31419080e-01\n",
            " -4.49702179e-01 -3.41362967e-01 -2.13928635e-01 -9.08919375e-02\n",
            " -1.97375803e-02  0.00000000e+00  0.00000000e+00  0.00000000e+00\n",
            "  0.00000000e+00  0.00000000e+00 -1.81978194e-04 -2.52243003e-02\n",
            " -2.36252821e-01 -4.03314840e-01 -5.24006998e-01 -6.00285236e-01\n",
            " -6.26436562e-01 -6.11770559e-01 -5.76799611e-01 -5.42832889e-01\n",
            " -5.18309461e-01 -5.10269267e-01 -5.17002631e-01 -5.33605759e-01\n",
            " -5.47834021e-01 -5.45121337e-01 -5.07881741e-01 -4.36832528e-01\n",
            " -3.43727244e-01 -2.37370405e-01 -1.27160109e-01 -4.37606783e-02\n",
            " -7.67511351e-03  0.00000000e+00  0.00000000e+00  0.00000000e+00\n",
            "  0.00000000e+00  0.00000000e+00  0.00000000e+00 -1.49110374e-02\n",
            " -1.50690135e-01 -2.68280450e-01 -3.61036400e-01 -4.34528660e-01\n",
            " -4.96258175e-01 -5.37233730e-01 -5.58433889e-01 -5.69419603e-01\n",
            " -5.66113200e-01 -5.60966965e-01 -5.54039331e-01 -5.39048509e-01\n",
            " -5.15469842e-01 -4.72251751e-01 -4.07322525e-01 -3.28723377e-01\n",
            " -2.38470593e-01 -1.42896927e-01 -6.28592868e-02 -1.71368927e-02\n",
            " -3.82144964e-03  0.00000000e+00  0.00000000e+00  0.00000000e+00\n",
            "  0.00000000e+00  0.00000000e+00  0.00000000e+00 -6.98377859e-03\n",
            " -8.03918564e-02 -1.49524276e-01 -2.17956801e-01 -2.88508610e-01\n",
            " -3.53838600e-01 -4.15084907e-01 -4.63552571e-01 -4.92992254e-01\n",
            " -5.04447462e-01 -5.01289100e-01 -4.86849088e-01 -4.60871319e-01\n",
            " -4.17800348e-01 -3.60791433e-01 -2.92732637e-01 -2.15262290e-01\n",
            " -1.35985375e-01 -6.63126210e-02 -2.30044642e-02 -6.72036875e-03\n",
            " -1.76859534e-03  0.00000000e+00  0.00000000e+00  0.00000000e+00\n",
            "  0.00000000e+00  0.00000000e+00  0.00000000e+00 -2.36035931e-03\n",
            " -2.94845226e-02 -6.42225364e-02 -1.03137601e-01 -1.53120671e-01\n",
            " -2.07389258e-01 -2.62489049e-01 -3.12582595e-01 -3.49904753e-01\n",
            " -3.70411984e-01 -3.72553980e-01 -3.57789735e-01 -3.29941431e-01\n",
            " -2.87734563e-01 -2.30857794e-01 -1.70234854e-01 -1.09323514e-01\n",
            " -5.64890961e-02 -2.29154658e-02 -7.25208063e-03 -2.92290234e-03\n",
            " -1.30589599e-03  0.00000000e+00  0.00000000e+00  0.00000000e+00\n",
            "  0.00000000e+00  0.00000000e+00  0.00000000e+00 -7.25142716e-04\n",
            " -7.24069856e-03 -1.64034778e-02 -2.41200460e-02 -4.35388009e-02\n",
            " -6.94808770e-02 -9.78052590e-02 -1.27231515e-01 -1.55665521e-01\n",
            " -1.77943934e-01 -1.87371105e-01 -1.85423838e-01 -1.67846990e-01\n",
            " -1.38462889e-01 -1.02711371e-01 -6.58389777e-02 -3.29797562e-02\n",
            " -1.46960528e-02 -7.09982919e-03 -2.48055280e-03 -2.13578864e-03\n",
            " -3.84149388e-04  0.00000000e+00  0.00000000e+00  0.00000000e+00\n",
            "  0.00000000e+00  0.00000000e+00  0.00000000e+00 -2.20428705e-04\n",
            " -5.06358021e-04 -5.90746420e-04 -1.16254025e-03 -2.76066132e-03\n",
            " -2.08178965e-03 -2.65900472e-03 -5.18595150e-03 -8.65910056e-03\n",
            " -1.12800384e-02 -1.45729298e-02 -1.66530116e-02 -1.51295370e-02\n",
            " -1.14432157e-02 -8.24601057e-03 -5.23114271e-03 -3.41401817e-03\n",
            " -2.21944031e-03 -1.61556503e-03 -1.47347315e-03 -1.03364600e-03\n",
            " -5.16220526e-04  0.00000000e+00  0.00000000e+00  0.00000000e+00\n",
            "  0.00000000e+00  0.00000000e+00  0.00000000e+00  0.00000000e+00\n",
            "  0.00000000e+00 -1.61132397e-04 -2.47701967e-04 -1.34609234e-04\n",
            "  0.00000000e+00 -1.91524914e-04 -5.13849834e-04 -1.05443235e-03\n",
            " -5.57612677e-04 -1.04388998e-04 -7.67410302e-05 -3.08563036e-05\n",
            " -4.30185876e-04 -6.89696009e-04 -9.79352764e-04 -6.27557210e-04\n",
            " -9.55596475e-04 -1.83956242e-03 -1.14990081e-03 -8.46677661e-04\n",
            " -5.53874785e-05  0.00000000e+00  0.00000000e+00  0.00000000e+00\n",
            "  0.00000000e+00  0.00000000e+00  0.00000000e+00  0.00000000e+00\n",
            "  0.00000000e+00  0.00000000e+00 -2.20428705e-04 -4.52557185e-04\n",
            "  0.00000000e+00  0.00000000e+00 -1.16124861e-04 -2.73897541e-04\n",
            " -3.28028440e-04  0.00000000e+00  0.00000000e+00  0.00000000e+00\n",
            " -3.70018662e-05 -3.34631975e-04 -7.04302609e-04 -4.79844163e-04\n",
            " -1.55158102e-04 -1.19139805e-04 -2.17483039e-04  0.00000000e+00\n",
            "  0.00000000e+00  0.00000000e+00  0.00000000e+00  0.00000000e+00\n",
            "  1.00000000e+00]\n"
          ]
        },
        {
          "output_type": "display_data",
          "data": {
            "text/plain": [
              "<Figure size 432x288 with 1 Axes>"
            ],
            "image/png": "[encoded data removed]"
          },
          "metadata": {
            "needs_background": "light"
          }
        }
      ]
    },
    {
      "cell_type": "markdown",
      "source": [
        "<h1>4-Logistic Regression Model self implementation  :</h1>\n",
        "\n"
      ],
      "metadata": {
        "id": "5G3I39xRI9Xp"
      }
    },
    {
      "cell_type": "code",
      "source": [
        "# Creating initilizer function to initialize weights and bias\n",
        "\n",
        "def initializer(nbr_features):\n",
        "    W = np.zeros((nbr_features,1))\n",
        "    B = 0\n",
        "    return W, B\n"
      ],
      "metadata": {
        "id": "1YO0GayNjyco"
      },
      "execution_count": null,
      "outputs": []
    },
    {
      "cell_type": "code",
      "source": [
        "# Creating a Sigmoid function\n",
        "\n",
        "def sigmoid(x):\n",
        "    s = 1/(1+np.exp(-x))\n",
        "    return s"
      ],
      "metadata": {
        "id": "I_KfFPT1jyeX"
      },
      "execution_count": null,
      "outputs": []
    },
    {
      "cell_type": "code",
      "source": [
        "# Creating the Forward and backward propagation function which calculates J, dW, and dB\n",
        "\n",
        "def ForwardBackProp(X, Y, W, B):\n",
        "    m = X.shape[0] \n",
        "    dw = np.zeros((W.shape[0],1))\n",
        "    dB = 0\n",
        "    \n",
        "    Z = np.dot(X,W)+B\n",
        "    Y_pred = sigmoid(Z) \n",
        "    J = -(1/m)*(np.dot(Y.T,np.log(Y_pred))+np.dot((1-Y).T,np.log(1-Y_pred)))########cost function -ylogy -(1-y)log(1-y)\n",
        "    dW = (1/m)*np.dot(X.T,(Y_pred-Y))#########gradiant of j % w\n",
        "    dB = (1/m)*np.sum(Y_pred-Y)########### gradiant of j % b\n",
        "    return J, dW, dB\n"
      ],
      "metadata": {
        "id": "RMH4gFMnjygq"
      },
      "execution_count": null,
      "outputs": []
    },
    {
      "cell_type": "code",
      "source": [
        "# Creating a prediction function which predicts the labels of the input images\n",
        "\n",
        "def predict(X,W,B):\n",
        "    Y_pred_prob = sigmoid(np.dot(X,W)+B)############ y_pred probability\n",
        "    Y_pred = np.round(Y_pred_prob).astype(int)############### if >0.5 ==1 else 0\n",
        "    return Y_pred, Y_pred_prob"
      ],
      "metadata": {
        "id": "8RGY_f3Fjyiv"
      },
      "execution_count": null,
      "outputs": []
    },
    {
      "cell_type": "code",
      "source": [
        "# Creating the gradient descent optimizer function\n",
        "\n",
        "def gradient_descent(X, Y, W, B, alpha, max_iter):\n",
        "    i=0\n",
        "    RMSE = 1\n",
        "    cost_history=[]\n",
        "    \n",
        "    # setup toolbar\n",
        "    toolbar_width = 20\n",
        "    sys.stdout.write(\"[%s]\" % (\"\" * toolbar_width))\n",
        "    sys.stdout.flush()\n",
        "    sys.stdout.write(\"\\b\" * (toolbar_width+1)) # return to start of line, after '['\n",
        "    \n",
        "    while (i<max_iter)&(RMSE>10e-6):################stop condition max iter or mean SQUARRE error <0.0000001\n",
        "        J, dW, dB = ForwardBackProp(X,Y,W,B)\n",
        "        W = W - alpha*dW ###########update w\n",
        "        B = B - alpha*dB #######update b\n",
        "        cost_history.append(J)\n",
        "        Y_pred, _ = predict(X,W,B)\n",
        "        RMSE = np.sqrt(np.mean(Y_pred-Y)**2)\n",
        "        i+=1\n",
        "        if i%50==0:\n",
        "            sys.stdout.write(\"=\")\n",
        "            sys.stdout.flush()\n",
        "    \n",
        "    sys.stdout.write(\"]\\n\") # this ends the progress bar\n",
        "    return cost_history, W, B, i"
      ],
      "metadata": {
        "id": "x2qSasDHl36Y"
      },
      "execution_count": null,
      "outputs": []
    },
    {
      "cell_type": "code",
      "source": [
        "# Creating the model function which trains a model and return its parameters. \n",
        "\n",
        "def LogRegModel(X_train, X_test, Y_train, Y_test, alpha, max_iter):###########our logreg model \n",
        "    \n",
        "    nbr_features = X_train.shape[1]\n",
        "    W, B = initializer(nbr_features)\n",
        "    cost_history, W, B, i = gradient_descent(X_train, Y_train, W, B, alpha, max_iter)\n",
        "    Y_pred_train, _ = predict(X_train, W, B)\n",
        "    Y_pred, _ = predict(X_test, W, B)\n",
        "    \n",
        "    train_accuracy = accuracy_score(Y_train, Y_pred_train)################train score not good ,it will be more good with cross validation   \n",
        "    test_accuracy = accuracy_score(Y_test, Y_pred) #######################test score \n",
        "    conf_matrix = confusion_matrix(Y_test, Y_pred, normalize='true')\n",
        "    \n",
        "    model = {\"weights\": W,\n",
        "            \"bias\": B,\n",
        "            \"train_accuracy\": train_accuracy,\n",
        "            \"test_accuracy\": test_accuracy,\n",
        "            \"confusion_matrix\": conf_matrix,\n",
        "            \"cost_history\": cost_history}\n",
        "    return model"
      ],
      "metadata": {
        "id": "hbNWWq0Hl38I"
      },
      "execution_count": null,
      "outputs": []
    },
    {
      "cell_type": "code",
      "source": [
        "###################################################################\"\"\"\"\"\""
      ],
      "metadata": {
        "id": "q_npsILNEUvI"
      },
      "execution_count": null,
      "outputs": []
    },
    {
      "cell_type": "code",
      "source": [
        "# Testing the model function by training a classifier for the digit '0'\n",
        "\n",
        "print('Progress bar: 1 step each 50 iteration')\n",
        "model_reg = LogRegModel(X_train, X_test, y_train, y_test, alpha=0.0001, max_iter=1000)\n",
        "print('Training completed!')"
      ],
      "metadata": {
        "colab": {
          "base_uri": "https://localhost:8080/"
        },
        "id": "XgdqM7QCl3-T",
        "outputId": "ed3e7764-fa9a-4bc8-a32d-0dd50ec38bc3"
      },
      "execution_count": null,
      "outputs": [
        {
          "output_type": "stream",
          "name": "stdout",
          "text": [
            "Progress bar: 1 step each 50 iteration\n",
            "[]\b\b\b\b\b\b\b\b\b\b\b\b\b\b\b\b\b\b\b\b\b====================]\n",
            "Training completed!\n"
          ]
        }
      ]
    },
    {
      "cell_type": "code",
      "source": [
        "# Viewing the cost evolution over time of the trained model\n",
        "\n",
        "cost = np.concatenate(model_reg['cost_history']).ravel().tolist()\n",
        "plt.plot(list(range(len(cost))),cost)\n",
        "plt.title('Evolution of the cost by iteration')\n",
        "plt.xlabel('Iteration')\n",
        "plt.ylabel('Cost');"
      ],
      "metadata": {
        "colab": {
          "base_uri": "https://localhost:8080/",
          "height": 295
        },
        "id": "gqPnokszl4Ai",
        "outputId": "998fec39-1dcb-42a9-8c1c-a94b62e78314"
      },
      "execution_count": null,
      "outputs": [
        {
          "output_type": "display_data",
          "data": {
            "text/plain": [
              "<Figure size 432x288 with 1 Axes>"
            ],
            "image/png": "[encoded data removed]"
          },
          "metadata": {
            "needs_background": "light"
          }
        }
      ]
    },
    {
      "cell_type": "code",
      "source": [
        "##########################################################################"
      ],
      "metadata": {
        "id": "NwT8rW6KGSFQ"
      },
      "execution_count": null,
      "outputs": []
    },
    {
      "cell_type": "code",
      "source": [
        "# Checking the accuracy of the model\n",
        "\n",
        "print('The training accuracy of the model',model_reg['train_accuracy'])\n",
        "print('The test accuracy of the model',model_reg['test_accuracy'])"
      ],
      "metadata": {
        "colab": {
          "base_uri": "https://localhost:8080/"
        },
        "id": "GlaJGHaqCc4c",
        "outputId": "ea5563e3-3929-4edb-f403-7c8bbac2d40d"
      },
      "execution_count": null,
      "outputs": [
        {
          "output_type": "stream",
          "name": "stdout",
          "text": [
            "The training accuracy of the model 0.9942360836952231\n",
            "The test accuracy of the model 0.9962174940898345\n"
          ]
        }
      ]
    },
    {
      "cell_type": "code",
      "source": [
        "model_reg['confusion_matrix'] ######## 2 digits 0 and \n",
        "import seaborn as sns\n",
        "\n",
        "ax = sns.heatmap(model_reg['confusion_matrix'] , annot=True, cmap='Blues')\n",
        "\n",
        "ax.set_title('Seaborn Confusion Matrix with labels\\n\\n');\n",
        "ax.set_xlabel('\\nPredicted Values')\n",
        "ax.set_ylabel('Actual Values ');\n",
        "\n",
        "## Ticket labels - List must be in alphabetical order\n",
        "ax.xaxis.set_ticklabels(['False','True'])\n",
        "ax.yaxis.set_ticklabels(['False','True'])\n",
        "\n",
        "## Display the visualization of the Confusion Matrix.\n",
        "plt.show()\n"
      ],
      "metadata": {
        "colab": {
          "base_uri": "https://localhost:8080/",
          "height": 337
        },
        "id": "wiYmuFdN_MFm",
        "outputId": "52bc1fb2-1d33-4836-8076-adb3a7f9ec97"
      },
      "execution_count": null,
      "outputs": [
        {
          "output_type": "display_data",
          "data": {
            "text/plain": [
              "<Figure size 432x288 with 2 Axes>"
            ],
            "image/png": "[encoded data removed]"
          },
          "metadata": {
            "needs_background": "light"
          }
        }
      ]
    },
    {
      "cell_type": "markdown",
      "source": [
        "<h1>5-Logistic Regression with sckit-learn :</h1>\n",
        "\n"
      ],
      "metadata": {
        "id": "F5C-mghfJW__"
      }
    },
    {
      "cell_type": "code",
      "source": [
        "#########################################################################"
      ],
      "metadata": {
        "id": "VQXA91P81wDV"
      },
      "execution_count": null,
      "outputs": []
    },
    {
      "cell_type": "code",
      "source": [
        "from sklearn import linear_model"
      ],
      "metadata": {
        "id": "dLMhVI5UJ5xM"
      },
      "execution_count": null,
      "outputs": []
    },
    {
      "cell_type": "code",
      "source": [
        "training_target, training_features = y_train, X_train"
      ],
      "metadata": {
        "id": "1-VjEsqAJ54C"
      },
      "execution_count": null,
      "outputs": []
    },
    {
      "cell_type": "code",
      "execution_count": null,
      "metadata": {
        "colab": {
          "base_uri": "https://localhost:8080/",
          "height": 265
        },
        "id": "xZ9G4H54_cg9",
        "outputId": "62a39e19-339e-4e0c-dcbf-5e99c7671403"
      },
      "outputs": [
        {
          "output_type": "display_data",
          "data": {
            "text/plain": [
              "<Figure size 432x288 with 1 Axes>"
            ],
            "image/png": "[encoded data removed]"
          },
          "metadata": {
            "needs_background": "light"
          }
        }
      ],
      "source": [
        "_, ax = plt.subplots(1,1)\n",
        "_ = ax.imshow(training_features[0][1:].reshape((28, 28)), cmap=\"gray\")"
      ]
    },
    {
      "cell_type": "markdown",
      "metadata": {
        "id": "7F8IH05W_chG"
      },
      "source": [
        "# Models"
      ]
    },
    {
      "cell_type": "markdown",
      "metadata": {
        "id": "77D8FjDm_chI"
      },
      "source": [
        "## Logistic Regression"
      ]
    },
    {
      "cell_type": "code",
      "execution_count": null,
      "metadata": {
        "id": "iGfKT68n_chI"
      },
      "outputs": [],
      "source": [
        "from sklearn import linear_model"
      ]
    },
    {
      "cell_type": "code",
      "execution_count": null,
      "metadata": {
        "id": "uhrmWmFk_chI"
      },
      "outputs": [],
      "source": [
        "# linear_model.LogisticRegression"
      ]
    },
    {
      "cell_type": "code",
      "execution_count": null,
      "metadata": {
        "colab": {
          "base_uri": "https://localhost:8080/"
        },
        "id": "vWdM1zCb_chI",
        "outputId": "acdba046-9396-4a65-e023-084de4298c09"
      },
      "outputs": [
        {
          "output_type": "stream",
          "name": "stderr",
          "text": [
            "/usr/local/lib/python3.7/dist-packages/sklearn/utils/validation.py:993: DataConversionWarning: A column-vector y was passed when a 1d array was expected. Please change the shape of y to (n_samples, ), for example using ravel().\n",
            "  y = column_or_1d(y, warn=True)\n"
          ]
        },
        {
          "output_type": "execute_result",
          "data": {
            "text/plain": [
              "LogisticRegression()"
            ]
          },
          "metadata": {},
          "execution_count": 165
        }
      ],
      "source": [
        "_prng = np.random.RandomState(42)\n",
        "logistic_regression_clf = linear_model.LogisticRegression()\n",
        "logistic_regression_clf.fit(training_features, training_target)"
      ]
    },
    {
      "cell_type": "markdown",
      "metadata": {
        "id": "nBfnNdqD_chO"
      },
      "source": [
        "\n",
        "## Make predictions"
      ]
    },
    {
      "cell_type": "code",
      "execution_count": null,
      "metadata": {
        "id": "vfrxArvZ_chP"
      },
      "outputs": [],
      "source": [
        "# make predictions \n",
        "predictions = logistic_regression_clf.predict(X_test)"
      ]
    },
    {
      "cell_type": "code",
      "source": [
        "predictions"
      ],
      "metadata": {
        "colab": {
          "base_uri": "https://localhost:8080/"
        },
        "id": "M6VUbnqHORLx",
        "outputId": "158c42b3-84f8-4c73-ca50-52412ba0a731"
      },
      "execution_count": null,
      "outputs": [
        {
          "output_type": "execute_result",
          "data": {
            "text/plain": [
              "array([0, 0, 1, ..., 0, 0, 1], dtype=uint8)"
            ]
          },
          "metadata": {},
          "execution_count": 167
        }
      ]
    },
    {
      "cell_type": "code",
      "execution_count": null,
      "metadata": {
        "colab": {
          "base_uri": "https://localhost:8080/"
        },
        "id": "_bP_BBFj_chQ",
        "outputId": "e6163a8a-2abf-4998-8ea5-595216d9c503"
      },
      "outputs": [
        {
          "output_type": "stream",
          "name": "stdout",
          "text": [
            "0.9995271867612293\n"
          ]
        }
      ],
      "source": [
        "from sklearn.metrics import accuracy_score\n",
        "\n",
        "print(accuracy_score(y_test, predictions))"
      ]
    }
  ],
  "metadata": {
    "kernelspec": {
      "display_name": "Python 3",
      "language": "python",
      "name": "python3"
    },
    "language_info": {
      "codemirror_mode": {
        "name": "ipython",
        "version": 3
      },
      "file_extension": ".py",
      "mimetype": "text/x-python",
      "name": "python",
      "nbconvert_exporter": "python",
      "pygments_lexer": "ipython3",
      "version": "3.7.3"
    },
    "colab": {
      "provenance": [],
      "collapsed_sections": [
        "77D8FjDm_chI",
        "nBfnNdqD_chO"
      ]
    }
  },
  "nbformat": 4,
  "nbformat_minor": 0
}