{
 "cells": [
  {
   "cell_type": "markdown",
   "id": "9c12cb61",
   "metadata": {},
   "source": [
    "# <span style= 'color:blue'><h1> Partie 1:Introduction aux réseaux convolutionnels:</h1> </span>\n",
    "---"
   ]
  },
  {
   "cell_type": "markdown",
   "id": "58d5bfe5",
   "metadata": {},
   "source": [
    "# <span style= 'color:black'><h3> Questions 1 :</h3> </span>\n",
    "---"
   ]
  },
  {
   "cell_type": "markdown",
   "id": "813a80b5",
   "metadata": {},
   "source": [
    "X_output = ( ( x - k + 2 * p ) / s ) + 1"
   ]
  },
  {
   "cell_type": "markdown",
   "id": "39afc5e3",
   "metadata": {},
   "source": [
    "Y_output = ( ( y - k + 2 * p ) / s ) + 1"
   ]
  },
  {
   "cell_type": "markdown",
   "id": "bddbb39b",
   "metadata": {},
   "source": [
    "# <span style= 'color:black'><h4> a/ </h4> </span>\n",
    "---"
   ]
  },
  {
   "cell_type": "markdown",
   "id": "ca0a2bb6",
   "metadata": {},
   "source": [
    "poids = k * k * z + 1 "
   ]
  },
  {
   "cell_type": "markdown",
   "id": "036b45a7",
   "metadata": {},
   "source": [
    "# <span style= 'color:black'><h4> b/ </h4> </span>\n",
    "---"
   ]
  },
  {
   "cell_type": "markdown",
   "id": "5cd63754",
   "metadata": {},
   "source": [
    "poids_fully_connected = ( x * y * z ) * ( X_output * Y_output ) + ( X_output * Y_output ) * 1"
   ]
  },
  {
   "cell_type": "markdown",
   "id": "c92b5b04",
   "metadata": {},
   "source": [
    "# <span style= 'color:black'><h4> 2/ </h4> </span>\n",
    "---"
   ]
  },
  {
   "cell_type": "markdown",
   "id": "a4dae486",
   "metadata": {},
   "source": [
    "les avantages de CNN sont :\n"
   ]
  },
  {
   "cell_type": "markdown",
   "id": "c25c6d86",
   "metadata": {},
   "source": [
    "-le CNN utilise moins de ressources et rapide en terme de calcul que fully connected pour s'entrainer(reduction des dimension ,moins  de connections avec input layer) et plus rapide en terme de temps et argent"
   ]
  },
  {
   "cell_type": "markdown",
   "id": "4749365e",
   "metadata": {},
   "source": [
    "-ne traite pas les pixel local comme les pixels au bord eloignees"
   ]
  },
  {
   "cell_type": "markdown",
   "id": "751829de",
   "metadata": {},
   "source": [
    "-bon pour la localistaion d'un objet dans une image"
   ]
  },
  {
   "cell_type": "markdown",
   "id": "41d9a9b7",
   "metadata": {},
   "source": [
    "les disavantages de CNN sont :"
   ]
  },
  {
   "cell_type": "markdown",
   "id": "ad04fcc0",
   "metadata": {},
   "source": [
    "le CNN ne tient pas compte de rotation et scaling ou preprocessing de l'image"
   ]
  },
  {
   "cell_type": "markdown",
   "id": "a040c9f3",
   "metadata": {},
   "source": [
    "# <span style= 'color:black'><h4> 3/ </h4> </span>\n",
    "---"
   ]
  },
  {
   "cell_type": "markdown",
   "id": "75f217a6",
   "metadata": {},
   "source": [
    "-reduction en terme de calcul"
   ]
  },
  {
   "cell_type": "markdown",
   "id": "96729df9",
   "metadata": {},
   "source": [
    "-reduction  de l'overfitting grace a la reduction des poids"
   ]
  },
  {
   "cell_type": "markdown",
   "id": "8e3a6443",
   "metadata": {},
   "source": [
    "-le modele est tolerant aux variations, aux distorsions"
   ]
  },
  {
   "cell_type": "markdown",
   "id": "fedf2981",
   "metadata": {},
   "source": [
    "# <span style= 'color:black'><h4> 4/ </h4> </span>\n",
    "---"
   ]
  },
  {
   "cell_type": "markdown",
   "id": "82011b29",
   "metadata": {},
   "source": [
    "c 'est faisable de facon que le dimension de l 'image soit le meme dimension des filtres si on append tous ensemble "
   ]
  },
  {
   "cell_type": "markdown",
   "id": "4c7f380e",
   "metadata": {},
   "source": [
    "# <span style= 'color:black'><h4> 5/ </h4> </span>\n",
    "---"
   ]
  },
  {
   "cell_type": "markdown",
   "id": "3c7bb802",
   "metadata": {},
   "source": [
    "fully connected c 'est un filtre 1D donc on peut  avoir un couche fully connected comme couche convolutions si sa dimension est le meme celle de la feature map et le produit conventionnel et meme on 1D (prouit conventionnel de \n",
    "feature map flattener en 1D avec couche fully connected)"
   ]
  },
  {
   "cell_type": "markdown",
   "id": "bb75683f",
   "metadata": {},
   "source": [
    "# <span style= 'color:black'><h4> 6/ </h4> </span>\n",
    "---"
   ]
  },
  {
   "cell_type": "markdown",
   "id": "d8d5f4f4",
   "metadata": {},
   "source": [
    "si on fait convertir les fully coonected on des filtres de meme dimension que les features map dans chaque couche oui ,le resultat de sortie est un scalaire \n",
    "et son interet est : edge detection ."
   ]
  },
  {
   "cell_type": "markdown",
   "id": "dea17334",
   "metadata": {},
   "source": [
    "# <span style= 'color:black'><h4> 7/ </h4> </span>\n",
    "---"
   ]
  },
  {
   "cell_type": "markdown",
   "id": "323a3a91",
   "metadata": {},
   "source": [
    "la formule general de receiptive size est :"
   ]
  },
  {
   "cell_type": "markdown",
   "id": "0f80dd61",
   "metadata": {},
   "source": [
    "R_i =  R_i-1  + ( K - 1 ) * (S_0 * S_1 * ..... * S_i-1) avec R_i=dimension de receiptive field a la i eme couche convenutionnel"
   ]
  },
  {
   "cell_type": "markdown",
   "id": "fb88d1ea",
   "metadata": {},
   "source": [
    "pour VGG16 on a:"
   ]
  },
  {
   "cell_type": "markdown",
   "id": "eba8c19d",
   "metadata": {},
   "source": [
    "1-premiere couche de convolution:"
   ]
  },
  {
   "cell_type": "markdown",
   "id": "6db3b855",
   "metadata": {},
   "source": [
    "K=3,S=1,R_0=1"
   ]
  },
  {
   "cell_type": "markdown",
   "id": "6c4bc011",
   "metadata": {},
   "source": [
    "R_1 = 1 + ( 3 - 1) * 1 = 3 donc dimension perceiptive=( 3 * 3 )"
   ]
  },
  {
   "cell_type": "markdown",
   "id": "31e01269",
   "metadata": {},
   "source": [
    "2-deuxieme couche de convolution:"
   ]
  },
  {
   "cell_type": "markdown",
   "id": "78d70335",
   "metadata": {},
   "source": [
    "K=3,S=1,R_1=3"
   ]
  },
  {
   "cell_type": "markdown",
   "id": "178ab4fd",
   "metadata": {},
   "source": [
    "R_2 = 3 + ( 3 - 1) * 1 * 1 = 5   donc dimension perceiptive=( 5 * 5 )"
   ]
  },
  {
   "cell_type": "markdown",
   "id": "524b1092",
   "metadata": {},
   "source": [
    "pour des couches plus profondes ,la dimension de champ recepteur augmente , ce qui explique \n",
    "qu il couvre une grande surface de l image \n",
    "donc pour la 1 ere couche il est capable de voir  que les edges qui n est pas besoin \n",
    "de beaucoup d information de  l image ,en passant a la deuxieme couche , on collecte plus \n",
    "d information de l image ,et beaucoup d autre operation peuvent ces couches profondes de convoltion le faire\n",
    "donc la capacite a s entrainer et apprendre  augmente ."
   ]
  },
  {
   "cell_type": "markdown",
   "id": "e7239ea2",
   "metadata": {},
   "source": [
    "# <span style= 'color:blue'><h1> Partie 2: Apprentissage from scratch du modèle:</h1> </span>\n",
    "---"
   ]
  },
  {
   "cell_type": "markdown",
   "id": "e63698b7",
   "metadata": {},
   "source": [
    "# <span style= 'color:black'><h3> 1/</h3> </span>\n",
    "---"
   ]
  },
  {
   "cell_type": "markdown",
   "id": "8a29e90a",
   "metadata": {},
   "source": [
    "s=1,p=2"
   ]
  },
  {
   "cell_type": "markdown",
   "id": "e90cd3a3",
   "metadata": {},
   "source": [
    "# <span style= 'color:black'><h3> 2/</h3> </span>\n",
    "---"
   ]
  },
  {
   "cell_type": "markdown",
   "id": "9875e333",
   "metadata": {},
   "source": [
    "s=2,p=0"
   ]
  },
  {
   "cell_type": "markdown",
   "id": "06c62b5d",
   "metadata": {},
   "source": [
    "# <span style= 'color:black'><h3> 3/</h3> </span>\n",
    "---"
   ]
  },
  {
   "cell_type": "markdown",
   "id": "0a59a178",
   "metadata": {},
   "source": [
    "conv1 -> sortie: 32 * 32 * 32 , poids : ( 5 * 5 * 3 + 1 ) * 32 = 2432"
   ]
  },
  {
   "cell_type": "markdown",
   "id": "7b77bb30",
   "metadata": {},
   "source": [
    "pool1 -> sortie: 16 * 16 * 32 , poids : 0"
   ]
  },
  {
   "cell_type": "markdown",
   "id": "94e9cc7a",
   "metadata": {},
   "source": [
    "conv2 -> sortie: 16 * 16 * 64 , poids : ( 5 * 5 * 32 + 1 ) * 64 = 51264"
   ]
  },
  {
   "cell_type": "markdown",
   "id": "ac5b7316",
   "metadata": {},
   "source": [
    "pool2 -> sortie: 8 * 8 * 64 , poids : 0"
   ]
  },
  {
   "cell_type": "markdown",
   "id": "3793e60f",
   "metadata": {},
   "source": [
    "conv3 -> sortie: 8 * 8 * 64 , poids :( 5 * 5 * 64 + 1 ) * 64 = 102464"
   ]
  },
  {
   "cell_type": "markdown",
   "id": "53ca3abe",
   "metadata": {},
   "source": [
    "pool3 ->  sortie: 4 * 4 * 64 , poids : 0"
   ]
  },
  {
   "cell_type": "markdown",
   "id": "fab8932b",
   "metadata": {},
   "source": [
    "fc4 -> sortie: 4 * 4 * 64 = 1024  , poids : ( 1024 + 1 ) * 1000 = 1025000"
   ]
  },
  {
   "cell_type": "markdown",
   "id": "89f53e3c",
   "metadata": {},
   "source": [
    "fc5 -> sortie: 1000 , poids : ( 1000 + 1 ) * 10 = 10010     "
   ]
  },
  {
   "cell_type": "markdown",
   "id": "f645145c",
   "metadata": {},
   "source": [
    "la dimension par rapport dimension d image d origine  diminue en allant en profond avec polling d un facteur 2 chaque couche ->  la dimension de l input de fc est plus petit que dimension input de l image d origine si on a travailler directement avec l image origine(ann)"
   ]
  },
  {
   "cell_type": "markdown",
   "id": "4f56ca7c",
   "metadata": {},
   "source": [
    "# <span style= 'color:black'><h3> 4/</h3> </span>\n",
    "---"
   ]
  },
  {
   "cell_type": "markdown",
   "id": "3eafe75d",
   "metadata": {},
   "source": [
    "poids totale notre exemple = 1191352"
   ]
  },
  {
   "cell_type": "markdown",
   "id": "f630f6f7",
   "metadata": {},
   "source": [
    "poids total VGG16 = 138000000"
   ]
  },
  {
   "cell_type": "markdown",
   "id": "37ac8f14",
   "metadata": {},
   "source": [
    "poids totale notre exemple << poids total VGG16"
   ]
  },
  {
   "cell_type": "markdown",
   "id": "70d52f9f",
   "metadata": {},
   "source": [
    "# <span style= 'color:black'><h3> 5/</h3> </span>\n",
    "---"
   ]
  },
  {
   "cell_type": "code",
   "execution_count": 1,
   "id": "539b675a",
   "metadata": {},
   "outputs": [],
   "source": [
    "import tensorflow as tf \n",
    "from tensorflow import keras\n",
    "from tensorflow.keras import datasets,layers,models\n",
    "from sklearn.metrics import confusion_matrix , classification_report\n",
    "import matplotlib.pyplot as plt \n",
    "import numpy as np "
   ]
  },
  {
   "cell_type": "code",
   "execution_count": 2,
   "id": "fd76d8fb",
   "metadata": {},
   "outputs": [],
   "source": [
    "(X_train,y_train),(X_test,y_test)=datasets.cifar10.load_data()"
   ]
  },
  {
   "cell_type": "code",
   "execution_count": 3,
   "id": "087876f4",
   "metadata": {},
   "outputs": [
    {
     "data": {
      "text/plain": [
       "(50000, 32, 32, 3)"
      ]
     },
     "execution_count": 3,
     "metadata": {},
     "output_type": "execute_result"
    }
   ],
   "source": [
    "X_train.shape"
   ]
  },
  {
   "cell_type": "code",
   "execution_count": 4,
   "id": "95f47791",
   "metadata": {},
   "outputs": [
    {
     "data": {
      "text/plain": [
       "(10000, 32, 32, 3)"
      ]
     },
     "execution_count": 4,
     "metadata": {},
     "output_type": "execute_result"
    }
   ],
   "source": [
    "X_test.shape"
   ]
  },
  {
   "cell_type": "code",
   "execution_count": 5,
   "id": "43ad56e7",
   "metadata": {},
   "outputs": [
    {
     "data": {
      "text/plain": [
       "array([[[ 59,  62,  63],\n",
       "        [ 43,  46,  45],\n",
       "        [ 50,  48,  43],\n",
       "        ...,\n",
       "        [158, 132, 108],\n",
       "        [152, 125, 102],\n",
       "        [148, 124, 103]],\n",
       "\n",
       "       [[ 16,  20,  20],\n",
       "        [  0,   0,   0],\n",
       "        [ 18,   8,   0],\n",
       "        ...,\n",
       "        [123,  88,  55],\n",
       "        [119,  83,  50],\n",
       "        [122,  87,  57]],\n",
       "\n",
       "       [[ 25,  24,  21],\n",
       "        [ 16,   7,   0],\n",
       "        [ 49,  27,   8],\n",
       "        ...,\n",
       "        [118,  84,  50],\n",
       "        [120,  84,  50],\n",
       "        [109,  73,  42]],\n",
       "\n",
       "       ...,\n",
       "\n",
       "       [[208, 170,  96],\n",
       "        [201, 153,  34],\n",
       "        [198, 161,  26],\n",
       "        ...,\n",
       "        [160, 133,  70],\n",
       "        [ 56,  31,   7],\n",
       "        [ 53,  34,  20]],\n",
       "\n",
       "       [[180, 139,  96],\n",
       "        [173, 123,  42],\n",
       "        [186, 144,  30],\n",
       "        ...,\n",
       "        [184, 148,  94],\n",
       "        [ 97,  62,  34],\n",
       "        [ 83,  53,  34]],\n",
       "\n",
       "       [[177, 144, 116],\n",
       "        [168, 129,  94],\n",
       "        [179, 142,  87],\n",
       "        ...,\n",
       "        [216, 184, 140],\n",
       "        [151, 118,  84],\n",
       "        [123,  92,  72]]], dtype=uint8)"
      ]
     },
     "execution_count": 5,
     "metadata": {},
     "output_type": "execute_result"
    }
   ],
   "source": [
    "X_train[0]"
   ]
  },
  {
   "cell_type": "code",
   "execution_count": 6,
   "id": "73612c05",
   "metadata": {},
   "outputs": [
    {
     "data": {
      "text/plain": [
       "array([6, 9, 9, 4, 1], dtype=uint8)"
      ]
     },
     "execution_count": 6,
     "metadata": {},
     "output_type": "execute_result"
    }
   ],
   "source": [
    "y_train = y_train.reshape(-1,)\n",
    "y_train[:5]"
   ]
  },
  {
   "cell_type": "code",
   "execution_count": 7,
   "id": "02e73630",
   "metadata": {},
   "outputs": [],
   "source": [
    "y_test = y_test.reshape(-1,)"
   ]
  },
  {
   "cell_type": "code",
   "execution_count": 8,
   "id": "2c7821fc",
   "metadata": {},
   "outputs": [],
   "source": [
    "classes = [\"airplane\",\"automobile\",\"bird\",\"cat\",\"deer\",\"dog\",\"frog\",\"horse\",\"ship\",\"truck\"]"
   ]
  },
  {
   "cell_type": "code",
   "execution_count": 9,
   "id": "33ffa61f",
   "metadata": {},
   "outputs": [],
   "source": [
    "def plot_sample(X, y, index):\n",
    "    plt.figure(figsize = (15,2))\n",
    "    plt.imshow(X[index])\n",
    "    plt.xlabel(classes[y[index]])"
   ]
  },
  {
   "cell_type": "code",
   "execution_count": 10,
   "id": "5520c2ac",
   "metadata": {},
   "outputs": [
    {
     "data": {
      "image/png": "[encoded data removed]",
      "text/plain": [
       "<Figure size 1080x144 with 1 Axes>"
      ]
     },
     "metadata": {
      "needs_background": "light"
     },
     "output_type": "display_data"
    }
   ],
   "source": [
    "plot_sample(X_train, y_train, 0)"
   ]
  },
  {
   "cell_type": "code",
   "execution_count": 11,
   "id": "5bb1caf5",
   "metadata": {},
   "outputs": [],
   "source": [
    "cnn = models.Sequential([\n",
    "    layers.Conv2D(filters=32, kernel_size=(5,5), strides=1,activation='relu',padding='same', input_shape=(32, 32, 3)),\n",
    "    layers.MaxPooling2D((2, 2),strides=2),\n",
    "    \n",
    "    layers.Conv2D(filters=64, kernel_size=(5, 5),strides=1, activation='relu',padding='same'),\n",
    "    layers.MaxPooling2D((2, 2),strides=2),\n",
    "    \n",
    "    layers.Conv2D(filters=64, kernel_size=(5, 5), strides=1,activation='relu',padding='same'),\n",
    "    layers.MaxPooling2D((2, 2),strides=2),\n",
    "    \n",
    "    layers.Flatten(),\n",
    "    layers.Dense(1000, activation='relu'),\n",
    "    layers.Dense(10, activation='softmax')\n",
    "])"
   ]
  },
  {
   "cell_type": "code",
   "execution_count": 12,
   "id": "46c94ec6",
   "metadata": {},
   "outputs": [],
   "source": [
    "cnn.compile(optimizer='adam',\n",
    "              loss='sparse_categorical_crossentropy',\n",
    "              metrics=['accuracy'])"
   ]
  },
  {
   "cell_type": "code",
   "execution_count": 13,
   "id": "f0e523a0",
   "metadata": {},
   "outputs": [
    {
     "name": "stdout",
     "output_type": "stream",
     "text": [
      "Model: \"sequential\"\n",
      "_________________________________________________________________\n",
      " Layer (type)                Output Shape              Param #   \n",
      "=================================================================\n",
      " conv2d (Conv2D)             (None, 32, 32, 32)        2432      \n",
      "                                                                 \n",
      " max_pooling2d (MaxPooling2D  (None, 16, 16, 32)       0         \n",
      " )                                                               \n",
      "                                                                 \n",
      " conv2d_1 (Conv2D)           (None, 16, 16, 64)        51264     \n",
      "                                                                 \n",
      " max_pooling2d_1 (MaxPooling  (None, 8, 8, 64)         0         \n",
      " 2D)                                                             \n",
      "                                                                 \n",
      " conv2d_2 (Conv2D)           (None, 8, 8, 64)          102464    \n",
      "                                                                 \n",
      " max_pooling2d_2 (MaxPooling  (None, 4, 4, 64)         0         \n",
      " 2D)                                                             \n",
      "                                                                 \n",
      " flatten (Flatten)           (None, 1024)              0         \n",
      "                                                                 \n",
      " dense (Dense)               (None, 1000)              1025000   \n",
      "                                                                 \n",
      " dense_1 (Dense)             (None, 10)                10010     \n",
      "                                                                 \n",
      "=================================================================\n",
      "Total params: 1,191,170\n",
      "Trainable params: 1,191,170\n",
      "Non-trainable params: 0\n",
      "_________________________________________________________________\n"
     ]
    }
   ],
   "source": [
    "cnn.summary()"
   ]
  },
  {
   "cell_type": "markdown",
   "id": "b08a81e1",
   "metadata": {},
   "source": [
    "# <span style= 'color:black'><h3> 6/</h3> </span>\n",
    "---"
   ]
  },
  {
   "cell_type": "code",
   "execution_count": 14,
   "id": "db00de5b",
   "metadata": {},
   "outputs": [
    {
     "name": "stdout",
     "output_type": "stream",
     "text": [
      "Epoch 1/50\n",
      "1563/1563 [==============================] - 20s 6ms/step - loss: 1.7763 - accuracy: 0.4069 - val_loss: 1.3825 - val_accuracy: 0.5126\n",
      "Epoch 2/50\n",
      "1563/1563 [==============================] - 9s 6ms/step - loss: 1.3231 - accuracy: 0.5274 - val_loss: 1.3181 - val_accuracy: 0.5380\n",
      "Epoch 3/50\n",
      "1563/1563 [==============================] - 9s 6ms/step - loss: 1.1987 - accuracy: 0.5800 - val_loss: 1.2101 - val_accuracy: 0.5893\n",
      "Epoch 4/50\n",
      "1563/1563 [==============================] - 9s 6ms/step - loss: 1.1157 - accuracy: 0.6103 - val_loss: 1.1806 - val_accuracy: 0.6004\n",
      "Epoch 5/50\n",
      "1563/1563 [==============================] - 9s 6ms/step - loss: 1.0422 - accuracy: 0.6382 - val_loss: 1.1500 - val_accuracy: 0.6046\n",
      "Epoch 6/50\n",
      "1563/1563 [==============================] - 9s 6ms/step - loss: 0.9923 - accuracy: 0.6545 - val_loss: 1.2372 - val_accuracy: 0.5855\n",
      "Epoch 7/50\n",
      "1563/1563 [==============================] - 9s 6ms/step - loss: 0.9376 - accuracy: 0.6763 - val_loss: 1.1895 - val_accuracy: 0.6098\n",
      "Epoch 8/50\n",
      "1563/1563 [==============================] - 9s 6ms/step - loss: 0.9035 - accuracy: 0.6874 - val_loss: 1.2041 - val_accuracy: 0.6132\n",
      "Epoch 9/50\n",
      "1563/1563 [==============================] - 9s 6ms/step - loss: 0.8633 - accuracy: 0.7037 - val_loss: 1.2042 - val_accuracy: 0.6279\n",
      "Epoch 10/50\n",
      "1563/1563 [==============================] - 9s 6ms/step - loss: 0.8218 - accuracy: 0.7166 - val_loss: 1.2073 - val_accuracy: 0.6276\n",
      "Epoch 11/50\n",
      "1563/1563 [==============================] - 9s 6ms/step - loss: 0.7838 - accuracy: 0.7323 - val_loss: 1.2785 - val_accuracy: 0.6154\n",
      "Epoch 12/50\n",
      "1563/1563 [==============================] - 9s 6ms/step - loss: 0.7606 - accuracy: 0.7414 - val_loss: 1.3020 - val_accuracy: 0.6374\n",
      "Epoch 13/50\n",
      "1563/1563 [==============================] - 9s 6ms/step - loss: 0.7440 - accuracy: 0.7501 - val_loss: 1.2724 - val_accuracy: 0.6177\n",
      "Epoch 14/50\n",
      "1563/1563 [==============================] - 9s 6ms/step - loss: 0.7144 - accuracy: 0.7612 - val_loss: 1.3243 - val_accuracy: 0.6334\n",
      "Epoch 15/50\n",
      "1563/1563 [==============================] - 9s 6ms/step - loss: 0.6928 - accuracy: 0.7682 - val_loss: 1.4664 - val_accuracy: 0.6218\n",
      "Epoch 16/50\n",
      "1563/1563 [==============================] - 9s 6ms/step - loss: 0.6846 - accuracy: 0.7723 - val_loss: 1.4698 - val_accuracy: 0.6204\n",
      "Epoch 17/50\n",
      "1563/1563 [==============================] - 9s 6ms/step - loss: 0.6684 - accuracy: 0.7807 - val_loss: 1.4999 - val_accuracy: 0.6113\n",
      "Epoch 18/50\n",
      "1563/1563 [==============================] - 9s 6ms/step - loss: 0.6541 - accuracy: 0.7839 - val_loss: 1.6388 - val_accuracy: 0.6099\n",
      "Epoch 19/50\n",
      "1563/1563 [==============================] - 9s 6ms/step - loss: 0.6338 - accuracy: 0.7915 - val_loss: 1.5134 - val_accuracy: 0.6152\n",
      "Epoch 20/50\n",
      "1563/1563 [==============================] - 9s 6ms/step - loss: 0.6286 - accuracy: 0.7971 - val_loss: 1.5951 - val_accuracy: 0.6033\n",
      "Epoch 21/50\n",
      "1563/1563 [==============================] - 9s 6ms/step - loss: 0.6173 - accuracy: 0.8031 - val_loss: 1.6074 - val_accuracy: 0.6082\n",
      "Epoch 22/50\n",
      "1563/1563 [==============================] - 9s 6ms/step - loss: 0.6171 - accuracy: 0.8037 - val_loss: 1.7128 - val_accuracy: 0.6265\n",
      "Epoch 23/50\n",
      "1563/1563 [==============================] - 9s 6ms/step - loss: 0.5861 - accuracy: 0.8144 - val_loss: 1.9379 - val_accuracy: 0.6201\n",
      "Epoch 24/50\n",
      "1563/1563 [==============================] - 9s 6ms/step - loss: 0.6229 - accuracy: 0.8035 - val_loss: 1.7441 - val_accuracy: 0.6257\n",
      "Epoch 25/50\n",
      "1563/1563 [==============================] - 9s 6ms/step - loss: 0.5734 - accuracy: 0.8189 - val_loss: 1.9151 - val_accuracy: 0.5902\n",
      "Epoch 26/50\n",
      "1563/1563 [==============================] - 9s 6ms/step - loss: 0.5813 - accuracy: 0.8199 - val_loss: 2.0500 - val_accuracy: 0.5920\n",
      "Epoch 27/50\n",
      "1563/1563 [==============================] - 9s 6ms/step - loss: 0.6055 - accuracy: 0.8138 - val_loss: 2.0182 - val_accuracy: 0.6125\n",
      "Epoch 28/50\n",
      "1563/1563 [==============================] - 9s 6ms/step - loss: 0.6049 - accuracy: 0.8149 - val_loss: 1.9745 - val_accuracy: 0.6125\n",
      "Epoch 29/50\n",
      "1563/1563 [==============================] - 9s 6ms/step - loss: 0.5826 - accuracy: 0.8203 - val_loss: 1.8698 - val_accuracy: 0.6187\n",
      "Epoch 30/50\n",
      "1563/1563 [==============================] - 9s 6ms/step - loss: 0.5938 - accuracy: 0.8197 - val_loss: 1.8525 - val_accuracy: 0.6123\n",
      "Epoch 31/50\n",
      "1563/1563 [==============================] - 9s 6ms/step - loss: 0.5794 - accuracy: 0.8225 - val_loss: 2.4570 - val_accuracy: 0.6032\n",
      "Epoch 32/50\n",
      "1563/1563 [==============================] - 9s 6ms/step - loss: 0.5996 - accuracy: 0.8208 - val_loss: 1.8913 - val_accuracy: 0.6102\n",
      "Epoch 33/50\n",
      "1563/1563 [==============================] - 9s 6ms/step - loss: 0.5757 - accuracy: 0.8260 - val_loss: 2.2145 - val_accuracy: 0.6216\n",
      "Epoch 34/50\n",
      "1563/1563 [==============================] - 9s 6ms/step - loss: 0.5866 - accuracy: 0.8243 - val_loss: 2.3101 - val_accuracy: 0.6099\n",
      "Epoch 35/50\n",
      "1563/1563 [==============================] - 9s 6ms/step - loss: 0.6175 - accuracy: 0.8194 - val_loss: 2.3815 - val_accuracy: 0.6104\n",
      "Epoch 36/50\n",
      "1563/1563 [==============================] - 9s 6ms/step - loss: 0.5964 - accuracy: 0.8265 - val_loss: 1.9511 - val_accuracy: 0.5953\n",
      "Epoch 37/50\n",
      "1563/1563 [==============================] - 9s 6ms/step - loss: 0.5965 - accuracy: 0.8288 - val_loss: 2.2267 - val_accuracy: 0.6137\n",
      "Epoch 38/50\n",
      "1563/1563 [==============================] - 9s 6ms/step - loss: 0.5796 - accuracy: 0.8292 - val_loss: 2.2678 - val_accuracy: 0.6239\n",
      "Epoch 39/50\n",
      "1563/1563 [==============================] - 9s 6ms/step - loss: 0.6050 - accuracy: 0.8254 - val_loss: 2.1042 - val_accuracy: 0.6072\n",
      "Epoch 40/50\n",
      "1563/1563 [==============================] - 9s 6ms/step - loss: 0.6082 - accuracy: 0.8238 - val_loss: 2.2944 - val_accuracy: 0.5848\n",
      "Epoch 41/50\n",
      "1563/1563 [==============================] - 9s 6ms/step - loss: 0.6300 - accuracy: 0.8201 - val_loss: 2.3744 - val_accuracy: 0.5943\n",
      "Epoch 42/50\n",
      "1563/1563 [==============================] - 9s 6ms/step - loss: 0.6038 - accuracy: 0.8239 - val_loss: 2.4164 - val_accuracy: 0.6140\n",
      "Epoch 43/50\n",
      "1563/1563 [==============================] - 9s 6ms/step - loss: 0.6480 - accuracy: 0.8149 - val_loss: 2.3296 - val_accuracy: 0.6033\n",
      "Epoch 44/50\n",
      "1563/1563 [==============================] - 9s 6ms/step - loss: 0.6486 - accuracy: 0.8137 - val_loss: 2.1183 - val_accuracy: 0.6115\n",
      "Epoch 45/50\n",
      "1563/1563 [==============================] - 9s 6ms/step - loss: 0.5992 - accuracy: 0.8280 - val_loss: 1.9763 - val_accuracy: 0.5988\n",
      "Epoch 46/50\n",
      "1563/1563 [==============================] - 9s 6ms/step - loss: 0.6361 - accuracy: 0.8169 - val_loss: 2.2271 - val_accuracy: 0.6071\n",
      "Epoch 47/50\n",
      "1563/1563 [==============================] - 9s 6ms/step - loss: 0.6057 - accuracy: 0.8258 - val_loss: 2.3315 - val_accuracy: 0.6045\n",
      "Epoch 48/50\n",
      "1563/1563 [==============================] - 9s 6ms/step - loss: 0.6801 - accuracy: 0.8055 - val_loss: 2.3226 - val_accuracy: 0.6029\n",
      "Epoch 49/50\n",
      "1563/1563 [==============================] - 9s 6ms/step - loss: 0.6152 - accuracy: 0.8236 - val_loss: 2.7205 - val_accuracy: 0.6248\n",
      "Epoch 50/50\n",
      "1563/1563 [==============================] - 9s 6ms/step - loss: 0.6963 - accuracy: 0.8061 - val_loss: 2.5051 - val_accuracy: 0.5972\n"
     ]
    }
   ],
   "source": [
    "history=cnn.fit(X_train, y_train, epochs=50,validation_data=(X_test, y_test))"
   ]
  },
  {
   "cell_type": "code",
   "execution_count": 15,
   "id": "29f3df0c",
   "metadata": {},
   "outputs": [
    {
     "name": "stdout",
     "output_type": "stream",
     "text": [
      "313/313 [==============================] - 1s 3ms/step - loss: 2.5051 - accuracy: 0.5972\n"
     ]
    },
    {
     "data": {
      "text/plain": [
       "[2.5050692558288574, 0.5971999764442444]"
      ]
     },
     "execution_count": 15,
     "metadata": {},
     "output_type": "execute_result"
    }
   ],
   "source": [
    "cnn.evaluate(X_test,y_test)"
   ]
  },
  {
   "cell_type": "code",
   "execution_count": 16,
   "id": "bcd67aba",
   "metadata": {},
   "outputs": [],
   "source": [
    "y_pred=cnn.predict(X_test)"
   ]
  },
  {
   "cell_type": "code",
   "execution_count": 17,
   "id": "bce7ec3d",
   "metadata": {},
   "outputs": [
    {
     "name": "stdout",
     "output_type": "stream",
     "text": [
      "class_predict :  [3, 1, 8, 8, 4, 6, 1, 6, 3, 1]\n",
      "class_juste :  [3 8 8 0 6 6 1 6 3 1]\n"
     ]
    }
   ],
   "source": [
    "y_classes=[np.argmax(item) for item in y_pred]\n",
    "print(\"class_predict : \",y_classes[:10])\n",
    "print(\"class_juste : \",y_test[:10])"
   ]
  },
  {
   "cell_type": "code",
   "execution_count": 18,
   "id": "f8f26cfc",
   "metadata": {},
   "outputs": [
    {
     "name": "stdout",
     "output_type": "stream",
     "text": [
      "Classification Report: \n",
      "               precision    recall  f1-score   support\n",
      "\n",
      "           0       0.68      0.63      0.66      1000\n",
      "           1       0.73      0.74      0.74      1000\n",
      "           2       0.51      0.46      0.48      1000\n",
      "           3       0.35      0.43      0.39      1000\n",
      "           4       0.52      0.50      0.51      1000\n",
      "           5       0.45      0.57      0.50      1000\n",
      "           6       0.72      0.60      0.65      1000\n",
      "           7       0.69      0.66      0.67      1000\n",
      "           8       0.83      0.64      0.72      1000\n",
      "           9       0.66      0.75      0.70      1000\n",
      "\n",
      "    accuracy                           0.60     10000\n",
      "   macro avg       0.61      0.60      0.60     10000\n",
      "weighted avg       0.61      0.60      0.60     10000\n",
      "\n"
     ]
    }
   ],
   "source": [
    "print(\"Classification Report: \\n\", classification_report(y_test, y_classes))"
   ]
  },
  {
   "cell_type": "code",
   "execution_count": 19,
   "id": "48cf6e2e",
   "metadata": {},
   "outputs": [
    {
     "data": {
      "image/png": "[encoded data removed]",
      "text/plain": [
       "<Figure size 432x288 with 1 Axes>"
      ]
     },
     "metadata": {
      "needs_background": "light"
     },
     "output_type": "display_data"
    }
   ],
   "source": [
    "plt.plot(history.history['accuracy'])\n",
    "plt.plot(history.history['val_accuracy'])\n",
    "plt.title('model accuracy')\n",
    "plt.ylabel('accuracy')\n",
    "plt.xlabel('epoch')\n",
    "plt.legend(['train', 'val'], loc='upper left')\n",
    "plt.show()"
   ]
  },
  {
   "cell_type": "code",
   "execution_count": 20,
   "id": "92917a96",
   "metadata": {},
   "outputs": [
    {
     "data": {
      "image/png": "[encoded data removed]",
      "text/plain": [
       "<Figure size 432x288 with 1 Axes>"
      ]
     },
     "metadata": {
      "needs_background": "light"
     },
     "output_type": "display_data"
    }
   ],
   "source": [
    "plt.plot(history.history['loss'])\n",
    "plt.plot(history.history['val_loss'])\n",
    "plt.title('model loss')\n",
    "plt.ylabel('loss')\n",
    "plt.xlabel('epoch')\n",
    "plt.legend(['train', 'val'], loc='upper left')\n",
    "plt.show()"
   ]
  },
  {
   "cell_type": "markdown",
   "id": "c97df797",
   "metadata": {},
   "source": [
    "# <span style= 'color:black'><h3> 7/</h3> </span>\n",
    "---"
   ]
  },
  {
   "cell_type": "markdown",
   "id": "ce7bf440",
   "metadata": {},
   "source": [
    "Le taux d'apprentissage est un hyperparamètre qui contrôle le degré de modification du modèle en réponse à l'erreur estimée chaque fois que les poids du modèle sont mis à jour. Le choix du taux d'apprentissage est difficile car une valeur trop petite peut entraîner un long processus d'entraînement qui pourrait rester bloqué, tandis qu'une valeur trop grande peut entraîner l'apprentissage trop rapide d'un ensemble de poids sous-optimal ou un processus d'entraînement instable."
   ]
  },
  {
   "cell_type": "code",
   "execution_count": null,
   "id": "59df1ac9",
   "metadata": {},
   "outputs": [],
   "source": [
    "# opt = keras.optimizers.Adam(learning_rate=0.01)\n",
    "# cnn.compile(optimizer=opt,\n",
    "#               loss='sparse_categorical_crossentropy',\n",
    "#               metrics=['accuracy'])"
   ]
  },
  {
   "cell_type": "code",
   "execution_count": null,
   "id": "5a614fc5",
   "metadata": {},
   "outputs": [],
   "source": [
    "# cnn.fit(X_train, y_train, epochs=20)"
   ]
  },
  {
   "cell_type": "code",
   "execution_count": null,
   "id": "39824cbf",
   "metadata": {},
   "outputs": [],
   "source": [
    "# cnn.evaluate(X_test,y_test)"
   ]
  },
  {
   "cell_type": "code",
   "execution_count": null,
   "id": "c902c5cb",
   "metadata": {},
   "outputs": [],
   "source": [
    "# opt = keras.optimizers.Adam(learning_rate=0.1)\n",
    "# cnn.compile(optimizer=opt,\n",
    "#               loss='sparse_categorical_crossentropy',\n",
    "#               metrics=['accuracy'])"
   ]
  },
  {
   "cell_type": "code",
   "execution_count": null,
   "id": "b0f8c2e9",
   "metadata": {},
   "outputs": [],
   "source": [
    "# cnn.fit(X_train, y_train, epochs=20)"
   ]
  },
  {
   "cell_type": "code",
   "execution_count": null,
   "id": "cc195b89",
   "metadata": {},
   "outputs": [],
   "source": [
    "# cnn.evaluate(X_test,y_test)"
   ]
  },
  {
   "cell_type": "markdown",
   "id": "0b3eeaea",
   "metadata": {},
   "source": [
    "mini batch est le nombre d echantillons pour chaque iteration qui est entre 1 et nombre totale des echantillons,\n",
    "si on augmente mini batch donc accuracy augmente mais le temps d entraiment augmente aussi,si on diminue ,le temps d 'entrainement diminue mais on risque de pas avoir le bon accuracy "
   ]
  },
  {
   "cell_type": "code",
   "execution_count": null,
   "id": "477191a4",
   "metadata": {},
   "outputs": [],
   "source": [
    "# cnn.compile(optimizer='adam',\n",
    "#               loss='sparse_categorical_crossentropy',\n",
    "#               metrics=['accuracy'])"
   ]
  },
  {
   "cell_type": "code",
   "execution_count": null,
   "id": "bfe0de94",
   "metadata": {},
   "outputs": [],
   "source": [
    "# cnn.fit(X_train, y_train,batch_size=10, epochs=20)"
   ]
  },
  {
   "cell_type": "code",
   "execution_count": null,
   "id": "58759f2c",
   "metadata": {},
   "outputs": [],
   "source": [
    "# cnn.evaluate(X_test,y_test)"
   ]
  },
  {
   "cell_type": "code",
   "execution_count": null,
   "id": "7c0566db",
   "metadata": {},
   "outputs": [],
   "source": [
    "# cnn.fit(X_train, y_train,batch_size=100, epochs=20)"
   ]
  },
  {
   "cell_type": "code",
   "execution_count": null,
   "id": "38463d41",
   "metadata": {},
   "outputs": [],
   "source": [
    "# cnn.evaluate(X_test,y_test)"
   ]
  },
  {
   "cell_type": "markdown",
   "id": "c4ed8b6f",
   "metadata": {},
   "source": [
    "# <span style= 'color:black'><h4> 8/ </h4> </span>\n",
    "---"
   ]
  },
  {
   "cell_type": "markdown",
   "id": "ad6b76c4",
   "metadata": {},
   "source": [
    "loss=la multiplication du  résultat réel par le logarithme du résultat produit par le modèle pour chaque classe, puis nous les additionnons"
   ]
  },
  {
   "cell_type": "markdown",
   "id": "cd497cfe",
   "metadata": {},
   "source": [
    "loss = ( y_reel_0 * log ( y_pred_0 ) ) + ( y_reel_1 * log ( y_pred_1 ) ) + ( y_reel_2 * log ( y_pred_2 ) ) + ..... + ( y_reel_m * log ( y_pred_m ) ) ,avec m l indice  du dernier  classe (sparse crossentropy)"
   ]
  },
  {
   "cell_type": "markdown",
   "id": "280bef77",
   "metadata": {},
   "source": [
    "loss diminue si  y_pred augmente ,loss = 0 si y_pred = 1"
   ]
  },
  {
   "cell_type": "markdown",
   "id": "87e0f0e0",
   "metadata": {},
   "source": [
    "# <span style= 'color:black'><h4> 9/ </h4> </span>\n",
    "---"
   ]
  },
  {
   "cell_type": "markdown",
   "id": "10dc2998",
   "metadata": {},
   "source": [
    "->on a dans la courbe de loss ,a partir de la deuxieme epoch ,pour train set ,loss diminue jusqu a valeur proche de 0 tandis que pour validation set loss continue a augmenter ,de plus a la 50 epochs on remarque un grande difference au niveau de l 'accuracy de train 0.80 et validation 0.59,on peut ameliorer les resultats avec data augmentation ou dropout  .ce   phenomene est l overfitting. "
   ]
  },
  {
   "cell_type": "markdown",
   "id": "bbb86537",
   "metadata": {},
   "source": [
    "# <span style= 'color:blue'><h1> Partie 3: Améliorations des résultats:</h1> </span>\n",
    "---"
   ]
  },
  {
   "cell_type": "markdown",
   "id": "ae684c2a",
   "metadata": {},
   "source": [
    "# <span style= 'color:black'><h4> 1/ </h4> </span>\n",
    "---"
   ]
  },
  {
   "cell_type": "code",
   "execution_count": 11,
   "id": "068fd284",
   "metadata": {},
   "outputs": [
    {
     "data": {
      "text/plain": [
       "array([[[[125.30691805, 122.95039414, 113.86538318]]]])"
      ]
     },
     "execution_count": 11,
     "metadata": {},
     "output_type": "execute_result"
    }
   ],
   "source": [
    "means_x = X_train.mean(axis=(0,1,2), keepdims=True)\n",
    "means_x"
   ]
  },
  {
   "cell_type": "code",
   "execution_count": 12,
   "id": "758ae327",
   "metadata": {},
   "outputs": [
    {
     "data": {
      "text/plain": [
       "(1, 1, 1, 3)"
      ]
     },
     "execution_count": 12,
     "metadata": {},
     "output_type": "execute_result"
    }
   ],
   "source": [
    "means_x.shape"
   ]
  },
  {
   "cell_type": "code",
   "execution_count": 13,
   "id": "775023f1",
   "metadata": {},
   "outputs": [
    {
     "data": {
      "text/plain": [
       "array([[[[62.99321928, 62.08870764, 66.70489964]]]])"
      ]
     },
     "execution_count": 13,
     "metadata": {},
     "output_type": "execute_result"
    }
   ],
   "source": [
    "std_x=X_train.std(axis=(0,1,2), keepdims=True)\n",
    "std_x"
   ]
  },
  {
   "cell_type": "code",
   "execution_count": 14,
   "id": "015b5f48",
   "metadata": {},
   "outputs": [
    {
     "data": {
      "text/plain": [
       "(1, 1, 1, 3)"
      ]
     },
     "execution_count": 14,
     "metadata": {},
     "output_type": "execute_result"
    }
   ],
   "source": [
    "std_x.shape"
   ]
  },
  {
   "cell_type": "code",
   "execution_count": 15,
   "id": "a769b50d",
   "metadata": {},
   "outputs": [
    {
     "data": {
      "text/plain": [
       "array([[[[-1.05260405e+00, -9.81666336e-01, -7.62543433e-01],\n",
       "         [-1.30659965e+00, -1.23936215e+00, -1.03238868e+00],\n",
       "         [-1.19547658e+00, -1.20715017e+00, -1.06237148e+00],\n",
       "         ...,\n",
       "         [ 5.18993668e-01,  1.45752846e-01, -8.79303202e-02],\n",
       "         [ 4.23745321e-01,  3.30109280e-02, -1.77878735e-01],\n",
       "         [ 3.60246424e-01,  1.69049397e-02, -1.62887333e-01]],\n",
       "\n",
       "        [[-1.73521721e+00, -1.65811785e+00, -1.40717374e+00],\n",
       "         [-1.98921280e+00, -1.98023761e+00, -1.70700179e+00],\n",
       "         [-1.70346776e+00, -1.85138971e+00, -1.70700179e+00],\n",
       "         ...,\n",
       "         [-3.66216884e-02, -5.62910640e-01, -8.82474653e-01],\n",
       "         [-1.00120586e-01, -6.43440581e-01, -9.57431666e-01],\n",
       "         [-5.24964129e-02, -5.79016628e-01, -8.52491848e-01]],\n",
       "\n",
       "        [[-1.59234469e+00, -1.59369389e+00, -1.39218234e+00],\n",
       "         [-1.73521721e+00, -1.86749569e+00, -1.70700179e+00],\n",
       "         [-1.21135130e+00, -1.54537593e+00, -1.58707057e+00],\n",
       "         ...,\n",
       "         [-1.15995311e-01, -6.27334593e-01, -9.57431666e-01],\n",
       "         [-8.42458618e-02, -6.27334593e-01, -9.57431666e-01],\n",
       "         [-2.58867831e-01, -8.04500465e-01, -1.07736289e+00]],\n",
       "\n",
       "        ...,\n",
       "\n",
       "        [[ 1.31272989e+00,  7.57780402e-01, -2.67827150e-01],\n",
       "         [ 1.20160682e+00,  4.83978601e-01, -1.19729411e+00],\n",
       "         [ 1.15398265e+00,  6.12826508e-01, -1.31722533e+00],\n",
       "         ...,\n",
       "         [ 5.50743117e-01,  1.61858835e-01, -6.57603616e-01],\n",
       "         [-1.10022823e+00, -1.48095197e+00, -1.60206197e+00],\n",
       "         [-1.14785240e+00, -1.43263401e+00, -1.40717374e+00]],\n",
       "\n",
       "        [[ 8.68237607e-01,  2.58494764e-01, -2.67827150e-01],\n",
       "         [ 7.57114535e-01,  7.98951392e-04, -1.07736289e+00],\n",
       "         [ 9.63485954e-01,  3.39024706e-01, -1.25725972e+00],\n",
       "         ...,\n",
       "         [ 9.31736505e-01,  4.03448659e-01, -2.97809955e-01],\n",
       "         [-4.49364525e-01, -9.81666336e-01, -1.19729411e+00],\n",
       "         [-6.71610667e-01, -1.12662023e+00, -1.19729411e+00]],\n",
       "\n",
       "        [[ 8.20613433e-01,  3.39024706e-01,  3.20008999e-02],\n",
       "         [ 6.77740913e-01,  9.74348813e-02, -2.97809955e-01],\n",
       "         [ 8.52362882e-01,  3.06812729e-01, -4.02749773e-01],\n",
       "         ...,\n",
       "         [ 1.43972769e+00,  9.83264239e-01,  3.91794560e-01],\n",
       "         [ 4.07870597e-01, -7.97309902e-02, -4.47723980e-01],\n",
       "         [-3.66216884e-02, -4.98486687e-01, -6.27620811e-01]]],\n",
       "\n",
       "\n",
       "       [[[ 4.55494770e-01,  8.70522321e-01,  1.09639048e+00],\n",
       "         [ 1.10024850e-02,  2.26282788e-01,  3.31828950e-01],\n",
       "         [-3.22366729e-01, -3.05214827e-01, -2.82818553e-01],\n",
       "         ...,\n",
       "         [-5.44612872e-01, -4.50168722e-01, -6.42612213e-01],\n",
       "         [-6.08111770e-01, -5.30698663e-01, -6.42612213e-01],\n",
       "         [-7.35109565e-01, -6.75652558e-01, -6.57603616e-01]],\n",
       "\n",
       "        [[ 2.33248628e-01,  5.96720519e-01,  8.26545233e-01],\n",
       "         [ 3.12622250e-01,  4.83978601e-01,  6.01674195e-01],\n",
       "         [-4.87223943e-03,  3.30109280e-02,  6.19837049e-02],\n",
       "         ...,\n",
       "         [-4.65239249e-01, -3.85744768e-01, -5.37672396e-01],\n",
       "         [-7.66859014e-01, -6.91758546e-01, -7.77534836e-01],\n",
       "         [-8.62107361e-01, -8.04500465e-01, -7.92526238e-01]],\n",
       "\n",
       "        [[ 2.33248628e-01,  5.16190578e-01,  7.51588220e-01],\n",
       "         [ 2.17373903e-01,  3.71236683e-01,  5.26717183e-01],\n",
       "         [-1.63619484e-01, -1.28048955e-01, -2.79647101e-02],\n",
       "         ...,\n",
       "         [-7.35109565e-01, -6.59546570e-01, -7.47552031e-01],\n",
       "         [-9.09731535e-01, -8.52818430e-01, -8.82474653e-01],\n",
       "         [-9.25606259e-01, -8.68924418e-01, -8.82474653e-01]],\n",
       "\n",
       "        ...,\n",
       "\n",
       "        [[ 7.88863984e-01,  7.09462437e-01,  7.81571025e-01],\n",
       "         [ 4.87244219e-01,  5.00084589e-01,  6.91622610e-01],\n",
       "         [ 4.55494770e-01,  5.96720519e-01,  8.41536636e-01],\n",
       "         ...,\n",
       "         [-1.32247437e+00, -1.43263401e+00, -1.16731130e+00],\n",
       "         [-1.02085461e+00, -1.12662023e+00, -8.52491848e-01],\n",
       "         [-5.12863423e-01, -6.43440581e-01, -3.42784163e-01]],\n",
       "\n",
       "        [[ 6.30116740e-01,  5.00084589e-01,  2.11897730e-01],\n",
       "         [ 4.87244219e-01,  4.67872613e-01,  2.41880535e-01],\n",
       "         [ 5.34868393e-01,  6.12826508e-01,  4.21777365e-01],\n",
       "         ...,\n",
       "         [-3.54116178e-01, -4.82380698e-01, -2.67827150e-01],\n",
       "         [-3.66216884e-02, -1.44154943e-01,  9.19665099e-02],\n",
       "         [ 9.03761074e-02, -3.14130252e-02,  2.56871938e-01]],\n",
       "\n",
       "        [[ 5.98367291e-01,  4.03448659e-01,  9.19665099e-02],\n",
       "         [ 5.18993668e-01,  4.03448659e-01,  1.21949315e-01],\n",
       "         [ 5.98367291e-01,  5.32296566e-01,  2.86854743e-01],\n",
       "         ...,\n",
       "         [ 2.80872801e-01,  1.61858835e-01,  3.76803158e-01],\n",
       "         [ 2.80872801e-01,  1.77964823e-01,  4.21777365e-01],\n",
       "         [ 2.80872801e-01,  1.61858835e-01,  4.51760170e-01]]],\n",
       "\n",
       "\n",
       "       [[[ 2.05884194e+00,  2.12678941e+00,  2.11580585e+00],\n",
       "         [ 2.02709249e+00,  2.09457743e+00,  2.08582304e+00],\n",
       "         [ 2.02709249e+00,  2.09457743e+00,  2.08582304e+00],\n",
       "         ...,\n",
       "         [ 2.02709249e+00,  2.09457743e+00,  2.08582304e+00],\n",
       "         [ 2.02709249e+00,  2.09457743e+00,  2.08582304e+00],\n",
       "         [ 2.02709249e+00,  2.09457743e+00,  2.08582304e+00]],\n",
       "\n",
       "        [[ 2.05884194e+00,  2.12678941e+00,  2.11580585e+00],\n",
       "         [ 2.05884194e+00,  2.12678941e+00,  2.11580585e+00],\n",
       "         [ 2.05884194e+00,  2.12678941e+00,  2.11580585e+00],\n",
       "         ...,\n",
       "         [ 2.05884194e+00,  2.12678941e+00,  2.11580585e+00],\n",
       "         [ 2.05884194e+00,  2.12678941e+00,  2.11580585e+00],\n",
       "         [ 2.05884194e+00,  2.12678941e+00,  2.11580585e+00]],\n",
       "\n",
       "        [[ 2.05884194e+00,  2.12678941e+00,  2.11580585e+00],\n",
       "         [ 2.04296722e+00,  2.11068342e+00,  2.10081445e+00],\n",
       "         [ 2.04296722e+00,  2.11068342e+00,  2.10081445e+00],\n",
       "         ...,\n",
       "         [ 2.04296722e+00,  2.11068342e+00,  2.10081445e+00],\n",
       "         [ 2.04296722e+00,  2.11068342e+00,  2.10081445e+00],\n",
       "         [ 2.04296722e+00,  2.11068342e+00,  2.10081445e+00]],\n",
       "\n",
       "        ...,\n",
       "\n",
       "        [[-1.95368933e-01, -4.75190136e-02, -2.79647101e-02],\n",
       "         [-2.27118382e-01, -7.97309902e-02, -4.29561127e-02],\n",
       "         [-3.22366729e-01, -1.76366920e-01, -1.17913125e-01],\n",
       "         ...,\n",
       "         [-8.46232637e-01, -6.75652558e-01, -5.07689591e-01],\n",
       "         [-8.46232637e-01, -6.91758546e-01, -5.22680993e-01],\n",
       "         [-8.46232637e-01, -6.91758546e-01, -5.22680993e-01]],\n",
       "\n",
       "        [[-2.27118382e-01, -7.97309902e-02, -5.79475152e-02],\n",
       "         [-3.38241453e-01, -1.92472908e-01, -1.47895930e-01],\n",
       "         [-4.17615076e-01, -2.73002850e-01, -2.37844345e-01],\n",
       "         ...,\n",
       "         [-9.09731535e-01, -7.72288488e-01, -6.12629408e-01],\n",
       "         [-8.77982086e-01, -7.56182500e-01, -5.82646603e-01],\n",
       "         [-7.50984290e-01, -6.27334593e-01, -4.77706785e-01]],\n",
       "\n",
       "        [[-3.06492005e-01, -1.60260932e-01, -1.32904528e-01],\n",
       "         [-4.17615076e-01, -2.73002850e-01, -2.37844345e-01],\n",
       "         [-4.81113974e-01, -3.37426803e-01, -2.97809955e-01],\n",
       "         ...,\n",
       "         [-7.50984290e-01, -6.11228605e-01, -4.62715383e-01],\n",
       "         [-7.35109565e-01, -6.11228605e-01, -4.62715383e-01],\n",
       "         [-7.19234841e-01, -5.95122616e-01, -4.47723980e-01]]],\n",
       "\n",
       "\n",
       "       ...,\n",
       "\n",
       "\n",
       "       [[[-1.43359744e+00,  8.86628309e-01,  1.81597780e+00],\n",
       "         [-1.35422382e+00,  8.54416332e-01,  1.87594341e+00],\n",
       "         [-1.32247437e+00,  8.54416332e-01,  1.90592621e+00],\n",
       "         ...,\n",
       "         [-4.17615076e-01,  8.70522321e-01,  1.57611536e+00],\n",
       "         [-7.35109565e-01,  3.87342671e-01,  1.24630450e+00],\n",
       "         [-5.76362321e-01,  4.03448659e-01,  1.12637328e+00]],\n",
       "\n",
       "        [[-1.08435350e+00,  9.51052262e-01,  1.80098640e+00],\n",
       "         [-1.29072492e+00,  9.83264239e-01,  2.04084884e+00],\n",
       "         [-1.19547658e+00,  9.67158251e-01,  1.89093481e+00],\n",
       "         ...,\n",
       "         [ 4.87244219e-01,  9.51052262e-01,  1.29127871e+00],\n",
       "         [ 2.49123352e-01,  8.70522321e-01,  1.38122713e+00],\n",
       "         [-1.47744760e-01,  4.19554648e-01,  9.16493648e-01]],\n",
       "\n",
       "        [[-4.33489800e-01,  1.19264209e+00,  1.84596060e+00],\n",
       "         [-9.73230433e-01,  1.06379418e+00,  2.07083164e+00],\n",
       "         [-8.93856810e-01,  1.11211215e+00,  1.96589182e+00],\n",
       "         ...,\n",
       "         [ 9.95235403e-01,  1.16043011e+00,  1.38122713e+00],\n",
       "         [-1.00120586e-01,  1.94070811e-01,  4.96734378e-01],\n",
       "         [-1.02085461e+00, -7.07864535e-01, -3.57775565e-01]],\n",
       "\n",
       "        ...,\n",
       "\n",
       "        [[-8.30357912e-01, -7.07864535e-01, -5.52663798e-01],\n",
       "         [-1.14785240e+00, -9.65560348e-01, -6.87586421e-01],\n",
       "         [-1.13197768e+00, -8.85030406e-01, -5.07689591e-01],\n",
       "         ...,\n",
       "         [-1.71934248e+00, -1.33599808e+00, -7.47552031e-01],\n",
       "         [-1.65584359e+00, -1.40042203e+00, -9.42440263e-01],\n",
       "         [-1.46534689e+00, -1.20715017e+00, -9.72423068e-01]],\n",
       "\n",
       "        [[-1.02085461e+00, -8.85030406e-01, -5.82646603e-01],\n",
       "         [-1.11610295e+00, -8.52818430e-01, -4.17741175e-01],\n",
       "         [-1.08435350e+00, -7.07864535e-01, -1.62887333e-01],\n",
       "         ...,\n",
       "         [-1.60821941e+00, -1.20715017e+00, -6.27620811e-01],\n",
       "         [-1.71934248e+00, -1.41652802e+00, -9.12457458e-01],\n",
       "         [-1.87808973e+00, -1.60979988e+00, -1.22727691e+00]],\n",
       "\n",
       "        [[-1.29072492e+00, -1.07830227e+00, -6.12629408e-01],\n",
       "         [-1.25897547e+00, -9.17242383e-01, -3.87758370e-01],\n",
       "         [-1.21135130e+00, -7.40076511e-01, -1.32904528e-01],\n",
       "         ...,\n",
       "         [-1.56059524e+00, -1.14272622e+00, -5.52663798e-01],\n",
       "         [-1.65584359e+00, -1.28768011e+00, -7.17569226e-01],\n",
       "         [-1.79871611e+00, -1.48095197e+00, -9.57431666e-01]]],\n",
       "\n",
       "\n",
       "       [[[ 1.01111013e+00,  1.41812592e+00,  1.89093481e+00],\n",
       "         [ 9.63485954e-01,  1.36980796e+00,  1.83096920e+00],\n",
       "         [ 9.47611229e-01,  1.35370197e+00,  1.81597780e+00],\n",
       "         ...,\n",
       "         [ 7.88863984e-01,  1.16043011e+00,  1.65107237e+00],\n",
       "         [ 7.41239811e-01,  1.14432412e+00,  1.62108957e+00],\n",
       "         [ 6.93615638e-01,  1.14432412e+00,  1.59110676e+00]],\n",
       "\n",
       "        [[ 1.09048375e+00,  1.40201994e+00,  1.87594341e+00],\n",
       "         [ 1.04285958e+00,  1.35370197e+00,  1.83096920e+00],\n",
       "         [ 1.02698485e+00,  1.33759598e+00,  1.81597780e+00],\n",
       "         ...,\n",
       "         [ 7.57114535e-01,  1.11211215e+00,  1.59110676e+00],\n",
       "         [ 7.25365087e-01,  1.09600616e+00,  1.56112396e+00],\n",
       "         [ 6.61866189e-01,  1.07990017e+00,  1.53114115e+00]],\n",
       "\n",
       "        [[ 1.31272989e+00,  1.54697383e+00,  1.95090042e+00],\n",
       "         [ 1.26510572e+00,  1.49865587e+00,  1.89093481e+00],\n",
       "         [ 1.24923099e+00,  1.48254988e+00,  1.87594341e+00],\n",
       "         ...,\n",
       "         [ 7.88863984e-01,  1.09600616e+00,  1.54613255e+00],\n",
       "         [ 7.41239811e-01,  1.07990017e+00,  1.53114115e+00],\n",
       "         [ 6.93615638e-01,  1.09600616e+00,  1.51614975e+00]],\n",
       "\n",
       "        ...,\n",
       "\n",
       "        [[ 1.29685517e+00,  1.22485406e+00,  1.00644206e+00],\n",
       "         [ 1.23335627e+00,  1.16043011e+00,  9.16493648e-01],\n",
       "         [ 1.23335627e+00,  1.17653610e+00,  8.86510843e-01],\n",
       "         ...,\n",
       "         [ 1.53875005e-01,  1.45752846e-01,  1.96906328e-01],\n",
       "         [ 5.82492566e-01,  5.64508543e-01,  5.41708585e-01],\n",
       "         [ 6.77740913e-01,  6.45038484e-01,  5.56699988e-01]],\n",
       "\n",
       "        [[ 1.15398265e+00,  1.07990017e+00,  8.41536636e-01],\n",
       "         [ 1.01111013e+00,  9.34946274e-01,  6.76631208e-01],\n",
       "         [ 8.68237607e-01,  7.89992379e-01,  4.96734378e-01],\n",
       "         ...,\n",
       "         [ 8.36488158e-01,  7.73886391e-01,  6.91622610e-01],\n",
       "         [ 7.88863984e-01,  7.41674414e-01,  6.31657000e-01],\n",
       "         [ 7.88863984e-01,  7.41674414e-01,  6.01674195e-01]],\n",
       "\n",
       "        [[ 1.15398265e+00,  1.06379418e+00,  8.86510843e-01],\n",
       "         [ 1.01111013e+00,  9.34946274e-01,  7.21605415e-01],\n",
       "         [ 8.36488158e-01,  7.57780402e-01,  5.26717183e-01],\n",
       "         ...,\n",
       "         [ 1.10635847e+00,  9.83264239e-01,  8.26545233e-01],\n",
       "         [ 1.12223320e+00,  1.06379418e+00,  8.56528038e-01],\n",
       "         [ 1.10635847e+00,  1.07990017e+00,  8.56528038e-01]]],\n",
       "\n",
       "\n",
       "       [[[ 1.64609911e+00,  1.70803371e+00,  1.87594341e+00],\n",
       "         [ 1.75722218e+00,  1.83688162e+00,  1.99587463e+00],\n",
       "         [ 1.72547273e+00,  1.82077563e+00,  1.99587463e+00],\n",
       "         ...,\n",
       "         [ 1.45560241e+00,  1.54697383e+00,  1.78599499e+00],\n",
       "         [ 1.51910131e+00,  1.61139778e+00,  1.80098640e+00],\n",
       "         [ 1.53497603e+00,  1.61139778e+00,  1.78599499e+00]],\n",
       "\n",
       "        [[ 1.53497603e+00,  1.57918581e+00,  1.72602938e+00],\n",
       "         [ 1.80484635e+00,  1.86909360e+00,  2.02585743e+00],\n",
       "         [ 1.70959800e+00,  1.78856365e+00,  1.98088323e+00],\n",
       "         ...,\n",
       "         [ 1.55085076e+00,  1.61139778e+00,  1.83096920e+00],\n",
       "         [ 1.61434966e+00,  1.69192772e+00,  1.86095201e+00],\n",
       "         [ 1.34447934e+00,  1.41812592e+00,  1.59110676e+00]],\n",
       "\n",
       "        [[ 1.39210351e+00,  1.33759598e+00,  1.45618414e+00],\n",
       "         [ 1.72547273e+00,  1.75635168e+00,  1.87594341e+00],\n",
       "         [ 1.67784856e+00,  1.77245767e+00,  1.95090042e+00],\n",
       "         ...,\n",
       "         [ 1.50322659e+00,  1.56307982e+00,  1.77100359e+00],\n",
       "         [ 1.50322659e+00,  1.54697383e+00,  1.77100359e+00],\n",
       "         [ 1.21748155e+00,  1.28927802e+00,  1.51614975e+00]],\n",
       "\n",
       "        ...,\n",
       "\n",
       "        [[ 3.91995873e-01,  3.22918718e-01,  3.16837548e-01],\n",
       "         [ 2.33248628e-01,  1.94070811e-01,  1.96906328e-01],\n",
       "         [ 1.06250832e-01,  6.52229047e-02,  9.19665099e-02],\n",
       "         ...,\n",
       "         [ 1.56672548e+00,  1.59529179e+00,  1.56112396e+00],\n",
       "         [ 1.66197383e+00,  1.69192772e+00,  1.66606377e+00],\n",
       "         [ 1.83659580e+00,  1.90130557e+00,  1.86095201e+00]],\n",
       "\n",
       "        [[ 1.85624454e-01,  1.45752846e-01,  1.81914925e-01],\n",
       "         [ 7.45013830e-02,  6.52229047e-02,  9.19665099e-02],\n",
       "         [-4.87223943e-03, -3.14130252e-02,  1.70094974e-02],\n",
       "         ...,\n",
       "         [ 8.84112331e-01,  9.18840286e-01,  9.61467856e-01],\n",
       "         [ 1.21748155e+00,  1.25706604e+00,  1.26129591e+00],\n",
       "         [ 1.37622879e+00,  1.41812592e+00,  1.39621853e+00]],\n",
       "\n",
       "        [[-5.24964129e-02, -6.36250019e-02,  2.01809488e-03],\n",
       "         [-1.15995311e-01, -1.11942967e-01, -5.79475152e-02],\n",
       "         [-8.42458618e-02, -1.11942967e-01, -4.29561127e-02],\n",
       "         ...,\n",
       "         [ 8.52362882e-01,  8.70522321e-01,  8.86510843e-01],\n",
       "         [ 6.14242015e-01,  6.61144472e-01,  7.21605415e-01],\n",
       "         [ 5.98367291e-01,  6.45038484e-01,  7.06614013e-01]]]])"
      ]
     },
     "execution_count": 15,
     "metadata": {},
     "output_type": "execute_result"
    }
   ],
   "source": [
    "X_train_stand=(X_train-means_x)/std_x\n",
    "X_train_stand"
   ]
  },
  {
   "cell_type": "code",
   "execution_count": 16,
   "id": "d44bc00b",
   "metadata": {},
   "outputs": [
    {
     "data": {
      "text/plain": [
       "array([[[[ 5.18993668e-01, -1.76366920e-01, -9.72423068e-01],\n",
       "         [ 5.34868393e-01, -1.92472908e-01, -1.00240587e+00],\n",
       "         [ 6.30116740e-01, -1.11942967e-01, -9.42440263e-01],\n",
       "         ...,\n",
       "         [ 1.85624454e-01, -4.50168722e-01, -1.16731130e+00],\n",
       "         [ 1.10024850e-02, -5.14592675e-01, -1.16731130e+00],\n",
       "         [-1.47744760e-01, -6.11228605e-01, -1.21228551e+00]],\n",
       "\n",
       "        [[ 4.23745321e-01, -1.76366920e-01, -9.42440263e-01],\n",
       "         [ 4.07870597e-01, -2.08578897e-01, -1.10734569e+00],\n",
       "         [ 5.34868393e-01, -1.44154943e-01, -1.03238868e+00],\n",
       "         ...,\n",
       "         [ 1.69749730e-01, -4.50168722e-01, -1.24226831e+00],\n",
       "         [-4.87223943e-03, -5.14592675e-01, -1.22727691e+00],\n",
       "         [-1.00120586e-01, -5.62910640e-01, -1.19729411e+00]],\n",
       "\n",
       "        [[ 4.07870597e-01, -2.08578897e-01, -1.00240587e+00],\n",
       "         [ 4.07870597e-01, -2.24684885e-01, -1.21228551e+00],\n",
       "         [ 5.18993668e-01, -1.92472908e-01, -1.16731130e+00],\n",
       "         ...,\n",
       "         [ 2.17373903e-01, -4.01850757e-01, -1.19729411e+00],\n",
       "         [ 7.45013830e-02, -4.50168722e-01, -1.19729411e+00],\n",
       "         [-8.42458618e-02, -5.46804651e-01, -1.21228551e+00]],\n",
       "\n",
       "        ...,\n",
       "\n",
       "        [[-9.09731535e-01,  1.69049397e-02,  9.46476453e-01],\n",
       "         [-1.32247437e+00, -3.69638780e-01,  5.11725780e-01],\n",
       "         [-1.49709634e+00, -5.62910640e-01,  3.46820353e-01],\n",
       "         ...,\n",
       "         [-1.38597327e+00, -4.17956745e-01,  4.81742975e-01],\n",
       "         [-1.78284138e+00, -9.49454359e-01, -8.79303202e-02],\n",
       "         [-1.35422382e+00, -6.11228605e-01,  1.96906328e-01]],\n",
       "\n",
       "        [[-1.02085461e+00, -1.11942967e-01,  8.11553830e-01],\n",
       "         [-1.21135130e+00, -3.37426803e-01,  5.11725780e-01],\n",
       "         [-1.43359744e+00, -6.11228605e-01,  2.71863340e-01],\n",
       "         ...,\n",
       "         [-1.57646996e+00, -6.59546570e-01,  2.41880535e-01],\n",
       "         [-1.52884579e+00, -6.59546570e-01,  1.81914925e-01],\n",
       "         [-1.67171831e+00, -9.49454359e-01, -1.02921723e-01]],\n",
       "\n",
       "        [[-1.13197768e+00, -2.56896862e-01,  6.91622610e-01],\n",
       "         [-1.10022823e+00, -2.89108838e-01,  5.26717183e-01],\n",
       "         [-1.27485020e+00, -5.46804651e-01,  2.71863340e-01],\n",
       "         ...,\n",
       "         [-1.60821941e+00, -7.40076511e-01,  1.51932120e-01],\n",
       "         [-1.44947217e+00, -6.27334593e-01,  2.26889133e-01],\n",
       "         [-1.65584359e+00, -9.01136394e-01, -5.79475152e-02]]],\n",
       "\n",
       "\n",
       "       [[[ 1.74134745e+00,  1.80466964e+00,  1.81597780e+00],\n",
       "         [ 1.67784856e+00,  1.74024569e+00,  1.75601219e+00],\n",
       "         [ 1.69372328e+00,  1.75635168e+00,  1.77100359e+00],\n",
       "         ...,\n",
       "         [ 1.70959800e+00,  1.77245767e+00,  1.78599499e+00],\n",
       "         [ 1.70959800e+00,  1.77245767e+00,  1.78599499e+00],\n",
       "         [ 1.69372328e+00,  1.75635168e+00,  1.77100359e+00]],\n",
       "\n",
       "        [[ 1.78897163e+00,  1.85298761e+00,  1.86095201e+00],\n",
       "         [ 1.74134745e+00,  1.80466964e+00,  1.81597780e+00],\n",
       "         [ 1.74134745e+00,  1.80466964e+00,  1.81597780e+00],\n",
       "         ...,\n",
       "         [ 1.75722218e+00,  1.82077563e+00,  1.83096920e+00],\n",
       "         [ 1.75722218e+00,  1.82077563e+00,  1.83096920e+00],\n",
       "         [ 1.74134745e+00,  1.80466964e+00,  1.81597780e+00]],\n",
       "\n",
       "        [[ 1.77309690e+00,  1.83688162e+00,  1.84596060e+00],\n",
       "         [ 1.72547273e+00,  1.78856365e+00,  1.80098640e+00],\n",
       "         [ 1.72547273e+00,  1.78856365e+00,  1.80098640e+00],\n",
       "         ...,\n",
       "         [ 1.74134745e+00,  1.80466964e+00,  1.81597780e+00],\n",
       "         [ 1.74134745e+00,  1.80466964e+00,  1.81597780e+00],\n",
       "         [ 1.72547273e+00,  1.78856365e+00,  1.80098640e+00]],\n",
       "\n",
       "        ...,\n",
       "\n",
       "        [[-6.08111770e-01, -3.85744768e-01, -3.72766968e-01],\n",
       "         [-1.30659965e+00, -1.15883221e+00, -1.15231990e+00],\n",
       "         [-1.68759303e+00, -1.60979988e+00, -1.54209636e+00],\n",
       "         ...,\n",
       "         [ 6.93615638e-01,  9.83264239e-01,  9.76459258e-01],\n",
       "         [ 8.99987056e-01,  1.19264209e+00,  1.18633889e+00],\n",
       "         [ 9.95235403e-01,  1.27317203e+00,  1.30627011e+00]],\n",
       "\n",
       "        [[-6.87485392e-01, -4.34062733e-01, -4.77706785e-01],\n",
       "         [-1.25897547e+00, -1.06219628e+00, -1.16731130e+00],\n",
       "         [-1.41772272e+00, -1.27157413e+00, -1.37719094e+00],\n",
       "         ...,\n",
       "         [ 7.72989260e-01,  1.06379418e+00,  1.03642487e+00],\n",
       "         [ 9.47611229e-01,  1.24096005e+00,  1.23131310e+00],\n",
       "         [ 9.79360678e-01,  1.27317203e+00,  1.29127871e+00]],\n",
       "\n",
       "        [[-6.39861219e-01, -3.53532792e-01, -4.62715383e-01],\n",
       "         [-1.00497988e+00, -7.72288488e-01, -9.87414471e-01],\n",
       "         [-1.06847878e+00, -9.01136394e-01, -1.13732850e+00],\n",
       "         ...,\n",
       "         [ 6.77740913e-01,  9.67158251e-01,  9.61467856e-01],\n",
       "         [ 8.68237607e-01,  1.16043011e+00,  1.15635609e+00],\n",
       "         [ 9.63485954e-01,  1.24096005e+00,  1.27628731e+00]]],\n",
       "\n",
       "\n",
       "       [[[ 5.18993668e-01,  1.07990017e+00,  1.62108957e+00],\n",
       "         [ 5.18993668e-01,  1.03158220e+00,  1.56112396e+00],\n",
       "         [ 2.17373903e-01,  6.93356449e-01,  1.20133030e+00],\n",
       "         ...,\n",
       "         [ 1.63022438e+00,  1.74024569e+00,  1.80098640e+00],\n",
       "         [ 1.77309690e+00,  1.86909360e+00,  1.93590902e+00],\n",
       "         [ 1.78897163e+00,  1.90130557e+00,  1.98088323e+00]],\n",
       "\n",
       "        [[ 7.09490362e-01,  1.24096005e+00,  1.72602938e+00],\n",
       "         [ 7.41239811e-01,  1.22485406e+00,  1.68105518e+00],\n",
       "         [ 4.07870597e-01,  8.54416332e-01,  1.30627011e+00],\n",
       "         ...,\n",
       "         [ 1.69372328e+00,  1.75635168e+00,  1.83096920e+00],\n",
       "         [ 1.91596942e+00,  1.98183551e+00,  2.04084884e+00],\n",
       "         [ 1.91596942e+00,  1.99794150e+00,  2.05584024e+00]],\n",
       "\n",
       "        [[ 7.72989260e-01,  1.25706604e+00,  1.66606377e+00],\n",
       "         [ 8.04738709e-01,  1.24096005e+00,  1.62108957e+00],\n",
       "         [ 5.03118944e-01,  9.02734297e-01,  1.27628731e+00],\n",
       "         ...,\n",
       "         [ 1.66197383e+00,  1.70803371e+00,  1.77100359e+00],\n",
       "         [ 1.97946832e+00,  2.03015348e+00,  2.05584024e+00],\n",
       "         [ 1.90009470e+00,  1.94962354e+00,  1.99587463e+00]],\n",
       "\n",
       "        ...,\n",
       "\n",
       "        [[-1.49709634e+00, -1.33599808e+00, -1.03238868e+00],\n",
       "         [-1.51297106e+00, -1.35210407e+00, -1.04738008e+00],\n",
       "         [-1.57646996e+00, -1.41652802e+00, -1.10734569e+00],\n",
       "         ...,\n",
       "         [-1.40184799e+00, -1.33599808e+00, -1.01739728e+00],\n",
       "         [-1.84634028e+00, -1.77085976e+00, -1.49712216e+00],\n",
       "         [-1.92571390e+00, -1.86749569e+00, -1.63204478e+00]],\n",
       "\n",
       "        [[-1.62409414e+00, -1.43263401e+00, -1.12233709e+00],\n",
       "         [-1.56059524e+00, -1.36821006e+00, -1.06237148e+00],\n",
       "         [-1.59234469e+00, -1.40042203e+00, -1.09235429e+00],\n",
       "         ...,\n",
       "         [-1.68759303e+00, -1.65811785e+00, -1.34720813e+00],\n",
       "         [-1.92571390e+00, -1.88360168e+00, -1.66202758e+00],\n",
       "         [-1.90983918e+00, -1.86749569e+00, -1.66202758e+00]],\n",
       "\n",
       "        [[-1.54472051e+00, -1.31989209e+00, -1.00240587e+00],\n",
       "         [-1.51297106e+00, -1.28768011e+00, -9.57431666e-01],\n",
       "         [-1.48122162e+00, -1.25546814e+00, -9.27448861e-01],\n",
       "         ...,\n",
       "         [-1.90983918e+00, -1.88360168e+00, -1.58707057e+00],\n",
       "         [-1.92571390e+00, -1.89970767e+00, -1.66202758e+00],\n",
       "         [-1.87808973e+00, -1.85138971e+00, -1.60206197e+00]]],\n",
       "\n",
       "\n",
       "       ...,\n",
       "\n",
       "\n",
       "       [[[-1.67171831e+00, -1.73864779e+00, -1.52710496e+00],\n",
       "         [-1.68759303e+00, -1.75475378e+00, -1.54209636e+00],\n",
       "         [-1.75109193e+00, -1.75475378e+00, -1.54209636e+00],\n",
       "         ...,\n",
       "         [-1.83046555e+00, -1.83528372e+00, -1.60206197e+00],\n",
       "         [-1.79871611e+00, -1.80307174e+00, -1.57207917e+00],\n",
       "         [-1.78284138e+00, -1.78696575e+00, -1.55708777e+00]],\n",
       "\n",
       "        [[-1.65584359e+00, -1.72254180e+00, -1.51211356e+00],\n",
       "         [-1.67171831e+00, -1.72254180e+00, -1.51211356e+00],\n",
       "         [-1.70346776e+00, -1.70643581e+00, -1.52710496e+00],\n",
       "         ...,\n",
       "         [-1.83046555e+00, -1.83528372e+00, -1.60206197e+00],\n",
       "         [-1.83046555e+00, -1.83528372e+00, -1.60206197e+00],\n",
       "         [-1.79871611e+00, -1.80307174e+00, -1.57207917e+00]],\n",
       "\n",
       "        [[-1.65584359e+00, -1.72254180e+00, -1.51211356e+00],\n",
       "         [-1.65584359e+00, -1.70643581e+00, -1.52710496e+00],\n",
       "         [-1.67171831e+00, -1.69032982e+00, -1.54209636e+00],\n",
       "         ...,\n",
       "         [-1.79871611e+00, -1.80307174e+00, -1.57207917e+00],\n",
       "         [-1.79871611e+00, -1.80307174e+00, -1.57207917e+00],\n",
       "         [-1.78284138e+00, -1.78696575e+00, -1.55708777e+00]],\n",
       "\n",
       "        ...,\n",
       "\n",
       "        [[-1.46534689e+00, -1.57758790e+00, -1.51211356e+00],\n",
       "         [-1.44947217e+00, -1.56148192e+00, -1.48213075e+00],\n",
       "         [-1.44947217e+00, -1.56148192e+00, -1.48213075e+00],\n",
       "         ...,\n",
       "         [-1.54472051e+00, -1.57758790e+00, -9.27448861e-01],\n",
       "         [-1.52884579e+00, -1.57758790e+00, -8.37500446e-01],\n",
       "         [-1.62409414e+00, -1.65811785e+00, -1.07736289e+00]],\n",
       "\n",
       "        [[-1.46534689e+00, -1.57758790e+00, -1.49712216e+00],\n",
       "         [-1.44947217e+00, -1.56148192e+00, -1.48213075e+00],\n",
       "         [-1.44947217e+00, -1.56148192e+00, -1.48213075e+00],\n",
       "         ...,\n",
       "         [-1.56059524e+00, -1.59369389e+00, -9.27448861e-01],\n",
       "         [-1.56059524e+00, -1.59369389e+00, -8.67483251e-01],\n",
       "         [-1.59234469e+00, -1.62590587e+00, -1.00240587e+00]],\n",
       "\n",
       "        [[-1.49709634e+00, -1.60979988e+00, -1.52710496e+00],\n",
       "         [-1.48122162e+00, -1.59369389e+00, -1.51211356e+00],\n",
       "         [-1.46534689e+00, -1.57758790e+00, -1.49712216e+00],\n",
       "         ...,\n",
       "         [-1.60821941e+00, -1.60979988e+00, -9.57431666e-01],\n",
       "         [-1.57646996e+00, -1.60979988e+00, -9.12457458e-01],\n",
       "         [-1.59234469e+00, -1.65811785e+00, -1.00240587e+00]]],\n",
       "\n",
       "\n",
       "       [[[-1.59234469e+00, -1.33599808e+00, -1.52710496e+00],\n",
       "         [-1.75109193e+00, -1.40042203e+00, -1.66202758e+00],\n",
       "         [-1.62409414e+00, -1.31989209e+00, -1.43715655e+00],\n",
       "         ...,\n",
       "         [-1.02085461e+00, -6.59546570e-01, -5.37672396e-01],\n",
       "         [-5.28738147e-01, -1.60260932e-01, -2.79647101e-02],\n",
       "         [-7.98608463e-01, -5.46804651e-01, -3.27792760e-01]],\n",
       "\n",
       "        [[-1.79871611e+00, -1.57758790e+00, -1.61705338e+00],\n",
       "         [-1.67171831e+00, -1.38431604e+00, -1.60206197e+00],\n",
       "         [-1.60821941e+00, -1.40042203e+00, -1.48213075e+00],\n",
       "         ...,\n",
       "         [-1.63619484e-01,  1.77964823e-01,  3.61811755e-01],\n",
       "         [ 3.76121148e-01,  7.25568426e-01,  9.46476453e-01],\n",
       "         [-3.38241453e-01, -9.58369785e-02,  2.56871938e-01]],\n",
       "\n",
       "        [[-1.79871611e+00, -1.57758790e+00, -1.54209636e+00],\n",
       "         [-1.75109193e+00, -1.51316395e+00, -1.61705338e+00],\n",
       "         [-1.44947217e+00, -1.33599808e+00, -1.34720813e+00],\n",
       "         ...,\n",
       "         [ 4.55494770e-01,  7.89992379e-01,  1.02143347e+00],\n",
       "         [ 5.03118944e-01,  8.38310344e-01,  1.17134749e+00],\n",
       "         [-1.47744760e-01,  9.74348813e-02,  5.56699988e-01]],\n",
       "\n",
       "        ...,\n",
       "\n",
       "        [[-4.01740351e-01,  9.74348813e-02, -4.92698188e-01],\n",
       "         [-3.54116178e-01,  1.45752846e-01, -4.47723980e-01],\n",
       "         [-3.38241453e-01,  1.77964823e-01, -4.17741175e-01],\n",
       "         ...,\n",
       "         [-4.49364525e-01,  8.13288930e-02, -4.47723980e-01],\n",
       "         [-4.33489800e-01,  4.91169163e-02, -4.47723980e-01],\n",
       "         [-5.44612872e-01, -3.14130252e-02, -5.22680993e-01]],\n",
       "\n",
       "        [[-3.54116178e-01,  1.45752846e-01, -4.62715383e-01],\n",
       "         [-3.38241453e-01,  1.29646858e-01, -4.62715383e-01],\n",
       "         [-2.90617280e-01,  1.94070811e-01, -4.02749773e-01],\n",
       "         ...,\n",
       "         [-3.85865627e-01,  1.45752846e-01, -4.02749773e-01],\n",
       "         [-4.17615076e-01,  6.52229047e-02, -4.47723980e-01],\n",
       "         [-5.28738147e-01, -3.14130252e-02, -5.22680993e-01]],\n",
       "\n",
       "        [[-4.81113974e-01,  4.91169163e-02, -5.37672396e-01],\n",
       "         [-4.81113974e-01,  7.98951392e-04, -5.67655201e-01],\n",
       "         [-3.85865627e-01,  8.13288930e-02, -4.92698188e-01],\n",
       "         ...,\n",
       "         [-5.12863423e-01,  1.69049397e-02, -5.07689591e-01],\n",
       "         [-4.81113974e-01,  7.98951392e-04, -4.92698188e-01],\n",
       "         [-5.28738147e-01, -4.75190136e-02, -5.07689591e-01]]],\n",
       "\n",
       "\n",
       "       [[[-8.30357912e-01, -7.23970523e-01, -5.82646603e-01],\n",
       "         [-4.33489800e-01, -3.21320815e-01, -1.29733076e-02],\n",
       "         [-4.17615076e-01, -2.73002850e-01,  2.01809488e-03],\n",
       "         ...,\n",
       "         [ 1.53875005e-01,  4.35660636e-01,  5.71691390e-01],\n",
       "         [ 1.53875005e-01,  4.19554648e-01,  6.01674195e-01],\n",
       "         [ 1.23335627e+00,  1.48254988e+00,  1.63608097e+00]],\n",
       "\n",
       "        [[-8.93856810e-01, -8.04500465e-01, -6.57603616e-01],\n",
       "         [-6.55735943e-01, -5.46804651e-01, -2.52835748e-01],\n",
       "         [-9.09731535e-01, -7.72288488e-01, -4.92698188e-01],\n",
       "         ...,\n",
       "         [-6.39861219e-01, -4.50168722e-01, -3.72766968e-01],\n",
       "         [-8.62107361e-01, -6.59546570e-01, -5.07689591e-01],\n",
       "         [-8.42458618e-02,  1.61858835e-01,  3.16837548e-01]],\n",
       "\n",
       "        [[-8.93856810e-01, -8.04500465e-01, -6.57603616e-01],\n",
       "         [-5.60487596e-01, -4.50168722e-01, -2.07861540e-01],\n",
       "         [-1.00497988e+00, -8.36712441e-01, -5.97638006e-01],\n",
       "         ...,\n",
       "         [-8.14483188e-01, -6.75652558e-01, -6.57603616e-01],\n",
       "         [-1.14785240e+00, -9.81666336e-01, -8.97466056e-01],\n",
       "         [-1.00497988e+00, -7.88394476e-01, -6.72595018e-01]],\n",
       "\n",
       "        ...,\n",
       "\n",
       "        [[-3.66216884e-02,  8.13288930e-02, -2.67827150e-01],\n",
       "         [ 1.06250832e-01,  1.45752846e-01, -1.77878735e-01],\n",
       "         [ 5.86266585e-02,  8.13288930e-02, -2.07861540e-01],\n",
       "         ...,\n",
       "         [-2.74742556e-01, -2.56896862e-01, -3.87758370e-01],\n",
       "         [-1.00497988e+00, -1.01387831e+00, -8.82474653e-01],\n",
       "         [-1.56059524e+00, -1.54537593e+00, -1.28724252e+00]],\n",
       "\n",
       "        [[-1.63619484e-01, -3.14130252e-02, -3.42784163e-01],\n",
       "         [-3.66216884e-02,  1.69049397e-02, -2.82818553e-01],\n",
       "         [ 5.86266585e-02,  4.91169163e-02, -2.22852943e-01],\n",
       "         ...,\n",
       "         [-1.63619484e-01, -1.11942967e-01, -2.97809955e-01],\n",
       "         [-9.41480984e-01, -9.33348371e-01, -8.22509043e-01],\n",
       "         [-1.56059524e+00, -1.54537593e+00, -1.30223392e+00]],\n",
       "\n",
       "        [[-1.47744760e-01, -4.75190136e-02, -3.57775565e-01],\n",
       "         [-6.83711373e-02, -1.53070369e-02, -2.97809955e-01],\n",
       "         [ 5.86266585e-02,  8.13288930e-02, -1.92870138e-01],\n",
       "         ...,\n",
       "         [-1.47744760e-01, -1.28048955e-01, -2.97809955e-01],\n",
       "         [-9.09731535e-01, -9.33348371e-01, -8.37500446e-01],\n",
       "         [-1.56059524e+00, -1.56148192e+00, -1.31722533e+00]]]])"
      ]
     },
     "execution_count": 16,
     "metadata": {},
     "output_type": "execute_result"
    }
   ],
   "source": [
    "X_test_stand=(X_test-means_x)/std_x\n",
    "X_test_stand"
   ]
  },
  {
   "cell_type": "code",
   "execution_count": 19,
   "id": "efd3db64",
   "metadata": {},
   "outputs": [
    {
     "name": "stdout",
     "output_type": "stream",
     "text": [
      "Epoch 1/50\n",
      "1563/1563 [==============================] - 12s 6ms/step - loss: 1.3314 - accuracy: 0.5246 - val_loss: 1.0397 - val_accuracy: 0.6309\n",
      "Epoch 2/50\n",
      "1563/1563 [==============================] - 9s 6ms/step - loss: 0.9214 - accuracy: 0.6796 - val_loss: 0.9636 - val_accuracy: 0.6671\n",
      "Epoch 3/50\n",
      "1563/1563 [==============================] - 9s 6ms/step - loss: 0.7423 - accuracy: 0.7410 - val_loss: 0.8969 - val_accuracy: 0.6955\n",
      "Epoch 4/50\n",
      "1563/1563 [==============================] - 9s 6ms/step - loss: 0.6032 - accuracy: 0.7882 - val_loss: 0.8759 - val_accuracy: 0.7219\n",
      "Epoch 5/50\n",
      "1563/1563 [==============================] - 9s 6ms/step - loss: 0.4833 - accuracy: 0.8312 - val_loss: 0.9505 - val_accuracy: 0.7125\n",
      "Epoch 6/50\n",
      "1563/1563 [==============================] - 9s 6ms/step - loss: 0.3796 - accuracy: 0.8658 - val_loss: 0.9888 - val_accuracy: 0.7181\n",
      "Epoch 7/50\n",
      "1563/1563 [==============================] - 9s 6ms/step - loss: 0.2974 - accuracy: 0.8966 - val_loss: 1.1555 - val_accuracy: 0.7107\n",
      "Epoch 8/50\n",
      "1563/1563 [==============================] - 9s 6ms/step - loss: 0.2566 - accuracy: 0.9125 - val_loss: 1.3011 - val_accuracy: 0.7127\n",
      "Epoch 9/50\n",
      "1563/1563 [==============================] - 9s 6ms/step - loss: 0.2107 - accuracy: 0.9288 - val_loss: 1.4453 - val_accuracy: 0.7107\n",
      "Epoch 10/50\n",
      "1563/1563 [==============================] - 9s 6ms/step - loss: 0.1971 - accuracy: 0.9349 - val_loss: 1.5774 - val_accuracy: 0.7207\n",
      "Epoch 11/50\n",
      "1563/1563 [==============================] - 9s 6ms/step - loss: 0.1876 - accuracy: 0.9402 - val_loss: 1.6162 - val_accuracy: 0.7049\n",
      "Epoch 12/50\n",
      "1563/1563 [==============================] - 9s 6ms/step - loss: 0.1793 - accuracy: 0.9432 - val_loss: 1.7321 - val_accuracy: 0.7120\n",
      "Epoch 13/50\n",
      "1563/1563 [==============================] - 9s 6ms/step - loss: 0.1643 - accuracy: 0.9490 - val_loss: 1.8294 - val_accuracy: 0.7123\n",
      "Epoch 14/50\n",
      "1563/1563 [==============================] - 9s 6ms/step - loss: 0.1704 - accuracy: 0.9480 - val_loss: 2.0803 - val_accuracy: 0.7053\n",
      "Epoch 15/50\n",
      "1563/1563 [==============================] - 9s 6ms/step - loss: 0.1555 - accuracy: 0.9530 - val_loss: 2.0278 - val_accuracy: 0.7113\n",
      "Epoch 16/50\n",
      "1563/1563 [==============================] - 9s 6ms/step - loss: 0.1635 - accuracy: 0.9528 - val_loss: 2.2872 - val_accuracy: 0.7083\n",
      "Epoch 17/50\n",
      "1563/1563 [==============================] - 9s 6ms/step - loss: 0.1502 - accuracy: 0.9575 - val_loss: 2.2112 - val_accuracy: 0.7121\n",
      "Epoch 18/50\n",
      "1563/1563 [==============================] - 9s 6ms/step - loss: 0.1565 - accuracy: 0.9570 - val_loss: 2.5307 - val_accuracy: 0.6948\n",
      "Epoch 19/50\n",
      "1563/1563 [==============================] - 9s 6ms/step - loss: 0.1657 - accuracy: 0.9547 - val_loss: 2.4340 - val_accuracy: 0.6973\n",
      "Epoch 20/50\n",
      "1563/1563 [==============================] - 9s 6ms/step - loss: 0.1550 - accuracy: 0.9588 - val_loss: 2.5971 - val_accuracy: 0.6940\n",
      "Epoch 21/50\n",
      "1563/1563 [==============================] - 9s 6ms/step - loss: 0.1611 - accuracy: 0.9586 - val_loss: 2.5484 - val_accuracy: 0.7078\n",
      "Epoch 22/50\n",
      "1563/1563 [==============================] - 9s 6ms/step - loss: 0.1562 - accuracy: 0.9603 - val_loss: 2.5712 - val_accuracy: 0.6991\n",
      "Epoch 23/50\n",
      "1563/1563 [==============================] - 9s 6ms/step - loss: 0.1470 - accuracy: 0.9623 - val_loss: 3.0240 - val_accuracy: 0.7060\n",
      "Epoch 24/50\n",
      "1563/1563 [==============================] - 9s 6ms/step - loss: 0.1435 - accuracy: 0.9627 - val_loss: 3.0847 - val_accuracy: 0.7027\n",
      "Epoch 25/50\n",
      "1563/1563 [==============================] - 9s 6ms/step - loss: 0.1590 - accuracy: 0.9605 - val_loss: 3.0840 - val_accuracy: 0.6924\n",
      "Epoch 26/50\n",
      "1563/1563 [==============================] - 9s 6ms/step - loss: 0.1494 - accuracy: 0.9639 - val_loss: 3.1840 - val_accuracy: 0.7017\n",
      "Epoch 27/50\n",
      "1563/1563 [==============================] - 9s 6ms/step - loss: 0.1355 - accuracy: 0.9681 - val_loss: 2.9455 - val_accuracy: 0.7032\n",
      "Epoch 28/50\n",
      "1563/1563 [==============================] - 9s 6ms/step - loss: 0.1470 - accuracy: 0.9637 - val_loss: 3.3370 - val_accuracy: 0.7085\n",
      "Epoch 29/50\n",
      "1563/1563 [==============================] - 9s 6ms/step - loss: 0.1732 - accuracy: 0.9619 - val_loss: 3.1621 - val_accuracy: 0.7084\n",
      "Epoch 30/50\n",
      "1563/1563 [==============================] - 9s 6ms/step - loss: 0.1452 - accuracy: 0.9665 - val_loss: 3.6198 - val_accuracy: 0.7075\n",
      "Epoch 31/50\n",
      "1563/1563 [==============================] - 9s 6ms/step - loss: 0.1698 - accuracy: 0.9649 - val_loss: 3.6674 - val_accuracy: 0.7041\n",
      "Epoch 32/50\n",
      "1563/1563 [==============================] - 9s 6ms/step - loss: 0.1408 - accuracy: 0.9682 - val_loss: 3.6823 - val_accuracy: 0.6996\n",
      "Epoch 33/50\n",
      "1563/1563 [==============================] - 9s 6ms/step - loss: 0.1693 - accuracy: 0.9650 - val_loss: 3.7061 - val_accuracy: 0.7060\n",
      "Epoch 34/50\n",
      "1563/1563 [==============================] - 9s 6ms/step - loss: 0.1593 - accuracy: 0.9674 - val_loss: 3.6995 - val_accuracy: 0.7044\n",
      "Epoch 35/50\n",
      "1563/1563 [==============================] - 9s 6ms/step - loss: 0.1442 - accuracy: 0.9700 - val_loss: 4.0134 - val_accuracy: 0.7028\n",
      "Epoch 36/50\n",
      "1563/1563 [==============================] - 9s 6ms/step - loss: 0.1480 - accuracy: 0.9697 - val_loss: 4.1644 - val_accuracy: 0.6981\n",
      "Epoch 37/50\n",
      "1563/1563 [==============================] - 9s 6ms/step - loss: 0.1651 - accuracy: 0.9685 - val_loss: 3.8799 - val_accuracy: 0.6998\n",
      "Epoch 38/50\n",
      "1563/1563 [==============================] - 9s 6ms/step - loss: 0.1530 - accuracy: 0.9691 - val_loss: 3.6868 - val_accuracy: 0.7088\n",
      "Epoch 39/50\n",
      "1563/1563 [==============================] - 9s 6ms/step - loss: 0.1596 - accuracy: 0.9686 - val_loss: 3.7682 - val_accuracy: 0.6984\n",
      "Epoch 40/50\n",
      "1563/1563 [==============================] - 9s 6ms/step - loss: 0.1677 - accuracy: 0.9687 - val_loss: 4.0908 - val_accuracy: 0.7007\n",
      "Epoch 41/50\n",
      "1563/1563 [==============================] - 9s 6ms/step - loss: 0.1491 - accuracy: 0.9724 - val_loss: 4.5641 - val_accuracy: 0.7019\n",
      "Epoch 42/50\n",
      "1563/1563 [==============================] - 9s 6ms/step - loss: 0.1607 - accuracy: 0.9703 - val_loss: 4.5622 - val_accuracy: 0.6980\n",
      "Epoch 43/50\n",
      "1563/1563 [==============================] - 9s 6ms/step - loss: 0.1768 - accuracy: 0.9690 - val_loss: 4.5690 - val_accuracy: 0.7066\n",
      "Epoch 44/50\n",
      "1563/1563 [==============================] - 9s 6ms/step - loss: 0.1497 - accuracy: 0.9729 - val_loss: 4.6885 - val_accuracy: 0.7038\n",
      "Epoch 45/50\n",
      "1563/1563 [==============================] - 9s 6ms/step - loss: 0.1580 - accuracy: 0.9722 - val_loss: 5.1832 - val_accuracy: 0.7036\n",
      "Epoch 46/50\n",
      "1563/1563 [==============================] - 9s 6ms/step - loss: 0.1752 - accuracy: 0.9707 - val_loss: 5.0102 - val_accuracy: 0.7046\n",
      "Epoch 47/50\n",
      "1563/1563 [==============================] - 9s 6ms/step - loss: 0.1612 - accuracy: 0.9732 - val_loss: 5.5702 - val_accuracy: 0.7038\n",
      "Epoch 48/50\n",
      "1563/1563 [==============================] - 9s 6ms/step - loss: 0.1813 - accuracy: 0.9707 - val_loss: 5.3937 - val_accuracy: 0.6896\n",
      "Epoch 49/50\n",
      "1563/1563 [==============================] - 9s 6ms/step - loss: 0.1981 - accuracy: 0.9695 - val_loss: 5.5325 - val_accuracy: 0.7029\n",
      "Epoch 50/50\n",
      "1563/1563 [==============================] - 9s 6ms/step - loss: 0.1580 - accuracy: 0.9743 - val_loss: 6.0093 - val_accuracy: 0.7007\n"
     ]
    }
   ],
   "source": [
    "history=cnn.fit(X_train_stand, y_train, epochs=50,validation_data=(X_test_stand, y_test))"
   ]
  },
  {
   "cell_type": "code",
   "execution_count": 20,
   "id": "31f38d3c",
   "metadata": {},
   "outputs": [
    {
     "name": "stdout",
     "output_type": "stream",
     "text": [
      "313/313 [==============================] - 1s 3ms/step - loss: 6.0093 - accuracy: 0.7007\n"
     ]
    },
    {
     "data": {
      "text/plain": [
       "[6.009261608123779, 0.7006999850273132]"
      ]
     },
     "execution_count": 20,
     "metadata": {},
     "output_type": "execute_result"
    }
   ],
   "source": [
    "cnn.evaluate(X_test_stand,y_test)"
   ]
  },
  {
   "cell_type": "code",
   "execution_count": 21,
   "id": "ab8b1763",
   "metadata": {},
   "outputs": [],
   "source": [
    "y_pred=cnn.predict(X_test_stand)"
   ]
  },
  {
   "cell_type": "code",
   "execution_count": 22,
   "id": "c33d3005",
   "metadata": {},
   "outputs": [
    {
     "name": "stdout",
     "output_type": "stream",
     "text": [
      "class_predict :  [3, 8, 8, 0, 6, 6, 3, 6, 3, 1]\n",
      "class_juste :  [3 8 8 0 6 6 1 6 3 1]\n"
     ]
    }
   ],
   "source": [
    "y_classes=[np.argmax(item) for item in y_pred]\n",
    "print(\"class_predict : \",y_classes[:10])\n",
    "print(\"class_juste : \",y_test[:10])"
   ]
  },
  {
   "cell_type": "code",
   "execution_count": 23,
   "id": "56ab2b14",
   "metadata": {},
   "outputs": [
    {
     "name": "stdout",
     "output_type": "stream",
     "text": [
      "Classification Report: \n",
      "               precision    recall  f1-score   support\n",
      "\n",
      "           0       0.72      0.77      0.75      1000\n",
      "           1       0.82      0.82      0.82      1000\n",
      "           2       0.60      0.63      0.61      1000\n",
      "           3       0.52      0.48      0.50      1000\n",
      "           4       0.60      0.71      0.65      1000\n",
      "           5       0.65      0.55      0.59      1000\n",
      "           6       0.76      0.74      0.75      1000\n",
      "           7       0.72      0.76      0.74      1000\n",
      "           8       0.79      0.84      0.81      1000\n",
      "           9       0.85      0.72      0.78      1000\n",
      "\n",
      "    accuracy                           0.70     10000\n",
      "   macro avg       0.70      0.70      0.70     10000\n",
      "weighted avg       0.70      0.70      0.70     10000\n",
      "\n"
     ]
    }
   ],
   "source": [
    "print(\"Classification Report: \\n\", classification_report(y_test, y_classes))"
   ]
  },
  {
   "cell_type": "code",
   "execution_count": 24,
   "id": "95211060",
   "metadata": {},
   "outputs": [
    {
     "data": {
      "image/png": "[encoded data removed]",
      "text/plain": [
       "<Figure size 432x288 with 1 Axes>"
      ]
     },
     "metadata": {
      "needs_background": "light"
     },
     "output_type": "display_data"
    }
   ],
   "source": [
    "plt.plot(history.history['accuracy'])\n",
    "plt.plot(history.history['val_accuracy'])\n",
    "plt.title('model accuracy')\n",
    "plt.ylabel('accuracy')\n",
    "plt.xlabel('epoch')\n",
    "plt.legend(['train', 'val'], loc='upper left')\n",
    "plt.show()"
   ]
  },
  {
   "cell_type": "code",
   "execution_count": 25,
   "id": "2918a548",
   "metadata": {},
   "outputs": [
    {
     "data": {
      "image/png": "[encoded data removed]",
      "text/plain": [
       "<Figure size 432x288 with 1 Axes>"
      ]
     },
     "metadata": {
      "needs_background": "light"
     },
     "output_type": "display_data"
    }
   ],
   "source": [
    "plt.plot(history.history['loss'])\n",
    "plt.plot(history.history['val_loss'])\n",
    "plt.title('model loss')\n",
    "plt.ylabel('loss')\n",
    "plt.xlabel('epoch')\n",
    "plt.legend(['train', 'val'], loc='upper left')\n",
    "plt.show()"
   ]
  },
  {
   "cell_type": "markdown",
   "id": "1010ec1d",
   "metadata": {},
   "source": [
    "->le model converge rapidement a partir de la 1 epoch on a une accuracy de 0.52 pour train et test on a une accuracy 0.63 ,a la 50 epochs on accuracy 0.97 pour train et 0.7 pour validation ,mais deux valeur sont trop different.pour le loss il est diminuer mais il reste encore la courbe de validation est au dessus de  celle de train ,loss augmente pour validation tandis que il tends vers 0 pour train ,encore sur-apprentissage "
   ]
  },
  {
   "cell_type": "markdown",
   "id": "42eb8d00",
   "metadata": {},
   "source": [
    "# <span style= 'color:black'><h4> 2/ </h4> </span>\n",
    "---"
   ]
  },
  {
   "cell_type": "markdown",
   "id": "5ade1e85",
   "metadata": {},
   "source": [
    "La raison en est que nous voulons prétendre que les données de test sont de \"nouvelles données invisibles\". Nous utilisons l'ensemble de données de test pour obtenir une bonne estimation des performances de notre modèle sur toutes les nouvelles données.\n",
    "\n",
    "Maintenant, dans une application réelle, les nouvelles données invisibles pourraient être juste 1 point de données que nous voulons classer. (Comment estimer la moyenne et l'écart type si nous n'avons qu'un seul point de données ?) C'est un cas intuitif pour montrer pourquoi nous devons conserver et utiliser les paramètres de données d'apprentissage pour mettre à l'échelle l'ensemble de test."
   ]
  },
  {
   "cell_type": "markdown",
   "id": "32ce7f50",
   "metadata": {},
   "source": [
    "# <span style= 'color:black'><h4> 3/ </h4> </span>\n",
    "---"
   ]
  },
  {
   "cell_type": "code",
   "execution_count": 13,
   "id": "39792843",
   "metadata": {},
   "outputs": [
    {
     "data": {
      "text/plain": [
       "array([[[[0.23137255, 0.24313725, 0.24705882],\n",
       "         [0.16862745, 0.18039216, 0.17647059],\n",
       "         [0.19607843, 0.18823529, 0.16862745],\n",
       "         ...,\n",
       "         [0.61960784, 0.51764706, 0.42352941],\n",
       "         [0.59607843, 0.49019608, 0.4       ],\n",
       "         [0.58039216, 0.48627451, 0.40392157]],\n",
       "\n",
       "        [[0.0627451 , 0.07843137, 0.07843137],\n",
       "         [0.        , 0.        , 0.        ],\n",
       "         [0.07058824, 0.03137255, 0.        ],\n",
       "         ...,\n",
       "         [0.48235294, 0.34509804, 0.21568627],\n",
       "         [0.46666667, 0.3254902 , 0.19607843],\n",
       "         [0.47843137, 0.34117647, 0.22352941]],\n",
       "\n",
       "        [[0.09803922, 0.09411765, 0.08235294],\n",
       "         [0.0627451 , 0.02745098, 0.        ],\n",
       "         [0.19215686, 0.10588235, 0.03137255],\n",
       "         ...,\n",
       "         [0.4627451 , 0.32941176, 0.19607843],\n",
       "         [0.47058824, 0.32941176, 0.19607843],\n",
       "         [0.42745098, 0.28627451, 0.16470588]],\n",
       "\n",
       "        ...,\n",
       "\n",
       "        [[0.81568627, 0.66666667, 0.37647059],\n",
       "         [0.78823529, 0.6       , 0.13333333],\n",
       "         [0.77647059, 0.63137255, 0.10196078],\n",
       "         ...,\n",
       "         [0.62745098, 0.52156863, 0.2745098 ],\n",
       "         [0.21960784, 0.12156863, 0.02745098],\n",
       "         [0.20784314, 0.13333333, 0.07843137]],\n",
       "\n",
       "        [[0.70588235, 0.54509804, 0.37647059],\n",
       "         [0.67843137, 0.48235294, 0.16470588],\n",
       "         [0.72941176, 0.56470588, 0.11764706],\n",
       "         ...,\n",
       "         [0.72156863, 0.58039216, 0.36862745],\n",
       "         [0.38039216, 0.24313725, 0.13333333],\n",
       "         [0.3254902 , 0.20784314, 0.13333333]],\n",
       "\n",
       "        [[0.69411765, 0.56470588, 0.45490196],\n",
       "         [0.65882353, 0.50588235, 0.36862745],\n",
       "         [0.70196078, 0.55686275, 0.34117647],\n",
       "         ...,\n",
       "         [0.84705882, 0.72156863, 0.54901961],\n",
       "         [0.59215686, 0.4627451 , 0.32941176],\n",
       "         [0.48235294, 0.36078431, 0.28235294]]],\n",
       "\n",
       "\n",
       "       [[[0.60392157, 0.69411765, 0.73333333],\n",
       "         [0.49411765, 0.5372549 , 0.53333333],\n",
       "         [0.41176471, 0.40784314, 0.37254902],\n",
       "         ...,\n",
       "         [0.35686275, 0.37254902, 0.27843137],\n",
       "         [0.34117647, 0.35294118, 0.27843137],\n",
       "         [0.30980392, 0.31764706, 0.2745098 ]],\n",
       "\n",
       "        [[0.54901961, 0.62745098, 0.6627451 ],\n",
       "         [0.56862745, 0.6       , 0.60392157],\n",
       "         [0.49019608, 0.49019608, 0.4627451 ],\n",
       "         ...,\n",
       "         [0.37647059, 0.38823529, 0.30588235],\n",
       "         [0.30196078, 0.31372549, 0.24313725],\n",
       "         [0.27843137, 0.28627451, 0.23921569]],\n",
       "\n",
       "        [[0.54901961, 0.60784314, 0.64313725],\n",
       "         [0.54509804, 0.57254902, 0.58431373],\n",
       "         [0.45098039, 0.45098039, 0.43921569],\n",
       "         ...,\n",
       "         [0.30980392, 0.32156863, 0.25098039],\n",
       "         [0.26666667, 0.2745098 , 0.21568627],\n",
       "         [0.2627451 , 0.27058824, 0.21568627]],\n",
       "\n",
       "        ...,\n",
       "\n",
       "        [[0.68627451, 0.65490196, 0.65098039],\n",
       "         [0.61176471, 0.60392157, 0.62745098],\n",
       "         [0.60392157, 0.62745098, 0.66666667],\n",
       "         ...,\n",
       "         [0.16470588, 0.13333333, 0.14117647],\n",
       "         [0.23921569, 0.20784314, 0.22352941],\n",
       "         [0.36470588, 0.3254902 , 0.35686275]],\n",
       "\n",
       "        [[0.64705882, 0.60392157, 0.50196078],\n",
       "         [0.61176471, 0.59607843, 0.50980392],\n",
       "         [0.62352941, 0.63137255, 0.55686275],\n",
       "         ...,\n",
       "         [0.40392157, 0.36470588, 0.37647059],\n",
       "         [0.48235294, 0.44705882, 0.47058824],\n",
       "         [0.51372549, 0.4745098 , 0.51372549]],\n",
       "\n",
       "        [[0.63921569, 0.58039216, 0.47058824],\n",
       "         [0.61960784, 0.58039216, 0.47843137],\n",
       "         [0.63921569, 0.61176471, 0.52156863],\n",
       "         ...,\n",
       "         [0.56078431, 0.52156863, 0.54509804],\n",
       "         [0.56078431, 0.5254902 , 0.55686275],\n",
       "         [0.56078431, 0.52156863, 0.56470588]]],\n",
       "\n",
       "\n",
       "       [[[1.        , 1.        , 1.        ],\n",
       "         [0.99215686, 0.99215686, 0.99215686],\n",
       "         [0.99215686, 0.99215686, 0.99215686],\n",
       "         ...,\n",
       "         [0.99215686, 0.99215686, 0.99215686],\n",
       "         [0.99215686, 0.99215686, 0.99215686],\n",
       "         [0.99215686, 0.99215686, 0.99215686]],\n",
       "\n",
       "        [[1.        , 1.        , 1.        ],\n",
       "         [1.        , 1.        , 1.        ],\n",
       "         [1.        , 1.        , 1.        ],\n",
       "         ...,\n",
       "         [1.        , 1.        , 1.        ],\n",
       "         [1.        , 1.        , 1.        ],\n",
       "         [1.        , 1.        , 1.        ]],\n",
       "\n",
       "        [[1.        , 1.        , 1.        ],\n",
       "         [0.99607843, 0.99607843, 0.99607843],\n",
       "         [0.99607843, 0.99607843, 0.99607843],\n",
       "         ...,\n",
       "         [0.99607843, 0.99607843, 0.99607843],\n",
       "         [0.99607843, 0.99607843, 0.99607843],\n",
       "         [0.99607843, 0.99607843, 0.99607843]],\n",
       "\n",
       "        ...,\n",
       "\n",
       "        [[0.44313725, 0.47058824, 0.43921569],\n",
       "         [0.43529412, 0.4627451 , 0.43529412],\n",
       "         [0.41176471, 0.43921569, 0.41568627],\n",
       "         ...,\n",
       "         [0.28235294, 0.31764706, 0.31372549],\n",
       "         [0.28235294, 0.31372549, 0.30980392],\n",
       "         [0.28235294, 0.31372549, 0.30980392]],\n",
       "\n",
       "        [[0.43529412, 0.4627451 , 0.43137255],\n",
       "         [0.40784314, 0.43529412, 0.40784314],\n",
       "         [0.38823529, 0.41568627, 0.38431373],\n",
       "         ...,\n",
       "         [0.26666667, 0.29411765, 0.28627451],\n",
       "         [0.2745098 , 0.29803922, 0.29411765],\n",
       "         [0.30588235, 0.32941176, 0.32156863]],\n",
       "\n",
       "        [[0.41568627, 0.44313725, 0.41176471],\n",
       "         [0.38823529, 0.41568627, 0.38431373],\n",
       "         [0.37254902, 0.4       , 0.36862745],\n",
       "         ...,\n",
       "         [0.30588235, 0.33333333, 0.3254902 ],\n",
       "         [0.30980392, 0.33333333, 0.3254902 ],\n",
       "         [0.31372549, 0.3372549 , 0.32941176]]],\n",
       "\n",
       "\n",
       "       ...,\n",
       "\n",
       "\n",
       "       [[[0.1372549 , 0.69803922, 0.92156863],\n",
       "         [0.15686275, 0.69019608, 0.9372549 ],\n",
       "         [0.16470588, 0.69019608, 0.94509804],\n",
       "         ...,\n",
       "         [0.38823529, 0.69411765, 0.85882353],\n",
       "         [0.30980392, 0.57647059, 0.77254902],\n",
       "         [0.34901961, 0.58039216, 0.74117647]],\n",
       "\n",
       "        [[0.22352941, 0.71372549, 0.91764706],\n",
       "         [0.17254902, 0.72156863, 0.98039216],\n",
       "         [0.19607843, 0.71764706, 0.94117647],\n",
       "         ...,\n",
       "         [0.61176471, 0.71372549, 0.78431373],\n",
       "         [0.55294118, 0.69411765, 0.80784314],\n",
       "         [0.45490196, 0.58431373, 0.68627451]],\n",
       "\n",
       "        [[0.38431373, 0.77254902, 0.92941176],\n",
       "         [0.25098039, 0.74117647, 0.98823529],\n",
       "         [0.27058824, 0.75294118, 0.96078431],\n",
       "         ...,\n",
       "         [0.7372549 , 0.76470588, 0.80784314],\n",
       "         [0.46666667, 0.52941176, 0.57647059],\n",
       "         [0.23921569, 0.30980392, 0.35294118]],\n",
       "\n",
       "        ...,\n",
       "\n",
       "        [[0.28627451, 0.30980392, 0.30196078],\n",
       "         [0.20784314, 0.24705882, 0.26666667],\n",
       "         [0.21176471, 0.26666667, 0.31372549],\n",
       "         ...,\n",
       "         [0.06666667, 0.15686275, 0.25098039],\n",
       "         [0.08235294, 0.14117647, 0.2       ],\n",
       "         [0.12941176, 0.18823529, 0.19215686]],\n",
       "\n",
       "        [[0.23921569, 0.26666667, 0.29411765],\n",
       "         [0.21568627, 0.2745098 , 0.3372549 ],\n",
       "         [0.22352941, 0.30980392, 0.40392157],\n",
       "         ...,\n",
       "         [0.09411765, 0.18823529, 0.28235294],\n",
       "         [0.06666667, 0.1372549 , 0.20784314],\n",
       "         [0.02745098, 0.09019608, 0.1254902 ]],\n",
       "\n",
       "        [[0.17254902, 0.21960784, 0.28627451],\n",
       "         [0.18039216, 0.25882353, 0.34509804],\n",
       "         [0.19215686, 0.30196078, 0.41176471],\n",
       "         ...,\n",
       "         [0.10588235, 0.20392157, 0.30196078],\n",
       "         [0.08235294, 0.16862745, 0.25882353],\n",
       "         [0.04705882, 0.12156863, 0.19607843]]],\n",
       "\n",
       "\n",
       "       [[[0.74117647, 0.82745098, 0.94117647],\n",
       "         [0.72941176, 0.81568627, 0.9254902 ],\n",
       "         [0.7254902 , 0.81176471, 0.92156863],\n",
       "         ...,\n",
       "         [0.68627451, 0.76470588, 0.87843137],\n",
       "         [0.6745098 , 0.76078431, 0.87058824],\n",
       "         [0.6627451 , 0.76078431, 0.8627451 ]],\n",
       "\n",
       "        [[0.76078431, 0.82352941, 0.9372549 ],\n",
       "         [0.74901961, 0.81176471, 0.9254902 ],\n",
       "         [0.74509804, 0.80784314, 0.92156863],\n",
       "         ...,\n",
       "         [0.67843137, 0.75294118, 0.8627451 ],\n",
       "         [0.67058824, 0.74901961, 0.85490196],\n",
       "         [0.65490196, 0.74509804, 0.84705882]],\n",
       "\n",
       "        [[0.81568627, 0.85882353, 0.95686275],\n",
       "         [0.80392157, 0.84705882, 0.94117647],\n",
       "         [0.8       , 0.84313725, 0.9372549 ],\n",
       "         ...,\n",
       "         [0.68627451, 0.74901961, 0.85098039],\n",
       "         [0.6745098 , 0.74509804, 0.84705882],\n",
       "         [0.6627451 , 0.74901961, 0.84313725]],\n",
       "\n",
       "        ...,\n",
       "\n",
       "        [[0.81176471, 0.78039216, 0.70980392],\n",
       "         [0.79607843, 0.76470588, 0.68627451],\n",
       "         [0.79607843, 0.76862745, 0.67843137],\n",
       "         ...,\n",
       "         [0.52941176, 0.51764706, 0.49803922],\n",
       "         [0.63529412, 0.61960784, 0.58823529],\n",
       "         [0.65882353, 0.63921569, 0.59215686]],\n",
       "\n",
       "        [[0.77647059, 0.74509804, 0.66666667],\n",
       "         [0.74117647, 0.70980392, 0.62352941],\n",
       "         [0.70588235, 0.6745098 , 0.57647059],\n",
       "         ...,\n",
       "         [0.69803922, 0.67058824, 0.62745098],\n",
       "         [0.68627451, 0.6627451 , 0.61176471],\n",
       "         [0.68627451, 0.6627451 , 0.60392157]],\n",
       "\n",
       "        [[0.77647059, 0.74117647, 0.67843137],\n",
       "         [0.74117647, 0.70980392, 0.63529412],\n",
       "         [0.69803922, 0.66666667, 0.58431373],\n",
       "         ...,\n",
       "         [0.76470588, 0.72156863, 0.6627451 ],\n",
       "         [0.76862745, 0.74117647, 0.67058824],\n",
       "         [0.76470588, 0.74509804, 0.67058824]]],\n",
       "\n",
       "\n",
       "       [[[0.89803922, 0.89803922, 0.9372549 ],\n",
       "         [0.9254902 , 0.92941176, 0.96862745],\n",
       "         [0.91764706, 0.9254902 , 0.96862745],\n",
       "         ...,\n",
       "         [0.85098039, 0.85882353, 0.91372549],\n",
       "         [0.86666667, 0.8745098 , 0.91764706],\n",
       "         [0.87058824, 0.8745098 , 0.91372549]],\n",
       "\n",
       "        [[0.87058824, 0.86666667, 0.89803922],\n",
       "         [0.9372549 , 0.9372549 , 0.97647059],\n",
       "         [0.91372549, 0.91764706, 0.96470588],\n",
       "         ...,\n",
       "         [0.8745098 , 0.8745098 , 0.9254902 ],\n",
       "         [0.89019608, 0.89411765, 0.93333333],\n",
       "         [0.82352941, 0.82745098, 0.8627451 ]],\n",
       "\n",
       "        [[0.83529412, 0.80784314, 0.82745098],\n",
       "         [0.91764706, 0.90980392, 0.9372549 ],\n",
       "         [0.90588235, 0.91372549, 0.95686275],\n",
       "         ...,\n",
       "         [0.8627451 , 0.8627451 , 0.90980392],\n",
       "         [0.8627451 , 0.85882353, 0.90980392],\n",
       "         [0.79215686, 0.79607843, 0.84313725]],\n",
       "\n",
       "        ...,\n",
       "\n",
       "        [[0.58823529, 0.56078431, 0.52941176],\n",
       "         [0.54901961, 0.52941176, 0.49803922],\n",
       "         [0.51764706, 0.49803922, 0.47058824],\n",
       "         ...,\n",
       "         [0.87843137, 0.87058824, 0.85490196],\n",
       "         [0.90196078, 0.89411765, 0.88235294],\n",
       "         [0.94509804, 0.94509804, 0.93333333]],\n",
       "\n",
       "        [[0.5372549 , 0.51764706, 0.49411765],\n",
       "         [0.50980392, 0.49803922, 0.47058824],\n",
       "         [0.49019608, 0.4745098 , 0.45098039],\n",
       "         ...,\n",
       "         [0.70980392, 0.70588235, 0.69803922],\n",
       "         [0.79215686, 0.78823529, 0.77647059],\n",
       "         [0.83137255, 0.82745098, 0.81176471]],\n",
       "\n",
       "        [[0.47843137, 0.46666667, 0.44705882],\n",
       "         [0.4627451 , 0.45490196, 0.43137255],\n",
       "         [0.47058824, 0.45490196, 0.43529412],\n",
       "         ...,\n",
       "         [0.70196078, 0.69411765, 0.67843137],\n",
       "         [0.64313725, 0.64313725, 0.63529412],\n",
       "         [0.63921569, 0.63921569, 0.63137255]]]])"
      ]
     },
     "execution_count": 13,
     "metadata": {},
     "output_type": "execute_result"
    }
   ],
   "source": [
    "X_train_minMax=(X_train-0)/(255-0)\n",
    "X_train_minMax"
   ]
  },
  {
   "cell_type": "code",
   "execution_count": 14,
   "id": "5e71c6c0",
   "metadata": {},
   "outputs": [
    {
     "data": {
      "text/plain": [
       "array([[[[0.61960784, 0.43921569, 0.19215686],\n",
       "         [0.62352941, 0.43529412, 0.18431373],\n",
       "         [0.64705882, 0.45490196, 0.2       ],\n",
       "         ...,\n",
       "         [0.5372549 , 0.37254902, 0.14117647],\n",
       "         [0.49411765, 0.35686275, 0.14117647],\n",
       "         [0.45490196, 0.33333333, 0.12941176]],\n",
       "\n",
       "        [[0.59607843, 0.43921569, 0.2       ],\n",
       "         [0.59215686, 0.43137255, 0.15686275],\n",
       "         [0.62352941, 0.44705882, 0.17647059],\n",
       "         ...,\n",
       "         [0.53333333, 0.37254902, 0.12156863],\n",
       "         [0.49019608, 0.35686275, 0.1254902 ],\n",
       "         [0.46666667, 0.34509804, 0.13333333]],\n",
       "\n",
       "        [[0.59215686, 0.43137255, 0.18431373],\n",
       "         [0.59215686, 0.42745098, 0.12941176],\n",
       "         [0.61960784, 0.43529412, 0.14117647],\n",
       "         ...,\n",
       "         [0.54509804, 0.38431373, 0.13333333],\n",
       "         [0.50980392, 0.37254902, 0.13333333],\n",
       "         [0.47058824, 0.34901961, 0.12941176]],\n",
       "\n",
       "        ...,\n",
       "\n",
       "        [[0.26666667, 0.48627451, 0.69411765],\n",
       "         [0.16470588, 0.39215686, 0.58039216],\n",
       "         [0.12156863, 0.34509804, 0.5372549 ],\n",
       "         ...,\n",
       "         [0.14901961, 0.38039216, 0.57254902],\n",
       "         [0.05098039, 0.25098039, 0.42352941],\n",
       "         [0.15686275, 0.33333333, 0.49803922]],\n",
       "\n",
       "        [[0.23921569, 0.45490196, 0.65882353],\n",
       "         [0.19215686, 0.4       , 0.58039216],\n",
       "         [0.1372549 , 0.33333333, 0.51764706],\n",
       "         ...,\n",
       "         [0.10196078, 0.32156863, 0.50980392],\n",
       "         [0.11372549, 0.32156863, 0.49411765],\n",
       "         [0.07843137, 0.25098039, 0.41960784]],\n",
       "\n",
       "        [[0.21176471, 0.41960784, 0.62745098],\n",
       "         [0.21960784, 0.41176471, 0.58431373],\n",
       "         [0.17647059, 0.34901961, 0.51764706],\n",
       "         ...,\n",
       "         [0.09411765, 0.30196078, 0.48627451],\n",
       "         [0.13333333, 0.32941176, 0.50588235],\n",
       "         [0.08235294, 0.2627451 , 0.43137255]]],\n",
       "\n",
       "\n",
       "       [[[0.92156863, 0.92156863, 0.92156863],\n",
       "         [0.90588235, 0.90588235, 0.90588235],\n",
       "         [0.90980392, 0.90980392, 0.90980392],\n",
       "         ...,\n",
       "         [0.91372549, 0.91372549, 0.91372549],\n",
       "         [0.91372549, 0.91372549, 0.91372549],\n",
       "         [0.90980392, 0.90980392, 0.90980392]],\n",
       "\n",
       "        [[0.93333333, 0.93333333, 0.93333333],\n",
       "         [0.92156863, 0.92156863, 0.92156863],\n",
       "         [0.92156863, 0.92156863, 0.92156863],\n",
       "         ...,\n",
       "         [0.9254902 , 0.9254902 , 0.9254902 ],\n",
       "         [0.9254902 , 0.9254902 , 0.9254902 ],\n",
       "         [0.92156863, 0.92156863, 0.92156863]],\n",
       "\n",
       "        [[0.92941176, 0.92941176, 0.92941176],\n",
       "         [0.91764706, 0.91764706, 0.91764706],\n",
       "         [0.91764706, 0.91764706, 0.91764706],\n",
       "         ...,\n",
       "         [0.92156863, 0.92156863, 0.92156863],\n",
       "         [0.92156863, 0.92156863, 0.92156863],\n",
       "         [0.91764706, 0.91764706, 0.91764706]],\n",
       "\n",
       "        ...,\n",
       "\n",
       "        [[0.34117647, 0.38823529, 0.34901961],\n",
       "         [0.16862745, 0.2       , 0.14509804],\n",
       "         [0.0745098 , 0.09019608, 0.04313725],\n",
       "         ...,\n",
       "         [0.6627451 , 0.72156863, 0.70196078],\n",
       "         [0.71372549, 0.77254902, 0.75686275],\n",
       "         [0.7372549 , 0.79215686, 0.78823529]],\n",
       "\n",
       "        [[0.32156863, 0.37647059, 0.32156863],\n",
       "         [0.18039216, 0.22352941, 0.14117647],\n",
       "         [0.14117647, 0.17254902, 0.08627451],\n",
       "         ...,\n",
       "         [0.68235294, 0.74117647, 0.71764706],\n",
       "         [0.7254902 , 0.78431373, 0.76862745],\n",
       "         [0.73333333, 0.79215686, 0.78431373]],\n",
       "\n",
       "        [[0.33333333, 0.39607843, 0.3254902 ],\n",
       "         [0.24313725, 0.29411765, 0.18823529],\n",
       "         [0.22745098, 0.2627451 , 0.14901961],\n",
       "         ...,\n",
       "         [0.65882353, 0.71764706, 0.69803922],\n",
       "         [0.70588235, 0.76470588, 0.74901961],\n",
       "         [0.72941176, 0.78431373, 0.78039216]]],\n",
       "\n",
       "\n",
       "       [[[0.61960784, 0.74509804, 0.87058824],\n",
       "         [0.61960784, 0.73333333, 0.85490196],\n",
       "         [0.54509804, 0.65098039, 0.76078431],\n",
       "         ...,\n",
       "         [0.89411765, 0.90588235, 0.91764706],\n",
       "         [0.92941176, 0.9372549 , 0.95294118],\n",
       "         [0.93333333, 0.94509804, 0.96470588]],\n",
       "\n",
       "        [[0.66666667, 0.78431373, 0.89803922],\n",
       "         [0.6745098 , 0.78039216, 0.88627451],\n",
       "         [0.59215686, 0.69019608, 0.78823529],\n",
       "         ...,\n",
       "         [0.90980392, 0.90980392, 0.9254902 ],\n",
       "         [0.96470588, 0.96470588, 0.98039216],\n",
       "         [0.96470588, 0.96862745, 0.98431373]],\n",
       "\n",
       "        [[0.68235294, 0.78823529, 0.88235294],\n",
       "         [0.69019608, 0.78431373, 0.87058824],\n",
       "         [0.61568627, 0.70196078, 0.78039216],\n",
       "         ...,\n",
       "         [0.90196078, 0.89803922, 0.90980392],\n",
       "         [0.98039216, 0.97647059, 0.98431373],\n",
       "         [0.96078431, 0.95686275, 0.96862745]],\n",
       "\n",
       "        ...,\n",
       "\n",
       "        [[0.12156863, 0.15686275, 0.17647059],\n",
       "         [0.11764706, 0.15294118, 0.17254902],\n",
       "         [0.10196078, 0.1372549 , 0.15686275],\n",
       "         ...,\n",
       "         [0.14509804, 0.15686275, 0.18039216],\n",
       "         [0.03529412, 0.05098039, 0.05490196],\n",
       "         [0.01568627, 0.02745098, 0.01960784]],\n",
       "\n",
       "        [[0.09019608, 0.13333333, 0.15294118],\n",
       "         [0.10588235, 0.14901961, 0.16862745],\n",
       "         [0.09803922, 0.14117647, 0.16078431],\n",
       "         ...,\n",
       "         [0.0745098 , 0.07843137, 0.09411765],\n",
       "         [0.01568627, 0.02352941, 0.01176471],\n",
       "         [0.01960784, 0.02745098, 0.01176471]],\n",
       "\n",
       "        [[0.10980392, 0.16078431, 0.18431373],\n",
       "         [0.11764706, 0.16862745, 0.19607843],\n",
       "         [0.1254902 , 0.17647059, 0.20392157],\n",
       "         ...,\n",
       "         [0.01960784, 0.02352941, 0.03137255],\n",
       "         [0.01568627, 0.01960784, 0.01176471],\n",
       "         [0.02745098, 0.03137255, 0.02745098]]],\n",
       "\n",
       "\n",
       "       ...,\n",
       "\n",
       "\n",
       "       [[[0.07843137, 0.05882353, 0.04705882],\n",
       "         [0.0745098 , 0.05490196, 0.04313725],\n",
       "         [0.05882353, 0.05490196, 0.04313725],\n",
       "         ...,\n",
       "         [0.03921569, 0.03529412, 0.02745098],\n",
       "         [0.04705882, 0.04313725, 0.03529412],\n",
       "         [0.05098039, 0.04705882, 0.03921569]],\n",
       "\n",
       "        [[0.08235294, 0.0627451 , 0.05098039],\n",
       "         [0.07843137, 0.0627451 , 0.05098039],\n",
       "         [0.07058824, 0.06666667, 0.04705882],\n",
       "         ...,\n",
       "         [0.03921569, 0.03529412, 0.02745098],\n",
       "         [0.03921569, 0.03529412, 0.02745098],\n",
       "         [0.04705882, 0.04313725, 0.03529412]],\n",
       "\n",
       "        [[0.08235294, 0.0627451 , 0.05098039],\n",
       "         [0.08235294, 0.06666667, 0.04705882],\n",
       "         [0.07843137, 0.07058824, 0.04313725],\n",
       "         ...,\n",
       "         [0.04705882, 0.04313725, 0.03529412],\n",
       "         [0.04705882, 0.04313725, 0.03529412],\n",
       "         [0.05098039, 0.04705882, 0.03921569]],\n",
       "\n",
       "        ...,\n",
       "\n",
       "        [[0.12941176, 0.09803922, 0.05098039],\n",
       "         [0.13333333, 0.10196078, 0.05882353],\n",
       "         [0.13333333, 0.10196078, 0.05882353],\n",
       "         ...,\n",
       "         [0.10980392, 0.09803922, 0.20392157],\n",
       "         [0.11372549, 0.09803922, 0.22745098],\n",
       "         [0.09019608, 0.07843137, 0.16470588]],\n",
       "\n",
       "        [[0.12941176, 0.09803922, 0.05490196],\n",
       "         [0.13333333, 0.10196078, 0.05882353],\n",
       "         [0.13333333, 0.10196078, 0.05882353],\n",
       "         ...,\n",
       "         [0.10588235, 0.09411765, 0.20392157],\n",
       "         [0.10588235, 0.09411765, 0.21960784],\n",
       "         [0.09803922, 0.08627451, 0.18431373]],\n",
       "\n",
       "        [[0.12156863, 0.09019608, 0.04705882],\n",
       "         [0.1254902 , 0.09411765, 0.05098039],\n",
       "         [0.12941176, 0.09803922, 0.05490196],\n",
       "         ...,\n",
       "         [0.09411765, 0.09019608, 0.19607843],\n",
       "         [0.10196078, 0.09019608, 0.20784314],\n",
       "         [0.09803922, 0.07843137, 0.18431373]]],\n",
       "\n",
       "\n",
       "       [[[0.09803922, 0.15686275, 0.04705882],\n",
       "         [0.05882353, 0.14117647, 0.01176471],\n",
       "         [0.09019608, 0.16078431, 0.07058824],\n",
       "         ...,\n",
       "         [0.23921569, 0.32156863, 0.30588235],\n",
       "         [0.36078431, 0.44313725, 0.43921569],\n",
       "         [0.29411765, 0.34901961, 0.36078431]],\n",
       "\n",
       "        [[0.04705882, 0.09803922, 0.02352941],\n",
       "         [0.07843137, 0.14509804, 0.02745098],\n",
       "         [0.09411765, 0.14117647, 0.05882353],\n",
       "         ...,\n",
       "         [0.45098039, 0.5254902 , 0.54117647],\n",
       "         [0.58431373, 0.65882353, 0.69411765],\n",
       "         [0.40784314, 0.45882353, 0.51372549]],\n",
       "\n",
       "        [[0.04705882, 0.09803922, 0.04313725],\n",
       "         [0.05882353, 0.11372549, 0.02352941],\n",
       "         [0.13333333, 0.15686275, 0.09411765],\n",
       "         ...,\n",
       "         [0.60392157, 0.6745098 , 0.71372549],\n",
       "         [0.61568627, 0.68627451, 0.75294118],\n",
       "         [0.45490196, 0.50588235, 0.59215686]],\n",
       "\n",
       "        ...,\n",
       "\n",
       "        [[0.39215686, 0.50588235, 0.31764706],\n",
       "         [0.40392157, 0.51764706, 0.32941176],\n",
       "         [0.40784314, 0.5254902 , 0.3372549 ],\n",
       "         ...,\n",
       "         [0.38039216, 0.50196078, 0.32941176],\n",
       "         [0.38431373, 0.49411765, 0.32941176],\n",
       "         [0.35686275, 0.4745098 , 0.30980392]],\n",
       "\n",
       "        [[0.40392157, 0.51764706, 0.3254902 ],\n",
       "         [0.40784314, 0.51372549, 0.3254902 ],\n",
       "         [0.41960784, 0.52941176, 0.34117647],\n",
       "         ...,\n",
       "         [0.39607843, 0.51764706, 0.34117647],\n",
       "         [0.38823529, 0.49803922, 0.32941176],\n",
       "         [0.36078431, 0.4745098 , 0.30980392]],\n",
       "\n",
       "        [[0.37254902, 0.49411765, 0.30588235],\n",
       "         [0.37254902, 0.48235294, 0.29803922],\n",
       "         [0.39607843, 0.50196078, 0.31764706],\n",
       "         ...,\n",
       "         [0.36470588, 0.48627451, 0.31372549],\n",
       "         [0.37254902, 0.48235294, 0.31764706],\n",
       "         [0.36078431, 0.47058824, 0.31372549]]],\n",
       "\n",
       "\n",
       "       [[[0.28627451, 0.30588235, 0.29411765],\n",
       "         [0.38431373, 0.40392157, 0.44313725],\n",
       "         [0.38823529, 0.41568627, 0.44705882],\n",
       "         ...,\n",
       "         [0.52941176, 0.58823529, 0.59607843],\n",
       "         [0.52941176, 0.58431373, 0.60392157],\n",
       "         [0.79607843, 0.84313725, 0.8745098 ]],\n",
       "\n",
       "        [[0.27058824, 0.28627451, 0.2745098 ],\n",
       "         [0.32941176, 0.34901961, 0.38039216],\n",
       "         [0.26666667, 0.29411765, 0.31764706],\n",
       "         ...,\n",
       "         [0.33333333, 0.37254902, 0.34901961],\n",
       "         [0.27843137, 0.32156863, 0.31372549],\n",
       "         [0.47058824, 0.52156863, 0.52941176]],\n",
       "\n",
       "        [[0.27058824, 0.28627451, 0.2745098 ],\n",
       "         [0.35294118, 0.37254902, 0.39215686],\n",
       "         [0.24313725, 0.27843137, 0.29019608],\n",
       "         ...,\n",
       "         [0.29019608, 0.31764706, 0.2745098 ],\n",
       "         [0.20784314, 0.24313725, 0.21176471],\n",
       "         [0.24313725, 0.29019608, 0.27058824]],\n",
       "\n",
       "        ...,\n",
       "\n",
       "        [[0.48235294, 0.50196078, 0.37647059],\n",
       "         [0.51764706, 0.51764706, 0.4       ],\n",
       "         [0.50588235, 0.50196078, 0.39215686],\n",
       "         ...,\n",
       "         [0.42352941, 0.41960784, 0.34509804],\n",
       "         [0.24313725, 0.23529412, 0.21568627],\n",
       "         [0.10588235, 0.10588235, 0.10980392]],\n",
       "\n",
       "        [[0.45098039, 0.4745098 , 0.35686275],\n",
       "         [0.48235294, 0.48627451, 0.37254902],\n",
       "         [0.50588235, 0.49411765, 0.38823529],\n",
       "         ...,\n",
       "         [0.45098039, 0.45490196, 0.36862745],\n",
       "         [0.25882353, 0.25490196, 0.23137255],\n",
       "         [0.10588235, 0.10588235, 0.10588235]],\n",
       "\n",
       "        [[0.45490196, 0.47058824, 0.35294118],\n",
       "         [0.4745098 , 0.47843137, 0.36862745],\n",
       "         [0.50588235, 0.50196078, 0.39607843],\n",
       "         ...,\n",
       "         [0.45490196, 0.45098039, 0.36862745],\n",
       "         [0.26666667, 0.25490196, 0.22745098],\n",
       "         [0.10588235, 0.10196078, 0.10196078]]]])"
      ]
     },
     "execution_count": 14,
     "metadata": {},
     "output_type": "execute_result"
    }
   ],
   "source": [
    "X_test_minMax=(X_test-0)/(255-0)\n",
    "X_test_minMax"
   ]
  },
  {
   "cell_type": "code",
   "execution_count": 15,
   "id": "0f637b1d",
   "metadata": {},
   "outputs": [
    {
     "name": "stdout",
     "output_type": "stream",
     "text": [
      "Epoch 1/50\n",
      "1563/1563 [==============================] - 12s 6ms/step - loss: 1.4111 - accuracy: 0.4884 - val_loss: 1.1579 - val_accuracy: 0.5935\n",
      "Epoch 2/50\n",
      "1563/1563 [==============================] - 9s 6ms/step - loss: 0.9953 - accuracy: 0.6489 - val_loss: 0.9693 - val_accuracy: 0.6623\n",
      "Epoch 3/50\n",
      "1563/1563 [==============================] - 9s 6ms/step - loss: 0.8084 - accuracy: 0.7139 - val_loss: 0.9186 - val_accuracy: 0.6867\n",
      "Epoch 4/50\n",
      "1563/1563 [==============================] - 9s 6ms/step - loss: 0.6651 - accuracy: 0.7680 - val_loss: 0.8556 - val_accuracy: 0.7096\n",
      "Epoch 5/50\n",
      "1563/1563 [==============================] - 9s 6ms/step - loss: 0.5336 - accuracy: 0.8104 - val_loss: 0.9277 - val_accuracy: 0.6984\n",
      "Epoch 6/50\n",
      "1563/1563 [==============================] - 9s 6ms/step - loss: 0.4229 - accuracy: 0.8513 - val_loss: 0.9892 - val_accuracy: 0.7061\n",
      "Epoch 7/50\n",
      "1563/1563 [==============================] - 9s 6ms/step - loss: 0.3187 - accuracy: 0.8886 - val_loss: 1.0775 - val_accuracy: 0.7172\n",
      "Epoch 8/50\n",
      "1563/1563 [==============================] - 9s 6ms/step - loss: 0.2422 - accuracy: 0.9140 - val_loss: 1.2525 - val_accuracy: 0.7012\n",
      "Epoch 9/50\n",
      "1563/1563 [==============================] - 9s 6ms/step - loss: 0.2087 - accuracy: 0.9263 - val_loss: 1.3522 - val_accuracy: 0.7103\n",
      "Epoch 10/50\n",
      "1563/1563 [==============================] - 9s 6ms/step - loss: 0.1766 - accuracy: 0.9400 - val_loss: 1.5823 - val_accuracy: 0.7005\n",
      "Epoch 11/50\n",
      "1563/1563 [==============================] - 9s 6ms/step - loss: 0.1503 - accuracy: 0.9486 - val_loss: 1.6855 - val_accuracy: 0.7078\n",
      "Epoch 12/50\n",
      "1563/1563 [==============================] - 9s 6ms/step - loss: 0.1613 - accuracy: 0.9460 - val_loss: 1.7603 - val_accuracy: 0.6909\n",
      "Epoch 13/50\n",
      "1563/1563 [==============================] - 9s 6ms/step - loss: 0.1414 - accuracy: 0.9539 - val_loss: 1.8418 - val_accuracy: 0.6867\n",
      "Epoch 14/50\n",
      "1563/1563 [==============================] - 9s 6ms/step - loss: 0.1407 - accuracy: 0.9545 - val_loss: 1.9308 - val_accuracy: 0.6905\n",
      "Epoch 15/50\n",
      "1563/1563 [==============================] - 9s 6ms/step - loss: 0.1428 - accuracy: 0.9545 - val_loss: 1.9219 - val_accuracy: 0.6975\n",
      "Epoch 16/50\n",
      "1563/1563 [==============================] - 9s 6ms/step - loss: 0.1254 - accuracy: 0.9611 - val_loss: 2.0881 - val_accuracy: 0.7044\n",
      "Epoch 17/50\n",
      "1563/1563 [==============================] - 9s 6ms/step - loss: 0.1234 - accuracy: 0.9619 - val_loss: 2.2570 - val_accuracy: 0.6972\n",
      "Epoch 18/50\n",
      "1563/1563 [==============================] - 9s 6ms/step - loss: 0.1262 - accuracy: 0.9611 - val_loss: 2.3849 - val_accuracy: 0.6879\n",
      "Epoch 19/50\n",
      "1563/1563 [==============================] - 9s 6ms/step - loss: 0.1230 - accuracy: 0.9622 - val_loss: 2.3955 - val_accuracy: 0.6893\n",
      "Epoch 20/50\n",
      "1563/1563 [==============================] - 9s 6ms/step - loss: 0.1213 - accuracy: 0.9645 - val_loss: 2.3746 - val_accuracy: 0.6947\n",
      "Epoch 21/50\n",
      "1563/1563 [==============================] - 9s 6ms/step - loss: 0.1287 - accuracy: 0.9618 - val_loss: 2.4555 - val_accuracy: 0.6979\n",
      "Epoch 22/50\n",
      "1563/1563 [==============================] - 9s 6ms/step - loss: 0.1215 - accuracy: 0.9654 - val_loss: 2.6398 - val_accuracy: 0.6783\n",
      "Epoch 23/50\n",
      "1563/1563 [==============================] - 9s 6ms/step - loss: 0.1110 - accuracy: 0.9673 - val_loss: 2.5298 - val_accuracy: 0.6941\n",
      "Epoch 24/50\n",
      "1563/1563 [==============================] - 9s 6ms/step - loss: 0.1161 - accuracy: 0.9671 - val_loss: 2.7262 - val_accuracy: 0.6989\n",
      "Epoch 25/50\n",
      "1563/1563 [==============================] - 9s 6ms/step - loss: 0.1260 - accuracy: 0.9659 - val_loss: 2.6673 - val_accuracy: 0.6918\n",
      "Epoch 26/50\n",
      "1563/1563 [==============================] - 9s 6ms/step - loss: 0.1123 - accuracy: 0.9691 - val_loss: 2.9281 - val_accuracy: 0.7051\n",
      "Epoch 27/50\n",
      "1563/1563 [==============================] - 9s 6ms/step - loss: 0.1214 - accuracy: 0.9666 - val_loss: 3.0817 - val_accuracy: 0.6977\n",
      "Epoch 28/50\n",
      "1563/1563 [==============================] - 9s 6ms/step - loss: 0.1218 - accuracy: 0.9672 - val_loss: 3.1418 - val_accuracy: 0.6946\n",
      "Epoch 29/50\n",
      "1563/1563 [==============================] - 9s 6ms/step - loss: 0.1185 - accuracy: 0.9686 - val_loss: 3.0085 - val_accuracy: 0.6954\n",
      "Epoch 30/50\n",
      "1563/1563 [==============================] - 9s 6ms/step - loss: 0.0989 - accuracy: 0.9726 - val_loss: 3.1670 - val_accuracy: 0.6959\n",
      "Epoch 31/50\n",
      "1563/1563 [==============================] - 9s 6ms/step - loss: 0.1243 - accuracy: 0.9683 - val_loss: 3.2367 - val_accuracy: 0.6870\n",
      "Epoch 32/50\n",
      "1563/1563 [==============================] - 9s 6ms/step - loss: 0.1092 - accuracy: 0.9713 - val_loss: 3.7575 - val_accuracy: 0.6843\n",
      "Epoch 33/50\n",
      "1563/1563 [==============================] - 9s 6ms/step - loss: 0.1115 - accuracy: 0.9723 - val_loss: 3.3982 - val_accuracy: 0.6881\n",
      "Epoch 34/50\n",
      "1563/1563 [==============================] - 9s 6ms/step - loss: 0.1089 - accuracy: 0.9733 - val_loss: 3.7388 - val_accuracy: 0.6937\n",
      "Epoch 35/50\n",
      "1563/1563 [==============================] - 9s 6ms/step - loss: 0.1143 - accuracy: 0.9723 - val_loss: 3.6993 - val_accuracy: 0.6942\n",
      "Epoch 36/50\n",
      "1563/1563 [==============================] - 9s 6ms/step - loss: 0.1212 - accuracy: 0.9714 - val_loss: 3.4732 - val_accuracy: 0.6876\n",
      "Epoch 37/50\n",
      "1563/1563 [==============================] - 9s 6ms/step - loss: 0.1086 - accuracy: 0.9739 - val_loss: 3.7398 - val_accuracy: 0.6851\n",
      "Epoch 38/50\n",
      "1563/1563 [==============================] - 9s 6ms/step - loss: 0.1156 - accuracy: 0.9726 - val_loss: 3.8626 - val_accuracy: 0.7010\n",
      "Epoch 39/50\n",
      "1563/1563 [==============================] - 9s 6ms/step - loss: 0.1241 - accuracy: 0.9721 - val_loss: 3.6067 - val_accuracy: 0.7033\n",
      "Epoch 40/50\n",
      "1563/1563 [==============================] - 9s 6ms/step - loss: 0.1009 - accuracy: 0.9770 - val_loss: 3.8104 - val_accuracy: 0.6893\n",
      "Epoch 41/50\n",
      "1563/1563 [==============================] - 9s 6ms/step - loss: 0.1354 - accuracy: 0.9713 - val_loss: 4.1182 - val_accuracy: 0.6966\n",
      "Epoch 42/50\n",
      "1563/1563 [==============================] - 9s 6ms/step - loss: 0.1061 - accuracy: 0.9766 - val_loss: 4.1187 - val_accuracy: 0.6927\n",
      "Epoch 43/50\n",
      "1563/1563 [==============================] - 9s 6ms/step - loss: 0.1208 - accuracy: 0.9731 - val_loss: 3.9027 - val_accuracy: 0.6932\n",
      "Epoch 44/50\n",
      "1563/1563 [==============================] - 9s 6ms/step - loss: 0.1166 - accuracy: 0.9742 - val_loss: 4.3013 - val_accuracy: 0.6940\n",
      "Epoch 45/50\n",
      "1563/1563 [==============================] - 9s 6ms/step - loss: 0.1184 - accuracy: 0.9740 - val_loss: 4.5237 - val_accuracy: 0.6810\n",
      "Epoch 46/50\n",
      "1563/1563 [==============================] - 9s 6ms/step - loss: 0.1006 - accuracy: 0.9779 - val_loss: 4.4709 - val_accuracy: 0.6952\n",
      "Epoch 47/50\n",
      "1563/1563 [==============================] - 9s 6ms/step - loss: 0.1251 - accuracy: 0.9743 - val_loss: 4.8252 - val_accuracy: 0.6860\n",
      "Epoch 48/50\n",
      "1563/1563 [==============================] - 9s 6ms/step - loss: 0.1240 - accuracy: 0.9751 - val_loss: 4.7740 - val_accuracy: 0.6865\n",
      "Epoch 49/50\n",
      "1563/1563 [==============================] - 9s 6ms/step - loss: 0.1123 - accuracy: 0.9766 - val_loss: 4.8888 - val_accuracy: 0.6915\n",
      "Epoch 50/50\n",
      "1563/1563 [==============================] - 9s 6ms/step - loss: 0.1201 - accuracy: 0.9759 - val_loss: 4.9388 - val_accuracy: 0.6947\n"
     ]
    }
   ],
   "source": [
    "history=cnn.fit(X_train_minMax, y_train, epochs=50,validation_data=(X_test_minMax, y_test))"
   ]
  },
  {
   "cell_type": "code",
   "execution_count": 16,
   "id": "59ee4e6b",
   "metadata": {},
   "outputs": [
    {
     "name": "stdout",
     "output_type": "stream",
     "text": [
      "313/313 [==============================] - 1s 3ms/step - loss: 4.9388 - accuracy: 0.6947\n"
     ]
    },
    {
     "data": {
      "text/plain": [
       "[4.938791751861572, 0.6947000026702881]"
      ]
     },
     "execution_count": 16,
     "metadata": {},
     "output_type": "execute_result"
    }
   ],
   "source": [
    "cnn.evaluate(X_test_minMax,y_test)"
   ]
  },
  {
   "cell_type": "code",
   "execution_count": 17,
   "id": "9d743571",
   "metadata": {},
   "outputs": [],
   "source": [
    "y_pred=cnn.predict(X_test_minMax)"
   ]
  },
  {
   "cell_type": "code",
   "execution_count": 18,
   "id": "0775ab05",
   "metadata": {},
   "outputs": [
    {
     "name": "stdout",
     "output_type": "stream",
     "text": [
      "class_predict :  [3, 8, 8, 0, 6, 6, 1, 6, 3, 9]\n",
      "class_juste :  [3 8 8 0 6 6 1 6 3 1]\n"
     ]
    }
   ],
   "source": [
    "y_classes=[np.argmax(item) for item in y_pred]\n",
    "print(\"class_predict : \",y_classes[:10])\n",
    "print(\"class_juste : \",y_test[:10])"
   ]
  },
  {
   "cell_type": "code",
   "execution_count": 19,
   "id": "7f0c8443",
   "metadata": {},
   "outputs": [
    {
     "name": "stdout",
     "output_type": "stream",
     "text": [
      "Classification Report: \n",
      "               precision    recall  f1-score   support\n",
      "\n",
      "           0       0.75      0.76      0.75      1000\n",
      "           1       0.85      0.83      0.84      1000\n",
      "           2       0.60      0.62      0.61      1000\n",
      "           3       0.49      0.48      0.48      1000\n",
      "           4       0.62      0.60      0.61      1000\n",
      "           5       0.60      0.57      0.58      1000\n",
      "           6       0.68      0.76      0.72      1000\n",
      "           7       0.79      0.72      0.75      1000\n",
      "           8       0.77      0.86      0.81      1000\n",
      "           9       0.80      0.75      0.77      1000\n",
      "\n",
      "    accuracy                           0.69     10000\n",
      "   macro avg       0.69      0.69      0.69     10000\n",
      "weighted avg       0.69      0.69      0.69     10000\n",
      "\n"
     ]
    }
   ],
   "source": [
    "print(\"Classification Report: \\n\", classification_report(y_test, y_classes))"
   ]
  },
  {
   "cell_type": "code",
   "execution_count": 20,
   "id": "1f5f6e56",
   "metadata": {},
   "outputs": [
    {
     "data": {
      "image/png": "[encoded data removed]",
      "text/plain": [
       "<Figure size 432x288 with 1 Axes>"
      ]
     },
     "metadata": {
      "needs_background": "light"
     },
     "output_type": "display_data"
    }
   ],
   "source": [
    "plt.plot(history.history['accuracy'])\n",
    "plt.plot(history.history['val_accuracy'])\n",
    "plt.title('model accuracy')\n",
    "plt.ylabel('accuracy')\n",
    "plt.xlabel('epoch')\n",
    "plt.legend(['train', 'val'], loc='upper left')\n",
    "plt.show()"
   ]
  },
  {
   "cell_type": "code",
   "execution_count": 21,
   "id": "74c7fed6",
   "metadata": {},
   "outputs": [
    {
     "data": {
      "image/png": "[encoded data removed]",
      "text/plain": [
       "<Figure size 432x288 with 1 Axes>"
      ]
     },
     "metadata": {
      "needs_background": "light"
     },
     "output_type": "display_data"
    }
   ],
   "source": [
    "plt.plot(history.history['loss'])\n",
    "plt.plot(history.history['val_loss'])\n",
    "plt.title('model loss')\n",
    "plt.ylabel('loss')\n",
    "plt.xlabel('epoch')\n",
    "plt.legend(['train', 'val'], loc='upper left')\n",
    "plt.show()\n"
   ]
  },
  {
   "cell_type": "markdown",
   "id": "96ef68e2",
   "metadata": {},
   "source": [
    "minmax scalar ce que on a x_scaled=(x-x_min)/(x_max-x_min)"
   ]
  },
  {
   "cell_type": "markdown",
   "id": "b0784c8b",
   "metadata": {},
   "source": [
    "les valeurs entre 0 et 1 model converge trop vite"
   ]
  },
  {
   "cell_type": "markdown",
   "id": "33bf2aab",
   "metadata": {},
   "source": [
    "->le model converge tres rapidement mais moins que standarscalar ,de la 3 ere epoch accuracy est 0.71 pour le train est 0.68 pour validation,a 50 epochs on des resultats moins que standarscalar mais plus proche, accuracy est 0.97 pour train et 0.69 pour test sont different encore trop . mais encore loss continue a augmenter plus que standarscalar normalisation pour validation  tandis que loss tends vers une valeur proche de 0 pour l  entrainement   ,encore de sur-apprentissage"
   ]
  },
  {
   "cell_type": "markdown",
   "id": "9f17dd9f",
   "metadata": {},
   "source": [
    "# <span style= 'color:blue'><h1> Partie 4: Augmentation du nombre d'exemples d'apprentissage par data augmentation:</h1> </span>\n",
    "---"
   ]
  },
  {
   "cell_type": "markdown",
   "id": "4fd5105c",
   "metadata": {},
   "source": [
    "# <span style= 'color:black'><h4> 1+2/ </h4> </span>\n",
    "---"
   ]
  },
  {
   "cell_type": "code",
   "execution_count": 6,
   "id": "6dc98147",
   "metadata": {},
   "outputs": [],
   "source": [
    "data_augmentation_train=keras.Sequential([\n",
    "   tf.keras.layers.RandomCrop(28, 28),\n",
    "    tf.keras.layers.RandomFlip(mode='horizontal')\n",
    "\n",
    "    \n",
    "])\n",
    "data_augmentation_test=keras.Sequential([\n",
    "   tf.keras.layers.RandomCrop(28, 28)\n",
    "\n",
    "    \n",
    "])"
   ]
  },
  {
   "cell_type": "code",
   "execution_count": 18,
   "id": "2547bd46",
   "metadata": {},
   "outputs": [
    {
     "data": {
      "text/plain": [
       "<tf.Tensor: shape=(10000, 28, 28, 3), dtype=float32, numpy=\n",
       "array([[[[ 6.30116761e-01, -1.11942969e-01, -9.42440271e-01],\n",
       "         [ 6.45991445e-01, -7.97309875e-02, -9.12457466e-01],\n",
       "         [ 5.50743103e-01, -1.76366925e-01, -1.01739728e+00],\n",
       "         ...,\n",
       "         [ 2.49123350e-01, -4.17956740e-01, -1.09235430e+00],\n",
       "         [ 2.80872792e-01, -4.17956740e-01, -1.13732851e+00],\n",
       "         [ 1.85624450e-01, -4.50168729e-01, -1.16731131e+00]],\n",
       "\n",
       "        [[ 5.34868419e-01, -1.44154936e-01, -1.03238869e+00],\n",
       "         [ 6.45991445e-01, -1.11942969e-01, -8.67483258e-01],\n",
       "         [ 5.82492590e-01, -1.76366925e-01, -9.72423077e-01],\n",
       "         ...,\n",
       "         [ 2.64998078e-01, -4.17956740e-01, -1.13732851e+00],\n",
       "         [ 2.80872792e-01, -4.01850760e-01, -1.19729412e+00],\n",
       "         [ 1.69749737e-01, -4.50168729e-01, -1.24226832e+00]],\n",
       "\n",
       "        [[ 5.18993676e-01, -1.92472905e-01, -1.16731131e+00],\n",
       "         [ 6.61866188e-01, -1.92472905e-01, -9.87414479e-01],\n",
       "         [ 5.50743103e-01, -2.73002863e-01, -1.07736290e+00],\n",
       "         ...,\n",
       "         [ 2.33248621e-01, -3.85744780e-01, -1.12233710e+00],\n",
       "         [ 2.64998078e-01, -3.85744780e-01, -1.18230271e+00],\n",
       "         [ 2.17373908e-01, -4.01850760e-01, -1.19729412e+00]],\n",
       "\n",
       "        ...,\n",
       "\n",
       "        [[-1.44947219e+00, -6.11228585e-01,  1.51932120e-01],\n",
       "         [-8.30357909e-01, -2.73002863e-01,  3.31828952e-01],\n",
       "         [ 4.27519344e-02,  4.03448671e-01,  7.96562433e-01],\n",
       "         ...,\n",
       "         [-1.05260408e+00, -2.40790874e-01,  5.26717186e-01],\n",
       "         [-1.13197768e+00, -2.40790874e-01,  6.01674199e-01],\n",
       "         [-1.19547653e+00, -2.89108843e-01,  5.71691394e-01]],\n",
       "\n",
       "        [[-1.49709630e+00, -5.95122635e-01,  2.41880536e-01],\n",
       "         [-1.33834910e+00, -6.43440604e-01,  1.21949315e-01],\n",
       "         [-9.41480994e-01, -4.50168729e-01,  1.81914926e-01],\n",
       "         ...,\n",
       "         [-1.41772270e+00, -5.14592648e-01,  3.61811757e-01],\n",
       "         [-1.17960191e+00, -2.40790874e-01,  6.61639810e-01],\n",
       "         [-8.30357909e-01,  1.13540873e-01,  9.61467862e-01]],\n",
       "\n",
       "        [[-1.52884579e+00, -5.46804667e-01,  3.61811757e-01],\n",
       "         [-1.43359745e+00, -5.95122635e-01,  2.86854744e-01],\n",
       "         [-1.29072487e+00, -6.43440604e-01,  1.81914926e-01],\n",
       "         ...,\n",
       "         [-1.35422385e+00, -3.53532791e-01,  5.86682796e-01],\n",
       "         [-9.25606251e-01,  9.74348783e-02,  1.02143347e+00],\n",
       "         [-9.25606251e-01,  4.91169170e-02,  9.31485057e-01]]],\n",
       "\n",
       "\n",
       "       [[[ 1.69372332e+00,  1.75635171e+00,  1.77100360e+00],\n",
       "         [ 1.69372332e+00,  1.75635171e+00,  1.77100360e+00],\n",
       "         [ 1.69372332e+00,  1.75635171e+00,  1.77100360e+00],\n",
       "         ...,\n",
       "         [ 1.69372332e+00,  1.75635171e+00,  1.77100360e+00],\n",
       "         [ 1.69372332e+00,  1.75635171e+00,  1.77100360e+00],\n",
       "         [ 1.70959795e+00,  1.77245772e+00,  1.78599501e+00]],\n",
       "\n",
       "        [[ 1.74134743e+00,  1.80466962e+00,  1.81597781e+00],\n",
       "         [ 1.74134743e+00,  1.80466962e+00,  1.81597781e+00],\n",
       "         [ 1.74134743e+00,  1.80466962e+00,  1.81597781e+00],\n",
       "         ...,\n",
       "         [ 1.74134743e+00,  1.80466962e+00,  1.81597781e+00],\n",
       "         [ 1.74134743e+00,  1.80466962e+00,  1.81597781e+00],\n",
       "         [ 1.75722218e+00,  1.82077563e+00,  1.83096921e+00]],\n",
       "\n",
       "        [[ 1.72547269e+00,  1.78856361e+00,  1.80098641e+00],\n",
       "         [ 1.72547269e+00,  1.78856361e+00,  1.80098641e+00],\n",
       "         [ 1.72547269e+00,  1.78856361e+00,  1.80098641e+00],\n",
       "         ...,\n",
       "         [ 1.72547269e+00,  1.78856361e+00,  1.80098641e+00],\n",
       "         [ 1.72547269e+00,  1.78856361e+00,  1.80098641e+00],\n",
       "         [ 1.74134743e+00,  1.80466962e+00,  1.81597781e+00]],\n",
       "\n",
       "        ...,\n",
       "\n",
       "        [[-1.98921275e+00, -1.93191969e+00, -1.66202760e+00],\n",
       "         [-1.98921275e+00, -1.91581368e+00, -1.64703619e+00],\n",
       "         [-1.79871607e+00, -1.88360167e+00, -1.60206199e+00],\n",
       "         ...,\n",
       "         [ 5.86266592e-02,  1.45752847e-01,  1.81914926e-01],\n",
       "         [ 1.06250830e-01,  2.90706754e-01,  3.16837549e-01],\n",
       "         [ 4.23745334e-01,  6.28932476e-01,  6.61639810e-01]],\n",
       "\n",
       "        [[-1.97333813e+00, -1.96413159e+00, -1.69201040e+00],\n",
       "         [-1.97333813e+00, -1.96413159e+00, -1.67701900e+00],\n",
       "         [-1.92571390e+00, -1.96413159e+00, -1.70700181e+00],\n",
       "         ...,\n",
       "         [ 5.86266592e-02,  1.94070816e-01,  2.11897731e-01],\n",
       "         [ 2.96747535e-01,  4.83978599e-01,  4.96734381e-01],\n",
       "         [ 5.82492590e-01,  8.54416311e-01,  8.56528044e-01]],\n",
       "\n",
       "        [[-1.97333813e+00, -1.96413159e+00, -1.69201040e+00],\n",
       "         [-1.95746338e+00, -1.96413159e+00, -1.67701900e+00],\n",
       "         [-1.95746338e+00, -1.98023760e+00, -1.70700181e+00],\n",
       "         ...,\n",
       "         [ 1.06250830e-01,  2.58494765e-01,  2.56871939e-01],\n",
       "         [ 3.44371706e-01,  5.48402548e-01,  5.41708589e-01],\n",
       "         [ 6.30116761e-01,  9.02734280e-01,  9.01502252e-01]]],\n",
       "\n",
       "\n",
       "       [[[ 2.17373908e-01,  6.93356454e-01,  1.20133030e+00],\n",
       "         [ 1.06250830e-01,  5.64508557e-01,  1.08139908e+00],\n",
       "         [ 6.45991445e-01,  1.12821817e+00,  1.62108958e+00],\n",
       "         ...,\n",
       "         [ 1.78897166e+00,  1.93351758e+00,  1.99587464e+00],\n",
       "         [ 1.69372332e+00,  1.83688164e+00,  1.90592623e+00],\n",
       "         [ 1.63022435e+00,  1.74024570e+00,  1.80098641e+00]],\n",
       "\n",
       "        [[ 4.07870591e-01,  8.54416311e-01,  1.30627012e+00],\n",
       "         [ 1.85624450e-01,  5.96720517e-01,  1.05141628e+00],\n",
       "         [ 7.72989273e-01,  1.22485411e+00,  1.63608098e+00],\n",
       "         ...,\n",
       "         [ 1.86834526e+00,  2.01404738e+00,  2.07083154e+00],\n",
       "         [ 1.70959795e+00,  1.82077563e+00,  1.89093482e+00],\n",
       "         [ 1.69372332e+00,  1.75635171e+00,  1.83096921e+00]],\n",
       "\n",
       "        [[ 5.03118932e-01,  9.02734280e-01,  1.27628732e+00],\n",
       "         [ 2.64998078e-01,  6.28932476e-01,  1.00644207e+00],\n",
       "         [ 8.84112358e-01,  1.25706601e+00,  1.57611537e+00],\n",
       "         ...,\n",
       "         [ 1.94771886e+00,  2.04625940e+00,  2.07083154e+00],\n",
       "         [ 1.77309692e+00,  1.85298765e+00,  1.90592623e+00],\n",
       "         [ 1.66197383e+00,  1.70803368e+00,  1.77100360e+00]],\n",
       "\n",
       "        ...,\n",
       "\n",
       "        [[-3.22366714e-01,  1.13540873e-01,  6.01674199e-01],\n",
       "         [-3.54116172e-01,  6.52229041e-02,  5.56699991e-01],\n",
       "         [-3.69990915e-01,  1.69049390e-02,  5.11725783e-01],\n",
       "         ...,\n",
       "         [-1.54472053e+00, -1.33599806e+00, -9.57431674e-01],\n",
       "         [-1.52884579e+00, -1.30378616e+00, -9.42440271e-01],\n",
       "         [-1.59234464e+00, -1.33599806e+00, -9.87414479e-01]],\n",
       "\n",
       "        [[-9.57355738e-01, -5.95122635e-01, -1.17913127e-01],\n",
       "         [-1.06847882e+00, -7.23970532e-01, -2.22852945e-01],\n",
       "         [-1.11610293e+00, -7.88394451e-01, -3.27792764e-01],\n",
       "         ...,\n",
       "         [-1.54472053e+00, -1.33599806e+00, -9.57431674e-01],\n",
       "         [-1.56059527e+00, -1.31989205e+00, -9.72423077e-01],\n",
       "         [-1.59234464e+00, -1.33599806e+00, -9.87414479e-01]],\n",
       "\n",
       "        [[-1.57647002e+00, -1.33599806e+00, -8.97466063e-01],\n",
       "         [-1.56059527e+00, -1.30378616e+00, -8.82474661e-01],\n",
       "         [-1.49709630e+00, -1.19104421e+00, -8.07517648e-01],\n",
       "         ...,\n",
       "         [-1.56059527e+00, -1.33599806e+00, -9.72423077e-01],\n",
       "         [-1.54472053e+00, -1.31989205e+00, -9.57431674e-01],\n",
       "         [-1.51297104e+00, -1.30378616e+00, -9.57431674e-01]]],\n",
       "\n",
       "\n",
       "       ...,\n",
       "\n",
       "\n",
       "       [[[-1.75109196e+00, -1.75475383e+00, -1.54209638e+00],\n",
       "         [-1.75109196e+00, -1.75475383e+00, -1.54209638e+00],\n",
       "         [-1.76696670e+00, -1.77085972e+00, -1.55708778e+00],\n",
       "         ...,\n",
       "         [-1.79871607e+00, -1.80307174e+00, -1.57207918e+00],\n",
       "         [-1.79871607e+00, -1.80307174e+00, -1.57207918e+00],\n",
       "         [-1.83046556e+00, -1.83528376e+00, -1.60206199e+00]],\n",
       "\n",
       "        [[-1.70346773e+00, -1.70643580e+00, -1.52710497e+00],\n",
       "         [-1.70346773e+00, -1.69032979e+00, -1.54209638e+00],\n",
       "         [-1.70346773e+00, -1.69032979e+00, -1.52710497e+00],\n",
       "         ...,\n",
       "         [-1.79871607e+00, -1.80307174e+00, -1.57207918e+00],\n",
       "         [-1.79871607e+00, -1.80307174e+00, -1.57207918e+00],\n",
       "         [-1.83046556e+00, -1.83528376e+00, -1.60206199e+00]],\n",
       "\n",
       "        [[-1.67171836e+00, -1.69032979e+00, -1.54209638e+00],\n",
       "         [-1.67171836e+00, -1.69032979e+00, -1.54209638e+00],\n",
       "         [-1.67171836e+00, -1.69032979e+00, -1.54209638e+00],\n",
       "         ...,\n",
       "         [-1.79871607e+00, -1.80307174e+00, -1.57207918e+00],\n",
       "         [-1.79871607e+00, -1.80307174e+00, -1.57207918e+00],\n",
       "         [-1.79871607e+00, -1.80307174e+00, -1.57207918e+00]],\n",
       "\n",
       "        ...,\n",
       "\n",
       "        [[-1.44947219e+00, -1.56148195e+00, -1.48213077e+00],\n",
       "         [-1.44947219e+00, -1.56148195e+00, -1.48213077e+00],\n",
       "         [-1.44947219e+00, -1.56148195e+00, -1.48213077e+00],\n",
       "         ...,\n",
       "         [-1.60821939e+00, -1.64201188e+00, -1.09235430e+00],\n",
       "         [-1.59234464e+00, -1.62590587e+00, -1.01739728e+00],\n",
       "         [-1.54472053e+00, -1.57758796e+00, -9.27448869e-01]],\n",
       "\n",
       "        [[-1.44947219e+00, -1.56148195e+00, -1.48213077e+00],\n",
       "         [-1.44947219e+00, -1.56148195e+00, -1.48213077e+00],\n",
       "         [-1.44947219e+00, -1.56148195e+00, -1.48213077e+00],\n",
       "         ...,\n",
       "         [-1.60821939e+00, -1.64201188e+00, -1.03238869e+00],\n",
       "         [-1.54472053e+00, -1.59369385e+00, -9.87414479e-01],\n",
       "         [-1.52884579e+00, -1.56148195e+00, -9.12457466e-01]],\n",
       "\n",
       "        [[-1.44947219e+00, -1.56148195e+00, -1.48213077e+00],\n",
       "         [-1.44947219e+00, -1.56148195e+00, -1.48213077e+00],\n",
       "         [-1.44947219e+00, -1.56148195e+00, -1.48213077e+00],\n",
       "         ...,\n",
       "         [-1.59234464e+00, -1.62590587e+00, -9.72423077e-01],\n",
       "         [-1.51297104e+00, -1.54537594e+00, -9.27448869e-01],\n",
       "         [-1.54472053e+00, -1.56148195e+00, -9.27448869e-01]]],\n",
       "\n",
       "\n",
       "       [[[-1.62409413e+00, -1.31989205e+00, -1.43715656e+00],\n",
       "         [-1.71934247e+00, -1.52926993e+00, -1.49712217e+00],\n",
       "         [-1.62409413e+00, -1.56148195e+00, -1.51211357e+00],\n",
       "         ...,\n",
       "         [ 4.39620048e-01,  7.73886383e-01,  9.76459265e-01],\n",
       "         [-5.76362312e-01, -2.24684879e-01, -8.79303217e-02],\n",
       "         [-1.02085459e+00, -6.59546554e-01, -5.37672400e-01]],\n",
       "\n",
       "        [[-1.60821939e+00, -1.40042198e+00, -1.48213077e+00],\n",
       "         [-1.21135128e+00, -1.12662017e+00, -1.21228552e+00],\n",
       "         [-3.38241458e-01, -3.85744780e-01, -7.17569232e-01],\n",
       "         ...,\n",
       "         [ 3.28496963e-01,  6.77250445e-01,  8.41536641e-01],\n",
       "         [-1.79494202e-01,  1.77964821e-01,  3.31828952e-01],\n",
       "         [-1.63619488e-01,  1.77964821e-01,  3.61811757e-01]],\n",
       "\n",
       "        [[-1.44947219e+00, -1.33599806e+00, -1.34720814e+00],\n",
       "         [-1.15995310e-01, -1.11942969e-01, -3.42784166e-01],\n",
       "         [ 8.04738700e-01,  6.93356454e-01,  3.20008993e-02],\n",
       "         ...,\n",
       "         [-3.66216898e-02,  3.06812733e-01,  4.51760173e-01],\n",
       "         [ 3.76121134e-01,  7.25568414e-01,  8.86510849e-01],\n",
       "         [ 4.55494761e-01,  7.89992392e-01,  1.02143347e+00]],\n",
       "\n",
       "        ...,\n",
       "\n",
       "        [[-4.65239257e-01,  7.98951369e-04, -6.57603621e-01],\n",
       "         [-4.96988684e-01, -3.14130262e-02, -6.87586427e-01],\n",
       "         [-5.60487568e-01, -4.75190133e-02, -7.17569232e-01],\n",
       "         ...,\n",
       "         [-4.96988684e-01,  4.91169170e-02, -5.37672400e-01],\n",
       "         [-5.76362312e-01, -3.14130262e-02, -6.27620816e-01],\n",
       "         [-6.08111799e-01, -6.36250004e-02, -6.57603621e-01]],\n",
       "\n",
       "        [[-4.96988684e-01,  7.98951369e-04, -6.72595024e-01],\n",
       "         [-4.65239257e-01,  1.69049390e-02, -6.42612219e-01],\n",
       "         [-5.44612885e-01,  7.98951369e-04, -7.02577829e-01],\n",
       "         ...,\n",
       "         [-5.12863398e-01,  3.30109298e-02, -5.67655206e-01],\n",
       "         [-6.08111799e-01, -6.36250004e-02, -6.57603621e-01],\n",
       "         [-6.71610653e-01, -1.28048956e-01, -7.17569232e-01]],\n",
       "\n",
       "        [[-4.81113970e-01,  3.30109298e-02, -6.12629414e-01],\n",
       "         [-4.81113970e-01,  4.91169170e-02, -6.12629414e-01],\n",
       "         [-4.96988684e-01,  6.52229041e-02, -6.57603621e-01],\n",
       "         ...,\n",
       "         [-5.76362312e-01, -1.53070372e-02, -6.12629414e-01],\n",
       "         [-6.71610653e-01, -1.11942969e-01, -7.02577829e-01],\n",
       "         [-6.87485397e-01, -1.60260931e-01, -7.17569232e-01]]],\n",
       "\n",
       "\n",
       "       [[[-4.17615086e-01, -2.73002863e-01,  2.01809499e-03],\n",
       "         [-7.66858995e-01, -6.27334595e-01, -3.72766972e-01],\n",
       "         [-1.05260408e+00, -9.49454367e-01, -7.17569232e-01],\n",
       "         ...,\n",
       "         [ 1.72547269e+00,  1.91741157e+00,  2.04084873e+00],\n",
       "         [ 5.03118932e-01,  7.09462464e-01,  8.71519446e-01],\n",
       "         [ 1.53875008e-01,  4.35660630e-01,  5.71691394e-01]],\n",
       "\n",
       "        [[-9.09731507e-01, -7.72288501e-01, -4.92698193e-01],\n",
       "         [-8.62107337e-01, -7.23970532e-01, -4.62715387e-01],\n",
       "         [-1.21135128e+00, -1.09440827e+00, -8.52491856e-01],\n",
       "         ...,\n",
       "         [ 1.37622881e+00,  1.56307983e+00,  1.65107238e+00],\n",
       "         [-5.24964146e-02,  9.74348783e-02,  2.26889133e-01],\n",
       "         [-6.39861226e-01, -4.50168729e-01, -3.72766972e-01]],\n",
       "\n",
       "        [[-1.00497985e+00, -8.36712420e-01, -5.97638011e-01],\n",
       "         [-7.19234824e-01, -5.79016626e-01, -3.27792764e-01],\n",
       "         [-1.21135128e+00, -1.09440827e+00, -8.52491856e-01],\n",
       "         ...,\n",
       "         [ 2.64998078e-01,  4.35660630e-01,  4.96734381e-01],\n",
       "         [-4.49364513e-01, -3.21320802e-01, -2.97809958e-01],\n",
       "         [-8.14483166e-01, -6.75652564e-01, -6.57603621e-01]],\n",
       "\n",
       "        ...,\n",
       "\n",
       "        [[ 1.38000280e-01,  2.58494765e-01, -1.32904530e-01],\n",
       "         [ 1.69749737e-01,  2.74600744e-01, -1.02921724e-01],\n",
       "         [ 1.38000280e-01,  2.42388770e-01, -8.79303217e-02],\n",
       "         ...,\n",
       "         [-2.27118388e-01, -2.56896853e-01, -3.57775569e-01],\n",
       "         [-2.74742544e-01, -3.05214822e-01, -4.02749777e-01],\n",
       "         [-3.54116172e-01, -4.17956740e-01, -4.47723985e-01]],\n",
       "\n",
       "        [[ 1.38000280e-01,  2.42388770e-01, -1.17913127e-01],\n",
       "         [ 1.85624450e-01,  2.74600744e-01, -7.29389191e-02],\n",
       "         [ 1.69749737e-01,  2.58494765e-01, -8.79303217e-02],\n",
       "         ...,\n",
       "         [-8.42458606e-02, -1.60260931e-01, -2.52835751e-01],\n",
       "         [-1.79494202e-01, -2.40790874e-01, -3.27792764e-01],\n",
       "         [-3.22366714e-01, -3.85744780e-01, -4.17741179e-01]],\n",
       "\n",
       "        [[ 5.86266592e-02,  1.29646853e-01, -2.07861543e-01],\n",
       "         [ 1.06250830e-01,  1.94070816e-01, -1.47895932e-01],\n",
       "         [ 1.22125559e-01,  2.10176796e-01, -1.62887335e-01],\n",
       "         ...,\n",
       "         [-1.95368931e-01, -2.24684879e-01, -3.27792764e-01],\n",
       "         [-1.63619488e-01, -2.08578900e-01, -2.97809958e-01],\n",
       "         [-1.63619488e-01, -2.24684879e-01, -2.67827153e-01]]]],\n",
       "      dtype=float32)>"
      ]
     },
     "execution_count": 18,
     "metadata": {},
     "output_type": "execute_result"
    }
   ],
   "source": [
    "X_test_stand=data_augmentation_test(X_test_stand)\n",
    "X_test_stand\n"
   ]
  },
  {
   "cell_type": "code",
   "execution_count": 19,
   "id": "8ff1651b",
   "metadata": {},
   "outputs": [],
   "source": [
    "cnn = models.Sequential([\n",
    "    data_augmentation_train,\n",
    "  \n",
    "    layers.Conv2D(filters=32, kernel_size=(5,5), strides=1,activation='relu',padding='same', input_shape=(32, 32, 3)),\n",
    "    layers.MaxPooling2D((2, 2),strides=2),\n",
    "    \n",
    "    layers.Conv2D(filters=64, kernel_size=(5, 5),strides=1, activation='relu',padding='same'),\n",
    "    layers.MaxPooling2D((2, 2),strides=2),\n",
    "    \n",
    "    layers.Conv2D(filters=64, kernel_size=(5, 5), strides=1,activation='relu',padding='same'),\n",
    "    layers.MaxPooling2D((2, 2),strides=2,padding='same'),\n",
    "    \n",
    "    layers.Flatten(),\n",
    "    layers.Dense(1000, activation='relu'),\n",
    "    layers.Dense(10, activation='softmax')\n",
    "])"
   ]
  },
  {
   "cell_type": "code",
   "execution_count": 20,
   "id": "de406f3d",
   "metadata": {},
   "outputs": [],
   "source": [
    "cnn.compile(optimizer='adam',\n",
    "              loss='sparse_categorical_crossentropy',\n",
    "              metrics=['accuracy'])"
   ]
  },
  {
   "cell_type": "code",
   "execution_count": 22,
   "id": "206e93d7",
   "metadata": {},
   "outputs": [
    {
     "name": "stdout",
     "output_type": "stream",
     "text": [
      "Epoch 1/50\n",
      "1563/1563 [==============================] - 11s 7ms/step - loss: 1.4245 - accuracy: 0.4844 - val_loss: 1.2078 - val_accuracy: 0.5744\n",
      "Epoch 2/50\n",
      "1563/1563 [==============================] - 11s 7ms/step - loss: 1.0613 - accuracy: 0.6288 - val_loss: 0.9974 - val_accuracy: 0.6476\n",
      "Epoch 3/50\n",
      "1563/1563 [==============================] - 11s 7ms/step - loss: 0.9151 - accuracy: 0.6798 - val_loss: 0.9345 - val_accuracy: 0.6740\n",
      "Epoch 4/50\n",
      "1563/1563 [==============================] - 10s 7ms/step - loss: 0.8350 - accuracy: 0.7091 - val_loss: 0.8918 - val_accuracy: 0.6916\n",
      "Epoch 5/50\n",
      "1563/1563 [==============================] - 10s 7ms/step - loss: 0.7797 - accuracy: 0.7297 - val_loss: 0.9029 - val_accuracy: 0.6877\n",
      "Epoch 6/50\n",
      "1563/1563 [==============================] - 11s 7ms/step - loss: 0.7437 - accuracy: 0.7399 - val_loss: 0.8286 - val_accuracy: 0.7167\n",
      "Epoch 7/50\n",
      "1563/1563 [==============================] - 11s 7ms/step - loss: 0.7051 - accuracy: 0.7547 - val_loss: 0.8138 - val_accuracy: 0.7254\n",
      "Epoch 8/50\n",
      "1563/1563 [==============================] - 10s 7ms/step - loss: 0.6791 - accuracy: 0.7633 - val_loss: 0.8240 - val_accuracy: 0.7221\n",
      "Epoch 9/50\n",
      "1563/1563 [==============================] - 10s 7ms/step - loss: 0.6573 - accuracy: 0.7714 - val_loss: 0.8322 - val_accuracy: 0.7223\n",
      "Epoch 10/50\n",
      "1563/1563 [==============================] - 10s 7ms/step - loss: 0.6375 - accuracy: 0.7787 - val_loss: 0.7740 - val_accuracy: 0.7418\n",
      "Epoch 11/50\n",
      "1563/1563 [==============================] - 10s 7ms/step - loss: 0.6165 - accuracy: 0.7854 - val_loss: 0.8236 - val_accuracy: 0.7263\n",
      "Epoch 12/50\n",
      "1563/1563 [==============================] - 11s 7ms/step - loss: 0.6132 - accuracy: 0.7880 - val_loss: 0.7834 - val_accuracy: 0.7438\n",
      "Epoch 13/50\n",
      "1563/1563 [==============================] - 11s 7ms/step - loss: 0.5859 - accuracy: 0.7966 - val_loss: 0.7746 - val_accuracy: 0.7429\n",
      "Epoch 14/50\n",
      "1563/1563 [==============================] - 10s 7ms/step - loss: 0.5842 - accuracy: 0.7994 - val_loss: 0.8169 - val_accuracy: 0.7357\n",
      "Epoch 15/50\n",
      "1563/1563 [==============================] - 10s 7ms/step - loss: 0.5678 - accuracy: 0.8036 - val_loss: 0.7919 - val_accuracy: 0.7346\n",
      "Epoch 16/50\n",
      "1563/1563 [==============================] - 10s 7ms/step - loss: 0.5592 - accuracy: 0.8085 - val_loss: 0.7969 - val_accuracy: 0.7452\n",
      "Epoch 17/50\n",
      "1563/1563 [==============================] - 10s 7ms/step - loss: 0.5536 - accuracy: 0.8085 - val_loss: 0.8028 - val_accuracy: 0.7461\n",
      "Epoch 18/50\n",
      "1563/1563 [==============================] - 10s 7ms/step - loss: 0.5422 - accuracy: 0.8135 - val_loss: 0.8337 - val_accuracy: 0.7429\n",
      "Epoch 19/50\n",
      "1563/1563 [==============================] - 10s 7ms/step - loss: 0.5295 - accuracy: 0.8175 - val_loss: 0.8049 - val_accuracy: 0.7550\n",
      "Epoch 20/50\n",
      "1563/1563 [==============================] - 10s 7ms/step - loss: 0.5281 - accuracy: 0.8196 - val_loss: 0.8626 - val_accuracy: 0.7281\n",
      "Epoch 21/50\n",
      "1563/1563 [==============================] - 10s 7ms/step - loss: 0.5187 - accuracy: 0.8226 - val_loss: 0.8045 - val_accuracy: 0.7513\n",
      "Epoch 22/50\n",
      "1563/1563 [==============================] - 10s 7ms/step - loss: 0.5162 - accuracy: 0.8225 - val_loss: 0.8495 - val_accuracy: 0.7373\n",
      "Epoch 23/50\n",
      "1563/1563 [==============================] - 10s 7ms/step - loss: 0.5068 - accuracy: 0.8273 - val_loss: 0.8032 - val_accuracy: 0.7504\n",
      "Epoch 24/50\n",
      "1563/1563 [==============================] - 10s 7ms/step - loss: 0.5003 - accuracy: 0.8298 - val_loss: 0.8070 - val_accuracy: 0.7502\n",
      "Epoch 25/50\n",
      "1563/1563 [==============================] - 10s 7ms/step - loss: 0.5059 - accuracy: 0.8284 - val_loss: 0.8406 - val_accuracy: 0.7446\n",
      "Epoch 26/50\n",
      "1563/1563 [==============================] - 11s 7ms/step - loss: 0.4878 - accuracy: 0.8335 - val_loss: 0.8805 - val_accuracy: 0.7454\n",
      "Epoch 27/50\n",
      "1563/1563 [==============================] - 10s 7ms/step - loss: 0.4827 - accuracy: 0.8368 - val_loss: 0.8412 - val_accuracy: 0.7469\n",
      "Epoch 28/50\n",
      "1563/1563 [==============================] - 10s 7ms/step - loss: 0.4836 - accuracy: 0.8368 - val_loss: 0.8460 - val_accuracy: 0.7481\n",
      "Epoch 29/50\n",
      "1563/1563 [==============================] - 10s 7ms/step - loss: 0.4776 - accuracy: 0.8367 - val_loss: 0.8256 - val_accuracy: 0.7476\n",
      "Epoch 30/50\n",
      "1563/1563 [==============================] - 11s 7ms/step - loss: 0.4705 - accuracy: 0.8397 - val_loss: 0.8434 - val_accuracy: 0.7495\n",
      "Epoch 31/50\n",
      "1563/1563 [==============================] - 10s 7ms/step - loss: 0.4726 - accuracy: 0.8399 - val_loss: 0.8721 - val_accuracy: 0.7503\n",
      "Epoch 32/50\n",
      "1563/1563 [==============================] - 10s 7ms/step - loss: 0.4693 - accuracy: 0.8422 - val_loss: 0.8486 - val_accuracy: 0.7499\n",
      "Epoch 33/50\n",
      "1563/1563 [==============================] - 11s 7ms/step - loss: 0.4608 - accuracy: 0.8440 - val_loss: 0.8665 - val_accuracy: 0.7500\n",
      "Epoch 34/50\n",
      "1563/1563 [==============================] - 10s 7ms/step - loss: 0.4621 - accuracy: 0.8442 - val_loss: 0.8110 - val_accuracy: 0.7606\n",
      "Epoch 35/50\n",
      "1563/1563 [==============================] - 10s 7ms/step - loss: 0.4523 - accuracy: 0.8456 - val_loss: 0.8708 - val_accuracy: 0.7595\n",
      "Epoch 36/50\n",
      "1563/1563 [==============================] - 11s 7ms/step - loss: 0.4517 - accuracy: 0.8478 - val_loss: 0.8741 - val_accuracy: 0.7511\n",
      "Epoch 37/50\n",
      "1563/1563 [==============================] - 10s 7ms/step - loss: 0.4572 - accuracy: 0.8455 - val_loss: 0.8881 - val_accuracy: 0.7576\n",
      "Epoch 38/50\n",
      "1563/1563 [==============================] - 11s 7ms/step - loss: 0.4458 - accuracy: 0.8509 - val_loss: 0.9128 - val_accuracy: 0.7504\n",
      "Epoch 39/50\n",
      "1563/1563 [==============================] - 11s 7ms/step - loss: 0.4481 - accuracy: 0.8490 - val_loss: 0.9045 - val_accuracy: 0.7450\n",
      "Epoch 40/50\n",
      "1563/1563 [==============================] - 10s 7ms/step - loss: 0.4396 - accuracy: 0.8539 - val_loss: 0.8961 - val_accuracy: 0.7549\n",
      "Epoch 41/50\n",
      "1563/1563 [==============================] - 11s 7ms/step - loss: 0.4457 - accuracy: 0.8516 - val_loss: 0.9049 - val_accuracy: 0.7471\n",
      "Epoch 42/50\n",
      "1563/1563 [==============================] - 10s 7ms/step - loss: 0.4375 - accuracy: 0.8538 - val_loss: 0.8901 - val_accuracy: 0.7562\n",
      "Epoch 43/50\n",
      "1563/1563 [==============================] - 10s 7ms/step - loss: 0.4378 - accuracy: 0.8559 - val_loss: 0.8683 - val_accuracy: 0.7504\n",
      "Epoch 44/50\n",
      "1563/1563 [==============================] - 11s 7ms/step - loss: 0.4399 - accuracy: 0.8547 - val_loss: 0.8916 - val_accuracy: 0.7463\n",
      "Epoch 45/50\n",
      "1563/1563 [==============================] - 10s 7ms/step - loss: 0.4314 - accuracy: 0.8558 - val_loss: 0.9394 - val_accuracy: 0.7548\n",
      "Epoch 46/50\n",
      "1563/1563 [==============================] - 10s 7ms/step - loss: 0.4320 - accuracy: 0.8560 - val_loss: 0.9267 - val_accuracy: 0.7570\n",
      "Epoch 47/50\n",
      "1563/1563 [==============================] - 11s 7ms/step - loss: 0.4344 - accuracy: 0.8569 - val_loss: 0.9671 - val_accuracy: 0.7490\n",
      "Epoch 48/50\n",
      "1563/1563 [==============================] - 11s 7ms/step - loss: 0.4179 - accuracy: 0.8619 - val_loss: 0.9159 - val_accuracy: 0.7581\n",
      "Epoch 49/50\n",
      "1563/1563 [==============================] - 10s 7ms/step - loss: 0.4276 - accuracy: 0.8602 - val_loss: 0.9338 - val_accuracy: 0.7519\n",
      "Epoch 50/50\n",
      "1563/1563 [==============================] - 10s 7ms/step - loss: 0.4225 - accuracy: 0.8601 - val_loss: 0.9669 - val_accuracy: 0.7525\n"
     ]
    }
   ],
   "source": [
    "history=cnn.fit(X_train_stand, y_train, epochs=50,validation_data=(X_test_stand, y_test))"
   ]
  },
  {
   "cell_type": "code",
   "execution_count": 23,
   "id": "eaf38342",
   "metadata": {},
   "outputs": [
    {
     "name": "stdout",
     "output_type": "stream",
     "text": [
      "Model: \"sequential_2\"\n",
      "_________________________________________________________________\n",
      " Layer (type)                Output Shape              Param #   \n",
      "=================================================================\n",
      " sequential (Sequential)     (None, 28, 28, 3)         0         \n",
      "                                                                 \n",
      " conv2d (Conv2D)             (None, 28, 28, 32)        2432      \n",
      "                                                                 \n",
      " max_pooling2d (MaxPooling2D  (None, 14, 14, 32)       0         \n",
      " )                                                               \n",
      "                                                                 \n",
      " conv2d_1 (Conv2D)           (None, 14, 14, 64)        51264     \n",
      "                                                                 \n",
      " max_pooling2d_1 (MaxPooling  (None, 7, 7, 64)         0         \n",
      " 2D)                                                             \n",
      "                                                                 \n",
      " conv2d_2 (Conv2D)           (None, 7, 7, 64)          102464    \n",
      "                                                                 \n",
      " max_pooling2d_2 (MaxPooling  (None, 4, 4, 64)         0         \n",
      " 2D)                                                             \n",
      "                                                                 \n",
      " flatten (Flatten)           (None, 1024)              0         \n",
      "                                                                 \n",
      " dense (Dense)               (None, 1000)              1025000   \n",
      "                                                                 \n",
      " dense_1 (Dense)             (None, 10)                10010     \n",
      "                                                                 \n",
      "=================================================================\n",
      "Total params: 1,191,170\n",
      "Trainable params: 1,191,170\n",
      "Non-trainable params: 0\n",
      "_________________________________________________________________\n"
     ]
    }
   ],
   "source": [
    "cnn.summary()"
   ]
  },
  {
   "cell_type": "code",
   "execution_count": 7,
   "id": "b6bd9fd1",
   "metadata": {},
   "outputs": [
    {
     "data": {
      "text/plain": [
       "<matplotlib.image.AxesImage at 0x24f80042c10>"
      ]
     },
     "execution_count": 7,
     "metadata": {},
     "output_type": "execute_result"
    },
    {
     "data": {
      "image/png": "[encoded data removed]",
      "text/plain": [
       "<Figure size 432x288 with 1 Axes>"
      ]
     },
     "metadata": {
      "needs_background": "light"
     },
     "output_type": "display_data"
    }
   ],
   "source": [
    "plt.imshow(data_augmentation_train(X_train)[0].numpy().astype(\"uint8\"))#convert to numpy array"
   ]
  },
  {
   "cell_type": "code",
   "execution_count": 25,
   "id": "2a911280",
   "metadata": {},
   "outputs": [
    {
     "data": {
      "text/plain": [
       "<matplotlib.image.AxesImage at 0x1eb7f38bdf0>"
      ]
     },
     "execution_count": 25,
     "metadata": {},
     "output_type": "execute_result"
    },
    {
     "data": {
      "image/png": "[encoded data removed]",
      "text/plain": [
       "<Figure size 432x288 with 1 Axes>"
      ]
     },
     "metadata": {
      "needs_background": "light"
     },
     "output_type": "display_data"
    }
   ],
   "source": [
    "plt.imshow(X_train[0])"
   ]
  },
  {
   "cell_type": "code",
   "execution_count": 26,
   "id": "46d8f4ca",
   "metadata": {},
   "outputs": [
    {
     "name": "stdout",
     "output_type": "stream",
     "text": [
      "313/313 [==============================] - 2s 5ms/step - loss: 0.9669 - accuracy: 0.7525\n"
     ]
    },
    {
     "data": {
      "text/plain": [
       "[0.9669458866119385, 0.7524999976158142]"
      ]
     },
     "execution_count": 26,
     "metadata": {},
     "output_type": "execute_result"
    }
   ],
   "source": [
    "cnn.evaluate(X_test_stand,y_test)"
   ]
  },
  {
   "cell_type": "code",
   "execution_count": 27,
   "id": "fedd54dc",
   "metadata": {},
   "outputs": [],
   "source": [
    "y_pred=cnn.predict(X_test_stand)"
   ]
  },
  {
   "cell_type": "code",
   "execution_count": 28,
   "id": "06668e43",
   "metadata": {},
   "outputs": [
    {
     "name": "stdout",
     "output_type": "stream",
     "text": [
      "class_predict :  [6, 8, 8, 0, 6, 6, 1, 6, 3, 9]\n",
      "class_juste :  [3 8 8 0 6 6 1 6 3 1]\n"
     ]
    }
   ],
   "source": [
    "y_classes=[np.argmax(item) for item in y_pred]\n",
    "print(\"class_predict : \",y_classes[:10])\n",
    "print(\"class_juste : \",y_test[:10])"
   ]
  },
  {
   "cell_type": "code",
   "execution_count": 29,
   "id": "f3fd1eca",
   "metadata": {},
   "outputs": [
    {
     "name": "stdout",
     "output_type": "stream",
     "text": [
      "Classification Report: \n",
      "               precision    recall  f1-score   support\n",
      "\n",
      "           0       0.76      0.79      0.78      1000\n",
      "           1       0.88      0.85      0.86      1000\n",
      "           2       0.68      0.70      0.69      1000\n",
      "           3       0.57      0.50      0.53      1000\n",
      "           4       0.75      0.69      0.71      1000\n",
      "           5       0.63      0.69      0.66      1000\n",
      "           6       0.80      0.82      0.81      1000\n",
      "           7       0.78      0.80      0.79      1000\n",
      "           8       0.85      0.85      0.85      1000\n",
      "           9       0.82      0.84      0.83      1000\n",
      "\n",
      "    accuracy                           0.75     10000\n",
      "   macro avg       0.75      0.75      0.75     10000\n",
      "weighted avg       0.75      0.75      0.75     10000\n",
      "\n"
     ]
    }
   ],
   "source": [
    "print(\"Classification Report: \\n\", classification_report(y_test, y_classes))"
   ]
  },
  {
   "cell_type": "code",
   "execution_count": 30,
   "id": "6d706ee4",
   "metadata": {},
   "outputs": [
    {
     "data": {
      "image/png": "[encoded data removed]",
      "text/plain": [
       "<Figure size 432x288 with 1 Axes>"
      ]
     },
     "metadata": {
      "needs_background": "light"
     },
     "output_type": "display_data"
    }
   ],
   "source": [
    "plt.plot(history.history['accuracy'])\n",
    "plt.plot(history.history['val_accuracy'])\n",
    "plt.title('model accuracy')\n",
    "plt.ylabel('accuracy')\n",
    "plt.xlabel('epoch')\n",
    "plt.legend(['train', 'val'], loc='upper left')\n",
    "plt.show()"
   ]
  },
  {
   "cell_type": "code",
   "execution_count": 31,
   "id": "d7a422e9",
   "metadata": {},
   "outputs": [
    {
     "data": {
      "image/png": "[encoded data removed]",
      "text/plain": [
       "<Figure size 432x288 with 1 Axes>"
      ]
     },
     "metadata": {
      "needs_background": "light"
     },
     "output_type": "display_data"
    }
   ],
   "source": [
    "plt.plot(history.history['loss'])\n",
    "plt.plot(history.history['val_loss'])\n",
    "plt.title('model loss')\n",
    "plt.ylabel('loss')\n",
    "plt.xlabel('epoch')\n",
    "plt.legend(['train', 'val'], loc='upper left')\n",
    "plt.show()"
   ]
  },
  {
   "cell_type": "markdown",
   "id": "b072ed92",
   "metadata": {},
   "source": [
    "# <span style= 'color:black'><h4> 3/ </h4> </span>\n",
    "---"
   ]
  },
  {
   "cell_type": "markdown",
   "id": "cc76b183",
   "metadata": {},
   "source": [
    "->a l epochs 50 ,l accuracy diminue pour validation 0.86 mais augmente pour le test 0.72 de sorte soit proche de celle de validation ,de plus pour le loss les deux courbe de validation et test se commence a s approcher l une de l autre pour etre presque confondue ,loss diminue pour validation 0.9 et pour le train tends vers valeur proche de 0 .on a commencer de eviter le sur -apprentissage"
   ]
  },
  {
   "cell_type": "markdown",
   "id": "467bea99",
   "metadata": {},
   "source": [
    "# <span style= 'color:black'><h4> 4/ </h4> </span>\n",
    "---"
   ]
  },
  {
   "cell_type": "markdown",
   "id": "1402a010",
   "metadata": {},
   "source": [
    "cette approche par symétrie horizontale est utlisable dans le cas de connaisance de classe de l image  il nous aide beaucoup a entrainer notre model en generant d 'autre image de  meme classe pour chaque image de dataset pour detecter notre objet et le bien classifier ,comme notre cas ici les donnees de cifar10,mais dans le cas de reconnaisance de texte ou nombre dans l image ,telque ocr technique ou donnees mnist,ou image des lettres a passer au model pour s entrainer ,cette transformation est n'est pas pratique  ."
   ]
  },
  {
   "cell_type": "markdown",
   "id": "af325153",
   "metadata": {},
   "source": [
    "# <span style= 'color:black'><h4> 5/ </h4> </span>\n",
    "---"
   ]
  },
  {
   "cell_type": "markdown",
   "id": "98525f83",
   "metadata": {},
   "source": [
    "le limite de ce type de data augmentation est dans l extraction des donnes de l'image et la reconnaisance de texte ou nombre de l image ,ce technique n est pas faisable"
   ]
  },
  {
   "cell_type": "markdown",
   "id": "77ebb195",
   "metadata": {},
   "source": [
    "# <span style= 'color:black'><h4> 6/ </h4> </span>\n",
    "---"
   ]
  },
  {
   "cell_type": "markdown",
   "id": "a84fb378",
   "metadata": {},
   "source": [
    "-Rotation ( range 0-360 degrees)"
   ]
  },
  {
   "cell_type": "markdown",
   "id": "068eccb2",
   "metadata": {},
   "source": [
    "-Shear range (image is shifted along x-axis or y-axis)(translation)"
   ]
  },
  {
   "cell_type": "markdown",
   "id": "63691b06",
   "metadata": {},
   "source": [
    "-flipping (true or false for horizontal flip and vertical flip )(utliser horizontal)"
   ]
  },
  {
   "cell_type": "markdown",
   "id": "28e8c324",
   "metadata": {},
   "source": [
    "-Brightness or Contrast range ( image is made lighter or darker)"
   ]
  },
  {
   "cell_type": "markdown",
   "id": "ad8b5b2f",
   "metadata": {},
   "source": [
    "-Cropping ( resize the image )(utlisee deja)"
   ]
  },
  {
   "cell_type": "markdown",
   "id": "0f95b97c",
   "metadata": {},
   "source": [
    "-Scale ( image is scaled outward or inward )"
   ]
  },
  {
   "cell_type": "markdown",
   "id": "1818293d",
   "metadata": {},
   "source": [
    "-Saturation ( depth or intensity of the image)"
   ]
  },
  {
   "cell_type": "markdown",
   "id": "b2fe9497",
   "metadata": {},
   "source": [
    "-zoom the image "
   ]
  },
  {
   "cell_type": "code",
   "execution_count": 19,
   "id": "17432b75",
   "metadata": {},
   "outputs": [],
   "source": [
    "data_augmentation=keras.Sequential([\n",
    "    layers.experimental.preprocessing.RandomZoom(0.2),\n",
    "\n",
    "    layers.experimental.preprocessing.RandomContrast(0.2),\n",
    "    layers.experimental.preprocessing.RandomRotation(0.3)\n",
    "   \n",
    "   \n",
    "])"
   ]
  },
  {
   "cell_type": "code",
   "execution_count": 32,
   "id": "7f0ce3c8",
   "metadata": {},
   "outputs": [
    {
     "data": {
      "text/plain": [
       "<matplotlib.image.AxesImage at 0x1985ec66bb0>"
      ]
     },
     "execution_count": 32,
     "metadata": {},
     "output_type": "execute_result"
    },
    {
     "data": {
      "image/png": "[encoded data removed]",
      "text/plain": [
       "<Figure size 432x288 with 1 Axes>"
      ]
     },
     "metadata": {
      "needs_background": "light"
     },
     "output_type": "display_data"
    }
   ],
   "source": [
    "plt.imshow(data_augmentation(X_train)[0].numpy().astype(\"uint8\"))#convert to numpy array"
   ]
  },
  {
   "cell_type": "code",
   "execution_count": 33,
   "id": "f93fba0b",
   "metadata": {},
   "outputs": [
    {
     "data": {
      "text/plain": [
       "<matplotlib.image.AxesImage at 0x1985ec4a6a0>"
      ]
     },
     "execution_count": 33,
     "metadata": {},
     "output_type": "execute_result"
    },
    {
     "data": {
      "image/png": "[encoded data removed]",
      "text/plain": [
       "<Figure size 432x288 with 1 Axes>"
      ]
     },
     "metadata": {
      "needs_background": "light"
     },
     "output_type": "display_data"
    }
   ],
   "source": [
    "plt.imshow(X_train[0])"
   ]
  },
  {
   "cell_type": "code",
   "execution_count": 20,
   "id": "5ff0a054",
   "metadata": {},
   "outputs": [],
   "source": [
    "cnn = models.Sequential([\n",
    "    data_augmentation,\n",
    "  \n",
    "    layers.Conv2D(filters=32, kernel_size=(5,5), strides=1,activation='relu',padding='same', input_shape=(32, 32, 3)),\n",
    "    layers.MaxPooling2D((2, 2),strides=2),\n",
    "    \n",
    "    layers.Conv2D(filters=64, kernel_size=(5, 5),strides=1, activation='relu',padding='same'),\n",
    "    layers.MaxPooling2D((2, 2),strides=2),\n",
    "    \n",
    "    layers.Conv2D(filters=64, kernel_size=(5, 5), strides=1,activation='relu',padding='same'),\n",
    "    layers.MaxPooling2D((2, 2),strides=2,padding='same'),\n",
    "    \n",
    "    layers.Flatten(),\n",
    "    layers.Dense(1000, activation='relu'),\n",
    "    layers.Dense(10, activation='softmax')\n",
    "])"
   ]
  },
  {
   "cell_type": "code",
   "execution_count": 21,
   "id": "14c7200b",
   "metadata": {},
   "outputs": [],
   "source": [
    "cnn.compile(optimizer='adam',\n",
    "              loss='sparse_categorical_crossentropy',\n",
    "              metrics=['accuracy'])"
   ]
  },
  {
   "cell_type": "code",
   "execution_count": 22,
   "id": "055f7312",
   "metadata": {},
   "outputs": [
    {
     "name": "stdout",
     "output_type": "stream",
     "text": [
      "Epoch 1/50\n",
      "1563/1563 [==============================] - 19s 8ms/step - loss: 1.7619 - accuracy: 0.3629 - val_loss: 1.7227 - val_accuracy: 0.3758\n",
      "Epoch 2/50\n",
      "1563/1563 [==============================] - 12s 8ms/step - loss: 1.5492 - accuracy: 0.4438 - val_loss: 1.6252 - val_accuracy: 0.4158\n",
      "Epoch 3/50\n",
      "1563/1563 [==============================] - 12s 8ms/step - loss: 1.4391 - accuracy: 0.4841 - val_loss: 1.5585 - val_accuracy: 0.4493\n",
      "Epoch 4/50\n",
      "1563/1563 [==============================] - 12s 8ms/step - loss: 1.3829 - accuracy: 0.5063 - val_loss: 1.4574 - val_accuracy: 0.4810\n",
      "Epoch 5/50\n",
      "1563/1563 [==============================] - 12s 8ms/step - loss: 1.3363 - accuracy: 0.5255 - val_loss: 1.5006 - val_accuracy: 0.4807\n",
      "Epoch 6/50\n",
      "1563/1563 [==============================] - 12s 8ms/step - loss: 1.2922 - accuracy: 0.5422 - val_loss: 1.3818 - val_accuracy: 0.5120\n",
      "Epoch 7/50\n",
      "1563/1563 [==============================] - 12s 8ms/step - loss: 1.2647 - accuracy: 0.5492 - val_loss: 1.4815 - val_accuracy: 0.4847\n",
      "Epoch 8/50\n",
      "1563/1563 [==============================] - 12s 8ms/step - loss: 1.2400 - accuracy: 0.5601 - val_loss: 1.5272 - val_accuracy: 0.4914\n",
      "Epoch 9/50\n",
      "1563/1563 [==============================] - 12s 8ms/step - loss: 1.2189 - accuracy: 0.5699 - val_loss: 1.4586 - val_accuracy: 0.4998\n",
      "Epoch 10/50\n",
      "1563/1563 [==============================] - 12s 8ms/step - loss: 1.2030 - accuracy: 0.5770 - val_loss: 1.4507 - val_accuracy: 0.4984\n",
      "Epoch 11/50\n",
      "1563/1563 [==============================] - 12s 8ms/step - loss: 1.1866 - accuracy: 0.5800 - val_loss: 1.4433 - val_accuracy: 0.5152\n",
      "Epoch 12/50\n",
      "1563/1563 [==============================] - 12s 8ms/step - loss: 1.1678 - accuracy: 0.5913 - val_loss: 1.3959 - val_accuracy: 0.5305\n",
      "Epoch 13/50\n",
      "1563/1563 [==============================] - 12s 8ms/step - loss: 1.1612 - accuracy: 0.5908 - val_loss: 1.5128 - val_accuracy: 0.5025\n",
      "Epoch 14/50\n",
      "1563/1563 [==============================] - 12s 8ms/step - loss: 1.1533 - accuracy: 0.5972 - val_loss: 1.4124 - val_accuracy: 0.5152\n",
      "Epoch 15/50\n",
      "1563/1563 [==============================] - 12s 8ms/step - loss: 1.1333 - accuracy: 0.6001 - val_loss: 1.4056 - val_accuracy: 0.5230\n",
      "Epoch 16/50\n",
      "1563/1563 [==============================] - 13s 8ms/step - loss: 1.1226 - accuracy: 0.6042 - val_loss: 1.4720 - val_accuracy: 0.5102\n",
      "Epoch 17/50\n",
      "1563/1563 [==============================] - 13s 8ms/step - loss: 1.1190 - accuracy: 0.6073 - val_loss: 1.3532 - val_accuracy: 0.5396\n",
      "Epoch 18/50\n",
      "1563/1563 [==============================] - 12s 8ms/step - loss: 1.1041 - accuracy: 0.6161 - val_loss: 1.3802 - val_accuracy: 0.5422\n",
      "Epoch 19/50\n",
      "1563/1563 [==============================] - 12s 8ms/step - loss: 1.1014 - accuracy: 0.6153 - val_loss: 1.3864 - val_accuracy: 0.5383\n",
      "Epoch 20/50\n",
      "1563/1563 [==============================] - 13s 8ms/step - loss: 1.0947 - accuracy: 0.6172 - val_loss: 1.4046 - val_accuracy: 0.5344\n",
      "Epoch 21/50\n",
      "1563/1563 [==============================] - 12s 8ms/step - loss: 1.0869 - accuracy: 0.6211 - val_loss: 1.3164 - val_accuracy: 0.5559\n",
      "Epoch 22/50\n",
      "1563/1563 [==============================] - 12s 8ms/step - loss: 1.0799 - accuracy: 0.6207 - val_loss: 1.3765 - val_accuracy: 0.5502\n",
      "Epoch 23/50\n",
      "1563/1563 [==============================] - 12s 8ms/step - loss: 1.0786 - accuracy: 0.6230 - val_loss: 1.4261 - val_accuracy: 0.5312\n",
      "Epoch 24/50\n",
      "1563/1563 [==============================] - 12s 8ms/step - loss: 1.0645 - accuracy: 0.6249 - val_loss: 1.4212 - val_accuracy: 0.5333\n",
      "Epoch 25/50\n",
      "1563/1563 [==============================] - 12s 8ms/step - loss: 1.0586 - accuracy: 0.6300 - val_loss: 1.3931 - val_accuracy: 0.5503\n",
      "Epoch 26/50\n",
      "1563/1563 [==============================] - 12s 8ms/step - loss: 1.0549 - accuracy: 0.6298 - val_loss: 1.3771 - val_accuracy: 0.5595\n",
      "Epoch 27/50\n",
      "1563/1563 [==============================] - 12s 8ms/step - loss: 1.0602 - accuracy: 0.6316 - val_loss: 1.3619 - val_accuracy: 0.5502\n",
      "Epoch 28/50\n",
      "1563/1563 [==============================] - 12s 8ms/step - loss: 1.0488 - accuracy: 0.6354 - val_loss: 1.3560 - val_accuracy: 0.5586\n",
      "Epoch 29/50\n",
      "1563/1563 [==============================] - 12s 8ms/step - loss: 1.0444 - accuracy: 0.6385 - val_loss: 1.3750 - val_accuracy: 0.5486\n",
      "Epoch 30/50\n",
      "1563/1563 [==============================] - 13s 8ms/step - loss: 1.0411 - accuracy: 0.6400 - val_loss: 1.4638 - val_accuracy: 0.5325\n",
      "Epoch 31/50\n",
      "1563/1563 [==============================] - 13s 8ms/step - loss: 1.0295 - accuracy: 0.6426 - val_loss: 1.4123 - val_accuracy: 0.5508\n",
      "Epoch 32/50\n",
      "1563/1563 [==============================] - 12s 8ms/step - loss: 1.0340 - accuracy: 0.6411 - val_loss: 1.3284 - val_accuracy: 0.5634\n",
      "Epoch 33/50\n",
      "1563/1563 [==============================] - 12s 8ms/step - loss: 1.0275 - accuracy: 0.6423 - val_loss: 1.3590 - val_accuracy: 0.5587\n",
      "Epoch 34/50\n",
      "1563/1563 [==============================] - 12s 8ms/step - loss: 1.0296 - accuracy: 0.6415 - val_loss: 1.4273 - val_accuracy: 0.5326\n",
      "Epoch 35/50\n",
      "1563/1563 [==============================] - 13s 8ms/step - loss: 1.0264 - accuracy: 0.6456 - val_loss: 1.3818 - val_accuracy: 0.5586\n",
      "Epoch 36/50\n",
      "1563/1563 [==============================] - 13s 8ms/step - loss: 1.0240 - accuracy: 0.6432 - val_loss: 1.3391 - val_accuracy: 0.5529\n",
      "Epoch 37/50\n",
      "1563/1563 [==============================] - 13s 8ms/step - loss: 1.0254 - accuracy: 0.6442 - val_loss: 1.3210 - val_accuracy: 0.5652\n",
      "Epoch 38/50\n",
      "1563/1563 [==============================] - 12s 8ms/step - loss: 1.0150 - accuracy: 0.6472 - val_loss: 1.4216 - val_accuracy: 0.5586\n",
      "Epoch 39/50\n",
      "1563/1563 [==============================] - 12s 8ms/step - loss: 1.0119 - accuracy: 0.6497 - val_loss: 1.4299 - val_accuracy: 0.5526\n",
      "Epoch 40/50\n",
      "1563/1563 [==============================] - 13s 8ms/step - loss: 1.0109 - accuracy: 0.6497 - val_loss: 1.4441 - val_accuracy: 0.5500\n",
      "Epoch 41/50\n",
      "1563/1563 [==============================] - 13s 8ms/step - loss: 1.0039 - accuracy: 0.6534 - val_loss: 1.3099 - val_accuracy: 0.5836\n",
      "Epoch 42/50\n",
      "1563/1563 [==============================] - 12s 8ms/step - loss: 1.0057 - accuracy: 0.6518 - val_loss: 1.3242 - val_accuracy: 0.5728\n",
      "Epoch 43/50\n",
      "1563/1563 [==============================] - 12s 8ms/step - loss: 1.0020 - accuracy: 0.6524 - val_loss: 1.4342 - val_accuracy: 0.5674\n",
      "Epoch 44/50\n",
      "1563/1563 [==============================] - 12s 8ms/step - loss: 0.9994 - accuracy: 0.6537 - val_loss: 1.3240 - val_accuracy: 0.5639\n",
      "Epoch 45/50\n",
      "1563/1563 [==============================] - 12s 8ms/step - loss: 1.0065 - accuracy: 0.6528 - val_loss: 1.4849 - val_accuracy: 0.5494\n",
      "Epoch 46/50\n",
      "1563/1563 [==============================] - 12s 8ms/step - loss: 0.9938 - accuracy: 0.6587 - val_loss: 1.4421 - val_accuracy: 0.5502\n",
      "Epoch 47/50\n",
      "1563/1563 [==============================] - 12s 8ms/step - loss: 0.9975 - accuracy: 0.6573 - val_loss: 1.3676 - val_accuracy: 0.5626\n",
      "Epoch 48/50\n",
      "1563/1563 [==============================] - 12s 8ms/step - loss: 0.9839 - accuracy: 0.6602 - val_loss: 1.4265 - val_accuracy: 0.5541\n",
      "Epoch 49/50\n",
      "1563/1563 [==============================] - 12s 8ms/step - loss: 0.9950 - accuracy: 0.6553 - val_loss: 1.4006 - val_accuracy: 0.5532\n",
      "Epoch 50/50\n",
      "1563/1563 [==============================] - 12s 8ms/step - loss: 0.9887 - accuracy: 0.6587 - val_loss: 1.4083 - val_accuracy: 0.5712\n"
     ]
    }
   ],
   "source": [
    "history=cnn.fit(X_train_stand, y_train, epochs=50,validation_data=(X_test_stand, y_test))"
   ]
  },
  {
   "cell_type": "code",
   "execution_count": 23,
   "id": "9ddbbbd2",
   "metadata": {},
   "outputs": [
    {
     "name": "stdout",
     "output_type": "stream",
     "text": [
      "313/313 [==============================] - 1s 3ms/step - loss: 1.4083 - accuracy: 0.5712\n"
     ]
    },
    {
     "data": {
      "text/plain": [
       "[1.4083081483840942, 0.5712000131607056]"
      ]
     },
     "execution_count": 23,
     "metadata": {},
     "output_type": "execute_result"
    }
   ],
   "source": [
    "cnn.evaluate(X_test_stand,y_test)"
   ]
  },
  {
   "cell_type": "code",
   "execution_count": 24,
   "id": "eea65133",
   "metadata": {},
   "outputs": [],
   "source": [
    "y_pred=cnn.predict(X_test_stand)"
   ]
  },
  {
   "cell_type": "code",
   "execution_count": 25,
   "id": "300101a3",
   "metadata": {},
   "outputs": [
    {
     "name": "stdout",
     "output_type": "stream",
     "text": [
      "class_predict :  [3, 8, 0, 0, 6, 6, 1, 6, 6, 1]\n",
      "class_juste :  [3 8 8 0 6 6 1 6 3 1]\n"
     ]
    }
   ],
   "source": [
    "y_classes=[np.argmax(item) for item in y_pred]\n",
    "print(\"class_predict : \",y_classes[:10])\n",
    "print(\"class_juste : \",y_test[:10])"
   ]
  },
  {
   "cell_type": "code",
   "execution_count": 26,
   "id": "b76ae4e8",
   "metadata": {},
   "outputs": [
    {
     "name": "stdout",
     "output_type": "stream",
     "text": [
      "Classification Report: \n",
      "               precision    recall  f1-score   support\n",
      "\n",
      "           0       0.64      0.66      0.65      1000\n",
      "           1       0.69      0.65      0.67      1000\n",
      "           2       0.60      0.31      0.41      1000\n",
      "           3       0.46      0.30      0.36      1000\n",
      "           4       0.56      0.43      0.48      1000\n",
      "           5       0.54      0.45      0.49      1000\n",
      "           6       0.53      0.78      0.63      1000\n",
      "           7       0.59      0.66      0.62      1000\n",
      "           8       0.71      0.67      0.69      1000\n",
      "           9       0.47      0.80      0.59      1000\n",
      "\n",
      "    accuracy                           0.57     10000\n",
      "   macro avg       0.58      0.57      0.56     10000\n",
      "weighted avg       0.58      0.57      0.56     10000\n",
      "\n"
     ]
    }
   ],
   "source": [
    "print(\"Classification Report: \\n\", classification_report(y_test, y_classes))"
   ]
  },
  {
   "cell_type": "code",
   "execution_count": 27,
   "id": "800ba5f4",
   "metadata": {},
   "outputs": [
    {
     "data": {
      "image/png": "[encoded data removed]",
      "text/plain": [
       "<Figure size 432x288 with 1 Axes>"
      ]
     },
     "metadata": {
      "needs_background": "light"
     },
     "output_type": "display_data"
    }
   ],
   "source": [
    "plt.plot(history.history['accuracy'])\n",
    "plt.plot(history.history['val_accuracy'])\n",
    "plt.title('model accuracy')\n",
    "plt.ylabel('accuracy')\n",
    "plt.xlabel('epoch')\n",
    "plt.legend(['train', 'val'], loc='upper left')\n",
    "plt.show()"
   ]
  },
  {
   "cell_type": "code",
   "execution_count": 28,
   "id": "b1f43846",
   "metadata": {},
   "outputs": [
    {
     "data": {
      "image/png": "[encoded data removed]",
      "text/plain": [
       "<Figure size 432x288 with 1 Axes>"
      ]
     },
     "metadata": {
      "needs_background": "light"
     },
     "output_type": "display_data"
    }
   ],
   "source": [
    "plt.plot(history.history['loss'])\n",
    "plt.plot(history.history['val_loss'])\n",
    "plt.title('model loss')\n",
    "plt.ylabel('loss')\n",
    "plt.xlabel('epoch')\n",
    "plt.legend(['train', 'val'], loc='upper left')\n",
    "plt.show()"
   ]
  },
  {
   "cell_type": "markdown",
   "id": "decbd2b6",
   "metadata": {},
   "source": [
    "# <span style= 'color:blue'><h1> Partie 5: Régularisation du réseau par dropout:</h1> </span>\n",
    "---"
   ]
  },
  {
   "cell_type": "markdown",
   "id": "6842740b",
   "metadata": {},
   "source": [
    "# <span style= 'color:black'><h4> 1/ </h4> </span>\n",
    "---"
   ]
  },
  {
   "cell_type": "code",
   "execution_count": 19,
   "id": "7d5e830b",
   "metadata": {},
   "outputs": [],
   "source": [
    "cnn = models.Sequential([\n",
    "    data_augmentation_train,\n",
    "  \n",
    "    layers.Conv2D(filters=32, kernel_size=(5,5), strides=1,activation='relu',padding='same', input_shape=(32, 32, 3)),\n",
    "    layers.MaxPooling2D((2, 2),strides=2),\n",
    "    \n",
    "    layers.Conv2D(filters=64, kernel_size=(5, 5),strides=1, activation='relu',padding='same'),\n",
    "    layers.MaxPooling2D((2, 2),strides=2),\n",
    "    \n",
    "    layers.Conv2D(filters=64, kernel_size=(5, 5), strides=1,activation='relu',padding='same'),\n",
    "    layers.MaxPooling2D((2, 2),strides=2,padding='same'),\n",
    "    \n",
    "    layers.Flatten(),\n",
    "    layers.Dense(1000, activation='relu'),\n",
    "    layers.Dropout(0.2),#best 0.2 generalization\n",
    "    layers.Dense(10, activation='softmax')\n",
    "])"
   ]
  },
  {
   "cell_type": "code",
   "execution_count": 20,
   "id": "169b7b28",
   "metadata": {},
   "outputs": [],
   "source": [
    "cnn.compile(optimizer='adam',\n",
    "              loss='sparse_categorical_crossentropy',\n",
    "              metrics=['accuracy'])"
   ]
  },
  {
   "cell_type": "code",
   "execution_count": 21,
   "id": "5b6e0544",
   "metadata": {},
   "outputs": [
    {
     "name": "stdout",
     "output_type": "stream",
     "text": [
      "Epoch 1/50\n",
      "1563/1563 [==============================] - 17s 8ms/step - loss: 1.4125 - accuracy: 0.4885 - val_loss: 1.2026 - val_accuracy: 0.5761\n",
      "Epoch 2/50\n",
      "1563/1563 [==============================] - 11s 7ms/step - loss: 1.0545 - accuracy: 0.6322 - val_loss: 0.9723 - val_accuracy: 0.6695\n",
      "Epoch 3/50\n",
      "1563/1563 [==============================] - 11s 7ms/step - loss: 0.9202 - accuracy: 0.6788 - val_loss: 0.9555 - val_accuracy: 0.6702\n",
      "Epoch 4/50\n",
      "1563/1563 [==============================] - 11s 7ms/step - loss: 0.8488 - accuracy: 0.7058 - val_loss: 0.8558 - val_accuracy: 0.7106\n",
      "Epoch 5/50\n",
      "1563/1563 [==============================] - 11s 7ms/step - loss: 0.7986 - accuracy: 0.7241 - val_loss: 0.8268 - val_accuracy: 0.7210\n",
      "Epoch 6/50\n",
      "1563/1563 [==============================] - 11s 7ms/step - loss: 0.7642 - accuracy: 0.7357 - val_loss: 0.8269 - val_accuracy: 0.7245\n",
      "Epoch 7/50\n",
      "1563/1563 [==============================] - 11s 7ms/step - loss: 0.7266 - accuracy: 0.7484 - val_loss: 0.8198 - val_accuracy: 0.7326\n",
      "Epoch 8/50\n",
      "1563/1563 [==============================] - 11s 7ms/step - loss: 0.7127 - accuracy: 0.7546 - val_loss: 0.7745 - val_accuracy: 0.7430\n",
      "Epoch 9/50\n",
      "1563/1563 [==============================] - 11s 7ms/step - loss: 0.6911 - accuracy: 0.7615 - val_loss: 0.8276 - val_accuracy: 0.7310\n",
      "Epoch 10/50\n",
      "1563/1563 [==============================] - 11s 7ms/step - loss: 0.6766 - accuracy: 0.7642 - val_loss: 0.7908 - val_accuracy: 0.7379\n",
      "Epoch 11/50\n",
      "1563/1563 [==============================] - 11s 7ms/step - loss: 0.6590 - accuracy: 0.7712 - val_loss: 0.7764 - val_accuracy: 0.7420\n",
      "Epoch 12/50\n",
      "1563/1563 [==============================] - 11s 7ms/step - loss: 0.6618 - accuracy: 0.7727 - val_loss: 0.7855 - val_accuracy: 0.7461\n",
      "Epoch 13/50\n",
      "1563/1563 [==============================] - 11s 7ms/step - loss: 0.6469 - accuracy: 0.7793 - val_loss: 0.8349 - val_accuracy: 0.7343\n",
      "Epoch 14/50\n",
      "1563/1563 [==============================] - 11s 7ms/step - loss: 0.6364 - accuracy: 0.7824 - val_loss: 0.7929 - val_accuracy: 0.7533\n",
      "Epoch 15/50\n",
      "1563/1563 [==============================] - 11s 7ms/step - loss: 0.6216 - accuracy: 0.7859 - val_loss: 0.7865 - val_accuracy: 0.7469\n",
      "Epoch 16/50\n",
      "1563/1563 [==============================] - 11s 7ms/step - loss: 0.6224 - accuracy: 0.7861 - val_loss: 0.7516 - val_accuracy: 0.7624\n",
      "Epoch 17/50\n",
      "1563/1563 [==============================] - 11s 7ms/step - loss: 0.6061 - accuracy: 0.7936 - val_loss: 0.7767 - val_accuracy: 0.7552\n",
      "Epoch 18/50\n",
      "1563/1563 [==============================] - 11s 7ms/step - loss: 0.6050 - accuracy: 0.7943 - val_loss: 0.7766 - val_accuracy: 0.7546\n",
      "Epoch 19/50\n",
      "1563/1563 [==============================] - 11s 7ms/step - loss: 0.6007 - accuracy: 0.7945 - val_loss: 0.7818 - val_accuracy: 0.7583\n",
      "Epoch 20/50\n",
      "1563/1563 [==============================] - 11s 7ms/step - loss: 0.5938 - accuracy: 0.7986 - val_loss: 0.8003 - val_accuracy: 0.7484\n",
      "Epoch 21/50\n",
      "1563/1563 [==============================] - 11s 7ms/step - loss: 0.5924 - accuracy: 0.7987 - val_loss: 0.7672 - val_accuracy: 0.7554\n",
      "Epoch 22/50\n",
      "1563/1563 [==============================] - 11s 7ms/step - loss: 0.5884 - accuracy: 0.7998 - val_loss: 0.8262 - val_accuracy: 0.7515\n",
      "Epoch 23/50\n",
      "1563/1563 [==============================] - 11s 7ms/step - loss: 0.5754 - accuracy: 0.8024 - val_loss: 0.7927 - val_accuracy: 0.7577\n",
      "Epoch 24/50\n",
      "1563/1563 [==============================] - 11s 7ms/step - loss: 0.5751 - accuracy: 0.8046 - val_loss: 0.7797 - val_accuracy: 0.7580\n",
      "Epoch 25/50\n",
      "1563/1563 [==============================] - 11s 7ms/step - loss: 0.5723 - accuracy: 0.8064 - val_loss: 0.7658 - val_accuracy: 0.7672\n",
      "Epoch 26/50\n",
      "1563/1563 [==============================] - 11s 7ms/step - loss: 0.5729 - accuracy: 0.8048 - val_loss: 0.8415 - val_accuracy: 0.7482\n",
      "Epoch 27/50\n",
      "1563/1563 [==============================] - 11s 7ms/step - loss: 0.5651 - accuracy: 0.8079 - val_loss: 0.8204 - val_accuracy: 0.7482\n",
      "Epoch 28/50\n",
      "1563/1563 [==============================] - 11s 7ms/step - loss: 0.5696 - accuracy: 0.8078 - val_loss: 0.7936 - val_accuracy: 0.7508\n",
      "Epoch 29/50\n",
      "1563/1563 [==============================] - 11s 7ms/step - loss: 0.5625 - accuracy: 0.8104 - val_loss: 0.7638 - val_accuracy: 0.7652\n",
      "Epoch 30/50\n",
      "1563/1563 [==============================] - 11s 7ms/step - loss: 0.5556 - accuracy: 0.8119 - val_loss: 0.7917 - val_accuracy: 0.7594\n",
      "Epoch 31/50\n",
      "1563/1563 [==============================] - 11s 7ms/step - loss: 0.5565 - accuracy: 0.8133 - val_loss: 0.8182 - val_accuracy: 0.7552\n",
      "Epoch 32/50\n",
      "1563/1563 [==============================] - 11s 7ms/step - loss: 0.5521 - accuracy: 0.8123 - val_loss: 0.7938 - val_accuracy: 0.7541\n",
      "Epoch 33/50\n",
      "1563/1563 [==============================] - 11s 7ms/step - loss: 0.5581 - accuracy: 0.8127 - val_loss: 0.7623 - val_accuracy: 0.7584\n",
      "Epoch 34/50\n",
      "1563/1563 [==============================] - 11s 7ms/step - loss: 0.5493 - accuracy: 0.8145 - val_loss: 0.8071 - val_accuracy: 0.7652\n",
      "Epoch 35/50\n",
      "1563/1563 [==============================] - 11s 7ms/step - loss: 0.5424 - accuracy: 0.8178 - val_loss: 0.8055 - val_accuracy: 0.7709\n",
      "Epoch 36/50\n",
      "1563/1563 [==============================] - 11s 7ms/step - loss: 0.5376 - accuracy: 0.8196 - val_loss: 0.7866 - val_accuracy: 0.7677\n",
      "Epoch 37/50\n",
      "1563/1563 [==============================] - 11s 7ms/step - loss: 0.5531 - accuracy: 0.8153 - val_loss: 0.7893 - val_accuracy: 0.7550\n",
      "Epoch 38/50\n",
      "1563/1563 [==============================] - 11s 7ms/step - loss: 0.5464 - accuracy: 0.8158 - val_loss: 0.7944 - val_accuracy: 0.7649\n",
      "Epoch 39/50\n",
      "1563/1563 [==============================] - 11s 7ms/step - loss: 0.5419 - accuracy: 0.8189 - val_loss: 0.8448 - val_accuracy: 0.7614\n",
      "Epoch 40/50\n",
      "1563/1563 [==============================] - 11s 7ms/step - loss: 0.5437 - accuracy: 0.8193 - val_loss: 0.7964 - val_accuracy: 0.7696\n",
      "Epoch 41/50\n",
      "1563/1563 [==============================] - 11s 7ms/step - loss: 0.5314 - accuracy: 0.8213 - val_loss: 0.8162 - val_accuracy: 0.7606\n",
      "Epoch 42/50\n",
      "1563/1563 [==============================] - 11s 7ms/step - loss: 0.5363 - accuracy: 0.8203 - val_loss: 0.8076 - val_accuracy: 0.7652\n",
      "Epoch 43/50\n",
      "1563/1563 [==============================] - 11s 7ms/step - loss: 0.5389 - accuracy: 0.8179 - val_loss: 0.8189 - val_accuracy: 0.7577\n",
      "Epoch 44/50\n",
      "1563/1563 [==============================] - 11s 7ms/step - loss: 0.5355 - accuracy: 0.8210 - val_loss: 0.7843 - val_accuracy: 0.7665\n",
      "Epoch 45/50\n",
      "1563/1563 [==============================] - 11s 7ms/step - loss: 0.5368 - accuracy: 0.8213 - val_loss: 0.8024 - val_accuracy: 0.7656\n",
      "Epoch 46/50\n",
      "1563/1563 [==============================] - 11s 7ms/step - loss: 0.5340 - accuracy: 0.8219 - val_loss: 0.8330 - val_accuracy: 0.7516\n",
      "Epoch 47/50\n",
      "1563/1563 [==============================] - 11s 7ms/step - loss: 0.5292 - accuracy: 0.8237 - val_loss: 0.8136 - val_accuracy: 0.7619\n",
      "Epoch 48/50\n",
      "1563/1563 [==============================] - 11s 7ms/step - loss: 0.5272 - accuracy: 0.8241 - val_loss: 0.8269 - val_accuracy: 0.7613\n",
      "Epoch 49/50\n",
      "1563/1563 [==============================] - 11s 7ms/step - loss: 0.5336 - accuracy: 0.8237 - val_loss: 0.8301 - val_accuracy: 0.7563\n",
      "Epoch 50/50\n",
      "1563/1563 [==============================] - 11s 7ms/step - loss: 0.5380 - accuracy: 0.8232 - val_loss: 0.8236 - val_accuracy: 0.7566\n"
     ]
    }
   ],
   "source": [
    "history=cnn.fit(X_train_stand, y_train, epochs=50,validation_data=(X_test_stand, y_test))"
   ]
  },
  {
   "cell_type": "code",
   "execution_count": 22,
   "id": "555f09b7",
   "metadata": {},
   "outputs": [
    {
     "name": "stdout",
     "output_type": "stream",
     "text": [
      "Model: \"sequential_2\"\n",
      "_________________________________________________________________\n",
      " Layer (type)                Output Shape              Param #   \n",
      "=================================================================\n",
      " sequential (Sequential)     (None, 28, 28, 3)         0         \n",
      "                                                                 \n",
      " conv2d (Conv2D)             (None, 28, 28, 32)        2432      \n",
      "                                                                 \n",
      " max_pooling2d (MaxPooling2D  (None, 14, 14, 32)       0         \n",
      " )                                                               \n",
      "                                                                 \n",
      " conv2d_1 (Conv2D)           (None, 14, 14, 64)        51264     \n",
      "                                                                 \n",
      " max_pooling2d_1 (MaxPooling  (None, 7, 7, 64)         0         \n",
      " 2D)                                                             \n",
      "                                                                 \n",
      " conv2d_2 (Conv2D)           (None, 7, 7, 64)          102464    \n",
      "                                                                 \n",
      " max_pooling2d_2 (MaxPooling  (None, 4, 4, 64)         0         \n",
      " 2D)                                                             \n",
      "                                                                 \n",
      " flatten (Flatten)           (None, 1024)              0         \n",
      "                                                                 \n",
      " dense (Dense)               (None, 1000)              1025000   \n",
      "                                                                 \n",
      " dropout (Dropout)           (None, 1000)              0         \n",
      "                                                                 \n",
      " dense_1 (Dense)             (None, 10)                10010     \n",
      "                                                                 \n",
      "=================================================================\n",
      "Total params: 1,191,170\n",
      "Trainable params: 1,191,170\n",
      "Non-trainable params: 0\n",
      "_________________________________________________________________\n"
     ]
    }
   ],
   "source": [
    "cnn.summary()"
   ]
  },
  {
   "cell_type": "code",
   "execution_count": 23,
   "id": "43c0f2b6",
   "metadata": {},
   "outputs": [
    {
     "name": "stdout",
     "output_type": "stream",
     "text": [
      "313/313 [==============================] - 1s 4ms/step - loss: 0.8236 - accuracy: 0.7566\n"
     ]
    },
    {
     "data": {
      "text/plain": [
       "[0.8235969543457031, 0.756600022315979]"
      ]
     },
     "execution_count": 23,
     "metadata": {},
     "output_type": "execute_result"
    }
   ],
   "source": [
    "cnn.evaluate(X_test_stand,y_test)"
   ]
  },
  {
   "cell_type": "code",
   "execution_count": 24,
   "id": "c62559ba",
   "metadata": {},
   "outputs": [],
   "source": [
    "y_pred=cnn.predict(X_test_stand)"
   ]
  },
  {
   "cell_type": "code",
   "execution_count": 25,
   "id": "66105e2c",
   "metadata": {},
   "outputs": [
    {
     "name": "stdout",
     "output_type": "stream",
     "text": [
      "class_predict :  [3, 8, 8, 8, 6, 6, 1, 6, 3, 1]\n",
      "class_juste :  [3 8 8 0 6 6 1 6 3 1]\n"
     ]
    }
   ],
   "source": [
    "y_classes=[np.argmax(item) for item in y_pred]\n",
    "print(\"class_predict : \",y_classes[:10])\n",
    "print(\"class_juste : \",y_test[:10])"
   ]
  },
  {
   "cell_type": "code",
   "execution_count": 26,
   "id": "199d5007",
   "metadata": {},
   "outputs": [
    {
     "name": "stdout",
     "output_type": "stream",
     "text": [
      "Classification Report: \n",
      "               precision    recall  f1-score   support\n",
      "\n",
      "           0       0.75      0.78      0.76      1000\n",
      "           1       0.87      0.87      0.87      1000\n",
      "           2       0.75      0.65      0.69      1000\n",
      "           3       0.52      0.69      0.59      1000\n",
      "           4       0.80      0.67      0.73      1000\n",
      "           5       0.73      0.65      0.69      1000\n",
      "           6       0.78      0.81      0.80      1000\n",
      "           7       0.80      0.81      0.81      1000\n",
      "           8       0.80      0.86      0.83      1000\n",
      "           9       0.87      0.78      0.82      1000\n",
      "\n",
      "    accuracy                           0.76     10000\n",
      "   macro avg       0.77      0.76      0.76     10000\n",
      "weighted avg       0.77      0.76      0.76     10000\n",
      "\n"
     ]
    }
   ],
   "source": [
    "print(\"Classification Report: \\n\", classification_report(y_test, y_classes))"
   ]
  },
  {
   "cell_type": "code",
   "execution_count": 27,
   "id": "7f7a2442",
   "metadata": {},
   "outputs": [
    {
     "data": {
      "image/png": "[encoded data removed]",
      "text/plain": [
       "<Figure size 432x288 with 1 Axes>"
      ]
     },
     "metadata": {
      "needs_background": "light"
     },
     "output_type": "display_data"
    }
   ],
   "source": [
    "plt.plot(history.history['accuracy'])\n",
    "plt.plot(history.history['val_accuracy'])\n",
    "plt.title('model accuracy')\n",
    "plt.ylabel('accuracy')\n",
    "plt.xlabel('epoch')\n",
    "plt.legend(['train', 'val'], loc='upper left')\n",
    "plt.show()"
   ]
  },
  {
   "cell_type": "code",
   "execution_count": 28,
   "id": "56b8c2dd",
   "metadata": {},
   "outputs": [
    {
     "data": {
      "image/png": "[encoded data removed]",
      "text/plain": [
       "<Figure size 432x288 with 1 Axes>"
      ]
     },
     "metadata": {
      "needs_background": "light"
     },
     "output_type": "display_data"
    }
   ],
   "source": [
    "plt.plot(history.history['loss'])\n",
    "plt.plot(history.history['val_loss'])\n",
    "plt.title('model loss')\n",
    "plt.ylabel('loss')\n",
    "plt.xlabel('epoch')\n",
    "plt.legend(['train', 'val'], loc='upper left')\n",
    "plt.show()"
   ]
  },
  {
   "cell_type": "markdown",
   "id": "54ed811e",
   "metadata": {},
   "source": [
    "# <span style= 'color:black'><h4> 2/ </h4> </span>\n",
    "---"
   ]
  },
  {
   "cell_type": "markdown",
   "id": "3bb254a1",
   "metadata": {},
   "source": [
    "->l accuracy pour train est 0.82 diminue un peu  tandis que 0.75 il augmente un peu pour validation a la 50 epochs sont trop proche ,de plus les deux courbe de loss de validation et train semble a etre presque confondue a certain epochs \n",
    ",presque overfitting commence a disparaitre "
   ]
  },
  {
   "cell_type": "markdown",
   "id": "f6db80e8",
   "metadata": {},
   "source": [
    "# <span style= 'color:black'><h4> 3/ </h4> </span>\n",
    "---"
   ]
  },
  {
   "cell_type": "markdown",
   "id": "08afa824",
   "metadata": {},
   "source": [
    "La régularisation du réseau a pour principal objectif de prévenir le sur apprentissage (overfitting). Celle ci, va pouvoir via différentes techniques, permettre de gérer les éventuels débordements des paramètres du réseau au cours de l’entrainement."
   ]
  },
  {
   "cell_type": "markdown",
   "id": "9ab4bbba",
   "metadata": {},
   "source": [
    "# <span style= 'color:black'><h4> 4/ </h4> </span>\n",
    "---"
   ]
  },
  {
   "cell_type": "markdown",
   "id": "b05ba931",
   "metadata": {},
   "source": [
    "-Dropout : On va souhaiter favoriser l’extraction de caractéristique de façon indépendante, afin d’apprendre des caractéristique plus général et plus diverse. Cela va consister à ‘éteindre’, à désactiver certains neurones du modèle, et ce de façon aléatoire d’une même couche, qui ne contribuera donc ni à la phase de feedforward, ni à la phase de backpropagation. D’un point de vue du réseau, cela revient à instancier la valeur en sortie d’une fonction d’activation à 0.\n",
    "Le Dropout est une technique permettant de réduire l’overfitting lors de l’entraînement du modèle.\n"
   ]
  },
  {
   "cell_type": "markdown",
   "id": "e487ff99",
   "metadata": {},
   "source": [
    "-L’idée est de perturber les caractéristiques apprises par le modèle. Habituellement, l’apprentissage du modèle repose sur la synchronicité des neurones… avec le Dropout, le modèle doit exploiter chaque neurone individuellement, ses voisins pouvant être désactivés aléatoirement à tout instant."
   ]
  },
  {
   "cell_type": "markdown",
   "id": "04ebe0e5",
   "metadata": {},
   "source": [
    "# <span style= 'color:black'><h4> 5/ </h4> </span>\n",
    "---"
   ]
  },
  {
   "cell_type": "markdown",
   "id": "4dbbf25d",
   "metadata": {},
   "source": [
    "-l'hyperparamètre est introduit qui spécifie la probabilité à laquelle les sorties de la couche sont supprimées, ou inversement, la probabilité à laquelle les sorties de la couche sont conservées."
   ]
  },
  {
   "cell_type": "markdown",
   "id": "33c7f202",
   "metadata": {},
   "source": [
    "-Le choix des neurones à désactiver est aléatoire. On attribue une probabilité p à tous les neurones qui détermine leur activation.\n",
    "Lorsque p = 0.2, chaque neurone a une  2  chance sur 10 d’être désactivé.\n",
    "À chaque epoch, on applique cette désactivation aléatoire. C’est-à-dire qu’à chaque passe (forward propagation) le modèle apprendra avec une configuration de neurones différentes, les neurones s’activant et se désactivant aléatoirement.\n",
    "Cette procédure génère effectivement des modèles légèrement différents avec des configurations de neurones différentes à chaque itération."
   ]
  },
  {
   "cell_type": "markdown",
   "id": "3675a544",
   "metadata": {},
   "source": [
    "# <span style= 'color:black'><h4> 6/ </h4> </span>\n",
    "---"
   ]
  },
  {
   "cell_type": "markdown",
   "id": "c40807c0",
   "metadata": {},
   "source": [
    "le Dropout est actif uniquement durant l’entraînement du modèle. Lors des tests, chaque neurone reste actif et son poids est multiplié par la probabilité p(notre cas p = 0.2 )."
   ]
  },
  {
   "cell_type": "markdown",
   "id": "8c9e736c",
   "metadata": {},
   "source": [
    "# <span style= 'color:blue'><h1> Partie 6: Utilisation de batch normalization:</h1> </span>\n",
    "---"
   ]
  },
  {
   "cell_type": "markdown",
   "id": "015ff8ae",
   "metadata": {},
   "source": [
    "# <span style= 'color:black'><h4> 1/ </h4> </span>\n",
    "---"
   ]
  },
  {
   "cell_type": "code",
   "execution_count": 19,
   "id": "b84674ba",
   "metadata": {},
   "outputs": [],
   "source": [
    "cnn = models.Sequential([\n",
    "    data_augmentation_train,\n",
    "  \n",
    "    layers.Conv2D(filters=32, kernel_size=(5,5), strides=1,activation='relu',padding='same', input_shape=(32, 32, 3)),\n",
    "    layers.BatchNormalization(),\n",
    "    layers.MaxPooling2D((2, 2),strides=2),\n",
    "    \n",
    "    layers.Conv2D(filters=64, kernel_size=(5, 5),strides=1, activation='relu',padding='same'),\n",
    "    layers.BatchNormalization(),\n",
    "    layers.MaxPooling2D((2, 2),strides=2),\n",
    "    \n",
    "    layers.Conv2D(filters=64, kernel_size=(5, 5), strides=1,activation='relu',padding='same'),\n",
    "    layers.BatchNormalization(),\n",
    "    layers.MaxPooling2D((2, 2),strides=2,padding='same'),\n",
    "    \n",
    "    layers.Flatten(),\n",
    "    layers.Dense(1000, activation='relu'),\n",
    "    layers.Dropout(0.2),#best 0.2 generalization\n",
    "    layers.Dense(10, activation='softmax')\n",
    "])"
   ]
  },
  {
   "cell_type": "code",
   "execution_count": 20,
   "id": "89910a55",
   "metadata": {},
   "outputs": [],
   "source": [
    "cnn.compile(optimizer='adam',\n",
    "              loss='sparse_categorical_crossentropy',\n",
    "              metrics=['accuracy'])"
   ]
  },
  {
   "cell_type": "code",
   "execution_count": 21,
   "id": "0760d04d",
   "metadata": {},
   "outputs": [
    {
     "name": "stdout",
     "output_type": "stream",
     "text": [
      "Epoch 1/50\n",
      "1563/1563 [==============================] - 16s 8ms/step - loss: 1.3949 - accuracy: 0.5079 - val_loss: 1.1094 - val_accuracy: 0.6124\n",
      "Epoch 2/50\n",
      "1563/1563 [==============================] - 11s 7ms/step - loss: 1.0068 - accuracy: 0.6460 - val_loss: 0.9260 - val_accuracy: 0.6834\n",
      "Epoch 3/50\n",
      "1563/1563 [==============================] - 11s 7ms/step - loss: 0.8620 - accuracy: 0.7024 - val_loss: 0.9063 - val_accuracy: 0.6968\n",
      "Epoch 4/50\n",
      "1563/1563 [==============================] - 11s 7ms/step - loss: 0.7877 - accuracy: 0.7288 - val_loss: 0.7818 - val_accuracy: 0.7298\n",
      "Epoch 5/50\n",
      "1563/1563 [==============================] - 11s 7ms/step - loss: 0.7135 - accuracy: 0.7521 - val_loss: 0.7545 - val_accuracy: 0.7433\n",
      "Epoch 6/50\n",
      "1563/1563 [==============================] - 11s 7ms/step - loss: 0.6644 - accuracy: 0.7698 - val_loss: 0.7105 - val_accuracy: 0.7578\n",
      "Epoch 7/50\n",
      "1563/1563 [==============================] - 11s 7ms/step - loss: 0.6262 - accuracy: 0.7835 - val_loss: 0.6841 - val_accuracy: 0.7695\n",
      "Epoch 8/50\n",
      "1563/1563 [==============================] - 11s 7ms/step - loss: 0.5899 - accuracy: 0.7965 - val_loss: 0.6831 - val_accuracy: 0.7682\n",
      "Epoch 9/50\n",
      "1563/1563 [==============================] - 11s 7ms/step - loss: 0.5549 - accuracy: 0.8087 - val_loss: 0.6719 - val_accuracy: 0.7743\n",
      "Epoch 10/50\n",
      "1563/1563 [==============================] - 11s 7ms/step - loss: 0.5252 - accuracy: 0.8173 - val_loss: 0.6123 - val_accuracy: 0.7965\n",
      "Epoch 11/50\n",
      "1563/1563 [==============================] - 11s 7ms/step - loss: 0.4975 - accuracy: 0.8249 - val_loss: 0.6338 - val_accuracy: 0.7885\n",
      "Epoch 12/50\n",
      "1563/1563 [==============================] - 11s 7ms/step - loss: 0.4783 - accuracy: 0.8330 - val_loss: 0.6136 - val_accuracy: 0.7969\n",
      "Epoch 13/50\n",
      "1563/1563 [==============================] - 11s 7ms/step - loss: 0.4571 - accuracy: 0.8424 - val_loss: 0.5971 - val_accuracy: 0.8046\n",
      "Epoch 14/50\n",
      "1563/1563 [==============================] - 11s 7ms/step - loss: 0.4363 - accuracy: 0.8492 - val_loss: 0.5887 - val_accuracy: 0.8090\n",
      "Epoch 15/50\n",
      "1563/1563 [==============================] - 11s 7ms/step - loss: 0.4255 - accuracy: 0.8520 - val_loss: 0.6066 - val_accuracy: 0.8059\n",
      "Epoch 16/50\n",
      "1563/1563 [==============================] - 11s 7ms/step - loss: 0.3996 - accuracy: 0.8599 - val_loss: 0.5821 - val_accuracy: 0.8099\n",
      "Epoch 17/50\n",
      "1563/1563 [==============================] - 11s 7ms/step - loss: 0.3903 - accuracy: 0.8662 - val_loss: 0.6433 - val_accuracy: 0.7984\n",
      "Epoch 18/50\n",
      "1563/1563 [==============================] - 11s 7ms/step - loss: 0.3776 - accuracy: 0.8686 - val_loss: 0.5796 - val_accuracy: 0.8123\n",
      "Epoch 19/50\n",
      "1563/1563 [==============================] - 11s 7ms/step - loss: 0.3659 - accuracy: 0.8734 - val_loss: 0.5779 - val_accuracy: 0.8147\n",
      "Epoch 20/50\n",
      "1563/1563 [==============================] - 11s 7ms/step - loss: 0.3495 - accuracy: 0.8778 - val_loss: 0.5897 - val_accuracy: 0.8154\n",
      "Epoch 21/50\n",
      "1563/1563 [==============================] - 11s 7ms/step - loss: 0.3389 - accuracy: 0.8816 - val_loss: 0.5801 - val_accuracy: 0.8104\n",
      "Epoch 22/50\n",
      "1563/1563 [==============================] - 11s 7ms/step - loss: 0.3232 - accuracy: 0.8863 - val_loss: 0.5869 - val_accuracy: 0.8196\n",
      "Epoch 23/50\n",
      "1563/1563 [==============================] - 11s 7ms/step - loss: 0.3172 - accuracy: 0.8890 - val_loss: 0.5816 - val_accuracy: 0.8183\n",
      "Epoch 24/50\n",
      "1563/1563 [==============================] - 12s 7ms/step - loss: 0.3017 - accuracy: 0.8939 - val_loss: 0.5831 - val_accuracy: 0.8173\n",
      "Epoch 25/50\n",
      "1563/1563 [==============================] - 11s 7ms/step - loss: 0.2989 - accuracy: 0.8958 - val_loss: 0.5962 - val_accuracy: 0.8190\n",
      "Epoch 26/50\n",
      "1563/1563 [==============================] - 11s 7ms/step - loss: 0.2901 - accuracy: 0.8995 - val_loss: 0.6011 - val_accuracy: 0.8177\n",
      "Epoch 27/50\n",
      "1563/1563 [==============================] - 11s 7ms/step - loss: 0.2794 - accuracy: 0.9023 - val_loss: 0.6258 - val_accuracy: 0.8161\n",
      "Epoch 28/50\n",
      "1563/1563 [==============================] - 11s 7ms/step - loss: 0.2755 - accuracy: 0.9036 - val_loss: 0.6171 - val_accuracy: 0.8213\n",
      "Epoch 29/50\n",
      "1563/1563 [==============================] - 11s 7ms/step - loss: 0.2686 - accuracy: 0.9072 - val_loss: 0.6131 - val_accuracy: 0.8185\n",
      "Epoch 30/50\n",
      "1563/1563 [==============================] - 11s 7ms/step - loss: 0.2577 - accuracy: 0.9102 - val_loss: 0.5920 - val_accuracy: 0.8250\n",
      "Epoch 31/50\n",
      "1563/1563 [==============================] - 11s 7ms/step - loss: 0.2543 - accuracy: 0.9114 - val_loss: 0.5540 - val_accuracy: 0.8305\n",
      "Epoch 32/50\n",
      "1563/1563 [==============================] - 11s 7ms/step - loss: 0.2490 - accuracy: 0.9140 - val_loss: 0.5956 - val_accuracy: 0.8288\n",
      "Epoch 33/50\n",
      "1563/1563 [==============================] - 11s 7ms/step - loss: 0.2443 - accuracy: 0.9161 - val_loss: 0.5874 - val_accuracy: 0.8249\n",
      "Epoch 34/50\n",
      "1563/1563 [==============================] - 11s 7ms/step - loss: 0.2371 - accuracy: 0.9174 - val_loss: 0.6049 - val_accuracy: 0.8243\n",
      "Epoch 35/50\n",
      "1563/1563 [==============================] - 11s 7ms/step - loss: 0.2295 - accuracy: 0.9196 - val_loss: 0.6207 - val_accuracy: 0.8180\n",
      "Epoch 36/50\n",
      "1563/1563 [==============================] - 12s 7ms/step - loss: 0.2260 - accuracy: 0.9222 - val_loss: 0.6172 - val_accuracy: 0.8321\n",
      "Epoch 37/50\n",
      "1563/1563 [==============================] - 11s 7ms/step - loss: 0.2164 - accuracy: 0.9234 - val_loss: 0.6722 - val_accuracy: 0.8224\n",
      "Epoch 38/50\n",
      "1563/1563 [==============================] - 11s 7ms/step - loss: 0.2222 - accuracy: 0.9230 - val_loss: 0.6391 - val_accuracy: 0.8272\n",
      "Epoch 39/50\n",
      "1563/1563 [==============================] - 11s 7ms/step - loss: 0.2140 - accuracy: 0.9251 - val_loss: 0.6657 - val_accuracy: 0.8238\n",
      "Epoch 40/50\n",
      "1563/1563 [==============================] - 11s 7ms/step - loss: 0.2060 - accuracy: 0.9287 - val_loss: 0.6281 - val_accuracy: 0.8287\n",
      "Epoch 41/50\n",
      "1563/1563 [==============================] - 12s 7ms/step - loss: 0.2052 - accuracy: 0.9294 - val_loss: 0.6764 - val_accuracy: 0.8238\n",
      "Epoch 42/50\n",
      "1563/1563 [==============================] - 11s 7ms/step - loss: 0.2042 - accuracy: 0.9298 - val_loss: 0.6434 - val_accuracy: 0.8259\n",
      "Epoch 43/50\n",
      "1563/1563 [==============================] - 11s 7ms/step - loss: 0.1974 - accuracy: 0.9317 - val_loss: 0.6277 - val_accuracy: 0.8265\n",
      "Epoch 44/50\n",
      "1563/1563 [==============================] - 11s 7ms/step - loss: 0.1896 - accuracy: 0.9346 - val_loss: 0.6330 - val_accuracy: 0.8235\n",
      "Epoch 45/50\n",
      "1563/1563 [==============================] - 11s 7ms/step - loss: 0.1911 - accuracy: 0.9343 - val_loss: 0.6457 - val_accuracy: 0.8271\n",
      "Epoch 46/50\n",
      "1563/1563 [==============================] - 11s 7ms/step - loss: 0.1831 - accuracy: 0.9351 - val_loss: 0.6806 - val_accuracy: 0.8302\n",
      "Epoch 47/50\n",
      "1563/1563 [==============================] - 11s 7ms/step - loss: 0.1858 - accuracy: 0.9354 - val_loss: 0.6453 - val_accuracy: 0.8261\n",
      "Epoch 48/50\n",
      "1563/1563 [==============================] - 11s 7ms/step - loss: 0.1819 - accuracy: 0.9366 - val_loss: 0.7206 - val_accuracy: 0.8285\n",
      "Epoch 49/50\n",
      "1563/1563 [==============================] - 11s 7ms/step - loss: 0.1789 - accuracy: 0.9385 - val_loss: 0.6175 - val_accuracy: 0.8291\n",
      "Epoch 50/50\n",
      "1563/1563 [==============================] - 12s 7ms/step - loss: 0.1720 - accuracy: 0.9408 - val_loss: 0.6337 - val_accuracy: 0.8344\n"
     ]
    }
   ],
   "source": [
    "history=cnn.fit(X_train_stand, y_train, epochs=50,validation_data=(X_test_stand, y_test))"
   ]
  },
  {
   "cell_type": "code",
   "execution_count": 22,
   "id": "ee5a1efc",
   "metadata": {},
   "outputs": [
    {
     "name": "stdout",
     "output_type": "stream",
     "text": [
      "Model: \"sequential_2\"\n",
      "_________________________________________________________________\n",
      " Layer (type)                Output Shape              Param #   \n",
      "=================================================================\n",
      " sequential (Sequential)     (None, 28, 28, 3)         0         \n",
      "                                                                 \n",
      " conv2d (Conv2D)             (None, 28, 28, 32)        2432      \n",
      "                                                                 \n",
      " batch_normalization (BatchN  (None, 28, 28, 32)       128       \n",
      " ormalization)                                                   \n",
      "                                                                 \n",
      " max_pooling2d (MaxPooling2D  (None, 14, 14, 32)       0         \n",
      " )                                                               \n",
      "                                                                 \n",
      " conv2d_1 (Conv2D)           (None, 14, 14, 64)        51264     \n",
      "                                                                 \n",
      " batch_normalization_1 (Batc  (None, 14, 14, 64)       256       \n",
      " hNormalization)                                                 \n",
      "                                                                 \n",
      " max_pooling2d_1 (MaxPooling  (None, 7, 7, 64)         0         \n",
      " 2D)                                                             \n",
      "                                                                 \n",
      " conv2d_2 (Conv2D)           (None, 7, 7, 64)          102464    \n",
      "                                                                 \n",
      " batch_normalization_2 (Batc  (None, 7, 7, 64)         256       \n",
      " hNormalization)                                                 \n",
      "                                                                 \n",
      " max_pooling2d_2 (MaxPooling  (None, 4, 4, 64)         0         \n",
      " 2D)                                                             \n",
      "                                                                 \n",
      " flatten (Flatten)           (None, 1024)              0         \n",
      "                                                                 \n",
      " dense (Dense)               (None, 1000)              1025000   \n",
      "                                                                 \n",
      " dropout (Dropout)           (None, 1000)              0         \n",
      "                                                                 \n",
      " dense_1 (Dense)             (None, 10)                10010     \n",
      "                                                                 \n",
      "=================================================================\n",
      "Total params: 1,191,810\n",
      "Trainable params: 1,191,490\n",
      "Non-trainable params: 320\n",
      "_________________________________________________________________\n"
     ]
    }
   ],
   "source": [
    "cnn.summary()"
   ]
  },
  {
   "cell_type": "code",
   "execution_count": 23,
   "id": "489f5e0c",
   "metadata": {},
   "outputs": [
    {
     "name": "stdout",
     "output_type": "stream",
     "text": [
      "313/313 [==============================] - 1s 4ms/step - loss: 0.6337 - accuracy: 0.8344\n"
     ]
    },
    {
     "data": {
      "text/plain": [
       "[0.6337482929229736, 0.8343999981880188]"
      ]
     },
     "execution_count": 23,
     "metadata": {},
     "output_type": "execute_result"
    }
   ],
   "source": [
    "cnn.evaluate(X_test_stand,y_test)"
   ]
  },
  {
   "cell_type": "code",
   "execution_count": 24,
   "id": "34710875",
   "metadata": {},
   "outputs": [],
   "source": [
    "y_pred=cnn.predict(X_test_stand)"
   ]
  },
  {
   "cell_type": "code",
   "execution_count": 25,
   "id": "b31b5822",
   "metadata": {},
   "outputs": [
    {
     "name": "stdout",
     "output_type": "stream",
     "text": [
      "class_predict :  [3, 8, 8, 0, 6, 6, 1, 6, 3, 1]\n",
      "class_juste :  [3 8 8 0 6 6 1 6 3 1]\n"
     ]
    }
   ],
   "source": [
    "y_classes=[np.argmax(item) for item in y_pred]\n",
    "print(\"class_predict : \",y_classes[:10])\n",
    "print(\"class_juste : \",y_test[:10])"
   ]
  },
  {
   "cell_type": "code",
   "execution_count": 26,
   "id": "64fe5c4d",
   "metadata": {},
   "outputs": [
    {
     "name": "stdout",
     "output_type": "stream",
     "text": [
      "Classification Report: \n",
      "               precision    recall  f1-score   support\n",
      "\n",
      "           0       0.83      0.86      0.85      1000\n",
      "           1       0.95      0.88      0.91      1000\n",
      "           2       0.79      0.78      0.79      1000\n",
      "           3       0.69      0.70      0.70      1000\n",
      "           4       0.78      0.85      0.82      1000\n",
      "           5       0.80      0.73      0.76      1000\n",
      "           6       0.89      0.85      0.87      1000\n",
      "           7       0.89      0.86      0.87      1000\n",
      "           8       0.87      0.91      0.89      1000\n",
      "           9       0.86      0.91      0.88      1000\n",
      "\n",
      "    accuracy                           0.83     10000\n",
      "   macro avg       0.84      0.83      0.83     10000\n",
      "weighted avg       0.84      0.83      0.83     10000\n",
      "\n"
     ]
    }
   ],
   "source": [
    "print(\"Classification Report: \\n\", classification_report(y_test, y_classes))"
   ]
  },
  {
   "cell_type": "code",
   "execution_count": 27,
   "id": "95bd8e39",
   "metadata": {},
   "outputs": [
    {
     "data": {
      "image/png": "[encoded data removed]",
      "text/plain": [
       "<Figure size 432x288 with 1 Axes>"
      ]
     },
     "metadata": {
      "needs_background": "light"
     },
     "output_type": "display_data"
    }
   ],
   "source": [
    "plt.plot(history.history['accuracy'])\n",
    "plt.plot(history.history['val_accuracy'])\n",
    "plt.title('model accuracy')\n",
    "plt.ylabel('accuracy')\n",
    "plt.xlabel('epoch')\n",
    "plt.legend(['train', 'val'], loc='upper left')\n",
    "plt.show()"
   ]
  },
  {
   "cell_type": "code",
   "execution_count": 28,
   "id": "8a064361",
   "metadata": {},
   "outputs": [
    {
     "data": {
      "image/png": "[encoded data removed]",
      "text/plain": [
       "<Figure size 432x288 with 1 Axes>"
      ]
     },
     "metadata": {
      "needs_background": "light"
     },
     "output_type": "display_data"
    }
   ],
   "source": [
    "plt.plot(history.history['loss'])\n",
    "plt.plot(history.history['val_loss'])\n",
    "plt.title('model loss')\n",
    "plt.ylabel('loss')\n",
    "plt.xlabel('epoch')\n",
    "plt.legend(['train', 'val'], loc='upper left')\n",
    "plt.show()"
   ]
  },
  {
   "cell_type": "markdown",
   "id": "7710ef3b",
   "metadata": {},
   "source": [
    "# <span style= 'color:black'><h4> 2/ </h4> </span>\n",
    "---"
   ]
  },
  {
   "cell_type": "markdown",
   "id": "76d1092e",
   "metadata": {},
   "source": [
    "batch Normalisation est  une technique qui permet de faciliter l'entraînement des réseaux de neurones. Elle présente deux avantages majeurs : taux d'apprentissage (learni g rate) plus élevé et baisse de l'importance des paramètres d'initialisation du réseau. Ce qui veut dire que concrètement le réseau apprend plus vite avec moins de ressources consommées.\n",
    "\n",
    "L'idée générale est que les poids optimaux des neurones du réseau sont calculés après que plusieurs \"exemples aient été montrés au réseau\" (batch) et en normalisant les valeurs qui sont entrées dans les neurones. Cette normalisation se fait une fois par batch en faisant en sorte que les valeurs d'entrée soient entre des minimums et des maximum acceptables."
   ]
  },
  {
   "cell_type": "markdown",
   "id": "21b42544",
   "metadata": {},
   "source": [
    "-> l accuracy est amelioree pour  train 0.94 et 0.84 pour validation pour la 50 epochs ,les deux valeur reste trop proche ,le loss diminue pour la validation tandis que il reste encore tends vers valeur proche de 0 pour train ,encore les deux \n",
    "courbe semble a etre presque confondue pour le loss a partir d un certain epochs ,on a ameliorer les resultats en s eloignant toujours de sur-apprentissage"
   ]
  },
  {
   "cell_type": "markdown",
   "id": "b8dce9d9",
   "metadata": {},
   "source": [
    "->meilleur resulats de loss 0.6 pour validation et 0.1 pour train ,et de accuracy 0.94 train et 0.84 validation en evitant mieux l overfitting  "
   ]
  },
  {
   "cell_type": "markdown",
   "id": "ab7f5bac",
   "metadata": {},
   "source": [
    "# <span style= 'color:red'><h1> FIN</h1> </span>\n",
    "---"
   ]
  }
 ],
 "metadata": {
  "kernelspec": {
   "display_name": "Python 3 (ipykernel)",
   "language": "python",
   "name": "python3"
  },
  "language_info": {
   "codemirror_mode": {
    "name": "ipython",
    "version": 3
   },
   "file_extension": ".py",
   "mimetype": "text/x-python",
   "name": "python",
   "nbconvert_exporter": "python",
   "pygments_lexer": "ipython3",
   "version": "3.9.7"
  }
 },
 "nbformat": 4,
 "nbformat_minor": 5
}
