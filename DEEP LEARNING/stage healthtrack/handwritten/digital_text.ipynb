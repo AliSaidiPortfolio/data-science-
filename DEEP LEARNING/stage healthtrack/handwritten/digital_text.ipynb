{
 "cells": [
  {
   "cell_type": "code",
   "execution_count": 58,
   "id": "abf16396",
   "metadata": {},
   "outputs": [],
   "source": [
    "import os\n",
    "import easyocr\n",
    "import cv2\n",
    "from matplotlib import pyplot as plt\n",
    "import numpy as np"
   ]
  },
  {
   "cell_type": "code",
   "execution_count": 64,
   "id": "24a26d3e",
   "metadata": {},
   "outputs": [],
   "source": [
    "IMAGE_PATH = 'eng2.jpg'"
   ]
  },
  {
   "cell_type": "code",
   "execution_count": 65,
   "id": "0606d2fe",
   "metadata": {},
   "outputs": [
    {
     "name": "stderr",
     "output_type": "stream",
     "text": [
      "CUDA not available - defaulting to CPU. Note: This module is much faster with a GPU.\n"
     ]
    },
    {
     "data": {
      "text/plain": [
       "[[[[285, 75], [483, 75], [483, 119], [285, 119]], 'Ma_maison'],\n",
       " [[[70, 161], [674, 161], [674, 190], [70, 190]],\n",
       "  'Jhabite dans une tres grande vieille maison a la campagne_'],\n",
       " [[[70, 210], [678, 210], [678, 241], [70, 241]],\n",
       "  \"Y a vingt pieces, un grand jardin avec beaucoup d'arbres et\"],\n",
       " [[[70, 260], [670, 260], [670, 292], [70, 292]],\n",
       "  'de fleurs et une piscine: Ily a quatre etages avec le SOUS-sol'],\n",
       " [[[70, 310], [198, 310], [198, 340], [70, 340]], 'et le grenier.'],\n",
       " [[[585, 1025], [719, 1025], [719, 1041], [585, 1041]], 'ASLCollective com']]"
      ]
     },
     "execution_count": 65,
     "metadata": {},
     "output_type": "execute_result"
    }
   ],
   "source": [
    "reader = easyocr.Reader(['en'])\n",
    "result = reader.readtext(IMAGE_PATH,paragraph=\"False\")\n",
    "result"
   ]
  },
  {
   "cell_type": "code",
   "execution_count": 66,
   "id": "53ef5202",
   "metadata": {},
   "outputs": [
    {
     "data": {
      "text/plain": [
       "-1"
      ]
     },
     "execution_count": 66,
     "metadata": {},
     "output_type": "execute_result"
    }
   ],
   "source": [
    "img = cv2.imread(IMAGE_PATH)\n",
    "for res in result:\n",
    "    top_left = tuple(res[0][0])\n",
    "    bottom_right = tuple(res[0][2])\n",
    "    #text = res[1]\n",
    "    text='digital_text'\n",
    "    img = cv2.rectangle(img,top_left,bottom_right,(0,255,0),3)\n",
    "    img = cv2.putText(img,text,(top_left[0],top_left[1]-5), cv2.FONT_HERSHEY_SIMPLEX,1,(0,255,0))\n",
    "\n",
    "cv2.imshow(\"Image\", img)\n",
    "cv2.waitKey(0)"
   ]
  },
  {
   "cell_type": "code",
   "execution_count": null,
   "id": "cb8c3408",
   "metadata": {},
   "outputs": [],
   "source": []
  },
  {
   "cell_type": "code",
   "execution_count": null,
   "id": "e12061f8",
   "metadata": {},
   "outputs": [],
   "source": []
  }
 ],
 "metadata": {
  "kernelspec": {
   "display_name": "Python 3 (ipykernel)",
   "language": "python",
   "name": "python3"
  },
  "language_info": {
   "codemirror_mode": {
    "name": "ipython",
    "version": 3
   },
   "file_extension": ".py",
   "mimetype": "text/x-python",
   "name": "python",
   "nbconvert_exporter": "python",
   "pygments_lexer": "ipython3",
   "version": "3.9.7"
  }
 },
 "nbformat": 4,
 "nbformat_minor": 5
}
